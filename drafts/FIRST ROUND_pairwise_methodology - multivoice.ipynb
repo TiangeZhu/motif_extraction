{
 "cells": [
  {
   "cell_type": "markdown",
   "metadata": {
    "pycharm": {
     "name": "#%% md\n"
    }
   },
   "source": []
  },
  {
   "cell_type": "markdown",
   "metadata": {
    "pycharm": {
     "name": "#%% md\n"
    }
   },
   "source": [
    "Testing 'final' DD version of methodology:\n",
    "\n",
    "This version involves:\n",
    "-- Pairwise sequence alignment between two scale degree sequences\n",
    "-- Extraction of alignment subsequences, which are filtered by frequency and length.\n",
    "-- These are then inputted into a modified LCSS function, the output is counted and filtered\n",
    "-- The outputs are processed via a maximal frequent pattern function\n",
    "-- We are left with a small number of (ideally) musicially-significant subsequences\n",
    "\n",
    "Beat strength weighting of pattern frequency counts was tested\n",
    "but not retained in this version as it boosted prominence of very short patterns at the expense of all others.\n",
    "This is not necessarily discarded but will need to be approached differently if it is to be of use."
   ]
  },
  {
   "cell_type": "code",
   "execution_count": 1150,
   "metadata": {
    "pycharm": {
     "name": "#%%\n"
    }
   },
   "outputs": [],
   "source": [
    "# Step 1: Read input data:\n",
    "import music21 as m21\n",
    "import re\n",
    "from collections import Counter\n",
    "from swalign_local import *\n",
    "import csv\n",
    "import glob\n",
    "\n",
    "score_path = \"jkupddtest/bachmono/wtc2f20.krn\"\n",
    "#score_path = \"jkupddtest/beethovenmono/sonata01-3.krn\"\n",
    "#score_path = \"jkupddtest/mozartmono/sonata04-2.krn\"\n",
    "#score_path = \"jkupddtest/gibbonsmono/silverswan.krn\"\n",
    "#score_path = \"jkupddtest/chopinmono/mazurka24-4.krn\"\n",
    "#score_path = '~/facets-search-engine/data/Beethoven9thOdeToJoy.xml'\n",
    "\n",
    "raw_score = m21.converter.parse(score_path)\n",
    "num_of_parts = len(raw_score.parts)"
   ]
  },
  {
   "cell_type": "code",
   "execution_count": 1151,
   "metadata": {},
   "outputs": [
    {
     "data": {
      "text/plain": [
       "3"
      ]
     },
     "execution_count": 1151,
     "metadata": {},
     "output_type": "execute_result"
    }
   ],
   "source": [
    "num_of_parts"
   ]
  },
  {
   "cell_type": "code",
   "execution_count": 1152,
   "metadata": {},
   "outputs": [],
   "source": [
    "voices = []\n",
    "for part in raw_score.parts:\n",
    "    voices.append(part)"
   ]
  },
  {
   "cell_type": "code",
   "execution_count": 1189,
   "metadata": {
    "pycharm": {
     "name": "#%%\n"
    }
   },
   "outputs": [],
   "source": [
    "# Step 2: Get diatonic scale degree sequence from all voices\n",
    "def get_diatonic_scale_degree(voice):\n",
    "    # get key / root information:\n",
    "    roots = [key.tonic for key in voice.recurse().getElementsByClass(m21.key.Key)]\n",
    "    diatonic_root = roots[0].diatonicNoteNum if roots != [] else voice.analyze('key').tonic.diatonicNoteNum\n",
    "    #print(diatonic_root)\n",
    "\n",
    "    # get diatonic scale degree seq:\n",
    "    diatonic_note_number = []\n",
    "    diatonic_scale_degree = []\n",
    "    diatonic_pitch_scale = []\n",
    "    noteoffset = []\n",
    "    midi = []\n",
    "    #timesig = m21_score.getContextByClass(m21.meter.TimeSignature)\n",
    "    #barlength = timesig.barduration\n",
    "\n",
    "    onset = 0\n",
    "    for thisnote in voice.recurse().notes:\n",
    "        onset += thisnote.offset\n",
    "        if thisnote.isNote:\n",
    "            diatonic = float(thisnote.pitch.diatonicNoteNum)\n",
    "            diatonic_note_number.append(diatonic)\n",
    "            noteoffset.append(onset)\n",
    "            midi.append(thisnote.pitch.midi)\n",
    "            diatonic_pitch_scale.append(int(diatonic % 7 +1))\n",
    "            #\"duration:\", thisnote.duration.quarterLength)\n",
    "            #beatstrength.append(thisnote.beatStrength)\n",
    "            #print(\"offset:\", thisnote.offset, \"beat strength\", thisnote.beatStrength)\n",
    "        elif thisnote.isChord:\n",
    "            # if it is a chord, only take the root\n",
    "            diatonic = float(thisnote.root().diatonicNoteNum)\n",
    "            diatonic_note_number.append(diatonic)\n",
    "            #beatstrength.append(thisnote.beatStrength)\n",
    "            noteoffset.append(onset) #thisnote.offset\n",
    "            midi.append(thisnote.root().midi)\n",
    "            diatonic_pitch_scale.append(int(diatonic % 7 +1))\n",
    "        # TODO: if it is a rest take the scale degree of the previous note\n",
    "\n",
    "    # Calculate diatonic scale degree of each note and save in a list\n",
    "    for note_num in diatonic_note_number:\n",
    "            relative_diatonic_pitch = note_num - diatonic_root\n",
    "            temp = int(relative_diatonic_pitch % 7) + 1\n",
    "            diatonic_scale_degree.append(temp)\n",
    "            \n",
    "    # transform the list of diatonic scale degrees into string format for alignment\n",
    "    # USE DIATONIC PITCH SCALE INSTEAD OF SCALE DEGREE\n",
    "    #print(len(diatonic_scale_degree), len(diatonic_pitch_scale))\n",
    "    string = \"\"\n",
    "    for i in diatonic_pitch_scale:\n",
    "        string += str(i)\n",
    "        \n",
    "    return string, noteoffset, midi\n"
   ]
  },
  {
   "cell_type": "code",
   "execution_count": 1190,
   "metadata": {},
   "outputs": [
    {
     "name": "stdout",
     "output_type": "stream",
     "text": [
      "211\n",
      "4256314275316427122234543212176576543455432123321767117126475566567123456762375164275345654324567176543212176543221147773351361143217246532123654751264753536427531642212345671765432143217654765432175456656771467\n",
      "243\n",
      "762375164275316476776543543212332176711765456656771232176671217655554567654333456543262573513536273112212321551432172176567765434554321233234316445676543513256314276543572165456217123323146247773513663167176543231767432176532176543412321235612\n",
      "306\n",
      "425631427534432172176567765434554321233234456765433456543234543455136147564567653654715364455456473142753425735144567654375364777123217676543217765435432123321767117654566567122123455456711712344345677671123217656717654566543234432171221234554321233217671171223454321123432171234567765432563142746543454347\n"
     ]
    }
   ],
   "source": [
    "strings = []\n",
    "noteoffsets = []\n",
    "midis = []\n",
    "for voice in voices:\n",
    "    string, noteoffset, midi = get_diatonic_scale_degree(voice)\n",
    "    strings.append(string)\n",
    "    noteoffsets.append(noteoffset)\n",
    "    midis.append(midi)\n",
    "    print(len(string))\n",
    "    print(string)\n",
    "    #print(midi)"
   ]
  },
  {
   "cell_type": "code",
   "execution_count": 1155,
   "metadata": {
    "pycharm": {
     "name": "#%%\n"
    }
   },
   "outputs": [],
   "source": [
    "# Smith-Waterman alignment between the two input sequences\n",
    "def swm_alignment(string1, string2):\n",
    "    match = 2\n",
    "    mismatch = -2\n",
    "    scoring = NucleotideScoringMatrix(match, mismatch)\n",
    "    sw = LocalAlignment(scoring)#, gap_extension_penalty = -5) \n",
    "    \n",
    "    alignment = sw.align(string1, string2)\n",
    "    alignment_strings = alignment.dump()\n",
    "\n",
    "    simi_score = alignment.matches / (alignment.mismatches + alignment.matches)\n",
    "    \n",
    "    return alignment_strings, simi_score\n"
   ]
  },
  {
   "cell_type": "code",
   "execution_count": 1156,
   "metadata": {},
   "outputs": [],
   "source": [
    "def filter_and_gather_patterns(allthepatterns, fullseq):\n",
    "    pat = fullseq.split('-')\n",
    "    print(\"num of pat in this seq:\", len(pat))\n",
    "    for pattern in pat:\n",
    "        # Get rid of the sequence shorter than 4; combine all alignment patterns into all pattern list\n",
    "        if len(pattern) > 3:\n",
    "            allthepatterns.append(pattern)\n",
    "    return allthepatterns"
   ]
  },
  {
   "cell_type": "code",
   "execution_count": 1157,
   "metadata": {},
   "outputs": [
    {
     "name": "stdout",
     "output_type": "stream",
     "text": [
      "Query:  54 5427-72453275-3--332357--53277723-532757---53773473-75------5274466467322227--53---27327545--7---75421---------2442164611612745-2235753273475317425---75327473253235517245--53-5125--67-7--777345557-467--2753275--7-421227542167542164344576467 239\n",
      "           | || | || | | |  || |||  ||| .|.| ||.|||   || .|..| ||      ||||||||||  |..|  ||   ||| | ||  |   ||..|         | .|.||     || | || .| .||  |  |  ||   ||||||||.||||||||  |  .| || |  .| |  ..||...|| |.|  |||||||  | ||   ||.|  ||||   |.| .||||\n",
      "Ref  :   5 5-2737-45-2-5237233-35717532-1753153175711753-235532757227235274466467--23572453165273-7-45157131753713565317532-32764-----27-5322-27-727--7--1--2562275327473153235517--51643751-5153737152673323572457542753275327642---7532--7542---324-66467 206\n",
      "\n",
      "num of pat in this seq: 55\n",
      "num of pat in this seq: 39\n",
      "Query:  74 7457275275426527446646742---2647413-6562-36446724--27-6425-71422245----754212164276427542542767227---6---43--466431613-3--13467-1612456467244245-----7----227--2357-757135--753275723275457---7542124421646 234\n",
      "           | |||  ||  |.|||||||||| |   | |  .| || | |    | |  .| ...| ||    .|    ||.|.|    ||||||.| .|| ||.|   |   .|  |  .|| .| |  |   | ||  |   .|     |     |    |.|  |||| .||  |  ||||||  |||.|.|   ||||.| | .|||\n",
      "Ref  :  50 7-572--27--235274466467-23572-4--53165-273----7-4515713175371----356531753232----76427532-227-7277125622753274--731-5323551---7516--4---37-----515153737152673323572457--542753275--3276427532754232-4-6646 205\n",
      "\n",
      "num of pat in this seq: 43\n",
      "num of pat in this seq: 48\n",
      "Query: 189 42457227235775-713575327572327545775421244216461161-245-5427672---27--6424664675----723--275------467----2-4276467-2461221642753264746276467 302\n",
      "           || | |.| | |.| | ..|||||   |||||||||||||||||||||||| ||| |||| ||   ||  ..|   ..||    |||  |||      | |    | |..|||| |   ||   |||||  | .||.|.|\n",
      "Ref  :   6 42-5-267-3-74527-6275327---327545775421244216461161224575427-724532753332---35753277723532757537734-7375527446646732---22---27532--7-3275457 123\n",
      "\n",
      "num of pat in this seq: 27\n",
      "num of pat in this seq: 23\n"
     ]
    }
   ],
   "source": [
    "# compare each pair of voices!\n",
    "allthepatterns = []\n",
    "\n",
    "for i in range(0, len(voices)-1):\n",
    "    for j in range(i+1, len(voices)):\n",
    "        alignment_strings, simi_score = swm_alignment(strings[i], strings[j])\n",
    "        if simi_score < 0.25:\n",
    "            print(\"ignoring voice pair:\", i, j)\n",
    "            # if two voices are very different, getting patterns from their alignment won't make sense\n",
    "            continue\n",
    "        # get the patterns from the first voice of this pair\n",
    "        fullseq1 = alignment_strings[0]\n",
    "        fullseq2 = alignment_strings[1]\n",
    "        allthepatterns = filter_and_gather_patterns(allthepatterns, fullseq1)\n",
    "        allthepatterns = filter_and_gather_patterns(allthepatterns, fullseq2)\n",
    "        "
   ]
  },
  {
   "cell_type": "code",
   "execution_count": 1158,
   "metadata": {
    "pycharm": {
     "name": "#%%\n"
    }
   },
   "outputs": [],
   "source": [
    "allthepattern_count = dict(Counter(allthepatterns))\n",
    "# elimiate the repeated strings\n",
    "\n",
    "allthepatterns = list(set(allthepatterns))"
   ]
  },
  {
   "cell_type": "code",
   "execution_count": 1159,
   "metadata": {
    "pycharm": {
     "name": "#%%\n"
    }
   },
   "outputs": [],
   "source": [
    "def count_substringandparents(allthepatterns, allthepattern_count):\n",
    "    \n",
    "    issubstring = {}\n",
    "    hassubstring = {}\n",
    "    count_as_substring = {}\n",
    "    count_as_parent = {}\n",
    "\n",
    "    for i in range(0, len(allthepatterns)-1):\n",
    "        for j in range(i+1, len(allthepatterns)):\n",
    "            if allthepatterns[i] in allthepatterns[j]:\n",
    "                parent = allthepatterns[j]\n",
    "                kid = allthepatterns[i]\n",
    "                times = parent.count(kid)\n",
    "\n",
    "                if kid not in issubstring:\n",
    "                    issubstring[kid] = 1\n",
    "                    count_as_substring[kid] = times * allthepattern_count[parent]\n",
    "                else:\n",
    "                    issubstring[kid] += 1\n",
    "                    count_as_substring[kid] += times * allthepattern_count[parent]\n",
    "\n",
    "                if parent not in hassubstring:\n",
    "                    hassubstring[parent] = 1\n",
    "                    count_as_parent[parent] = 1#times\n",
    "                else:\n",
    "                    hassubstring[parent] += 1\n",
    "                    count_as_parent[parent] += 1 \n",
    "\n",
    "            elif allthepatterns[j] in allthepatterns[i]:\n",
    "                parent = allthepatterns[i]\n",
    "                kid = allthepatterns[j]\n",
    "                times = parent.count(kid)\n",
    "\n",
    "                if kid not in issubstring:\n",
    "                    issubstring[kid] =1\n",
    "                    count_as_substring[kid] = times * allthepattern_count[parent]\n",
    "                else:\n",
    "                    issubstring[kid] += 1\n",
    "                    count_as_substring[kid] += times * allthepattern_count[parent]\n",
    "\n",
    "                if parent not in hassubstring:\n",
    "                    hassubstring[parent] = 1\n",
    "                    count_as_parent[parent] = 1 #times\n",
    "                else:\n",
    "                    hassubstring[parent] += 1\n",
    "                    count_as_parent[parent] += 1 #times\n",
    "\n",
    "    return issubstring, hassubstring, count_as_substring, count_as_parent\n"
   ]
  },
  {
   "cell_type": "code",
   "execution_count": 1160,
   "metadata": {},
   "outputs": [],
   "source": [
    "issubstring, hassubstring, count_as_substring, count_as_parent = count_substringandparents(allthepatterns, allthepattern_count)"
   ]
  },
  {
   "cell_type": "code",
   "execution_count": 1161,
   "metadata": {
    "pycharm": {
     "name": "#%%\n"
    }
   },
   "outputs": [
    {
     "name": "stdout",
     "output_type": "stream",
     "text": [
      "37\n",
      "25\n"
     ]
    }
   ],
   "source": [
    "# rank the ones that are substrings of another detected pattern\n",
    "sortis = dict(Counter(issubstring))\n",
    "sorthas = dict(Counter(hassubstring))\n",
    "print(len(sorthas))\n",
    "print(len(sortis))"
   ]
  },
  {
   "cell_type": "code",
   "execution_count": 1162,
   "metadata": {
    "pycharm": {
     "name": "#%%\n"
    }
   },
   "outputs": [],
   "source": [
    "# This counts the times each pattern appeared after original segmentation plus the times they are in other patterns,\n",
    "# plus the times other patterns showed up in them.\n",
    "\n",
    "def combined_count(sorthas, sortis, count_as_parent, count_as_substring, allthepattern_count):\n",
    "    refined_combined = {}\n",
    "\n",
    "    for item in sorthas:\n",
    "        if item in sortis:\n",
    "            # the ones that has substring and also are the substrings\n",
    "            refined_combined[item] = count_as_parent[item] + count_as_substring[item] + allthepattern_count[item]\n",
    "        else:\n",
    "            # the ones that has substrings\n",
    "            refined_combined[item] = count_as_parent[item] + allthepattern_count[item]\n",
    "    # the patterns that are substrings of other patterns but none of the others are substrings of it\n",
    "    for item in sortis:\n",
    "        if item not in refined_combined:\n",
    "            refined_combined[item] = count_as_substring[item] + allthepattern_count[item]\n",
    "        # otherwise is already counted\n",
    "    \n",
    "    return refined_combined\n",
    "\n",
    "combined = combined_count(sorthas, sortis, count_as_parent, count_as_substring, allthepattern_count)"
   ]
  },
  {
   "cell_type": "code",
   "execution_count": 1163,
   "metadata": {
    "pycharm": {
     "name": "#%%\n"
    }
   },
   "outputs": [
    {
     "data": {
      "text/plain": [
       "{'35753277723532757537734': 4,\n",
       " '5427672': 3,\n",
       " '754212164276427542542767227': 5,\n",
       " '542753275': 6,\n",
       " '5153737152673323572457542753275327642': 11,\n",
       " '327545775421244216461161224575427': 6,\n",
       " '35717532': 2,\n",
       " '6424664675': 3,\n",
       " '7457275275426527446646742': 4,\n",
       " '235274466467': 4,\n",
       " '7375527446646732': 3,\n",
       " '5274466467322227': 3,\n",
       " '235532757227235274466467': 5,\n",
       " '66467': 8,\n",
       " '515153737152673323572457': 4,\n",
       " '23572453165273': 4,\n",
       " '2235753273475317425': 3,\n",
       " '42457227235775': 2,\n",
       " '332357': 4,\n",
       " '23572': 5,\n",
       " '421227542167542164344576467': 3,\n",
       " '753275723275457': 5,\n",
       " '713575327572327545775421244216461161': 8,\n",
       " '2753275': 6,\n",
       " '3276427532754232': 7,\n",
       " '356531753232': 2,\n",
       " '75327473253235517245': 3,\n",
       " '76427532': 4,\n",
       " '45157131753713565317532': 3,\n",
       " '27532': 11,\n",
       " '6275327': 3,\n",
       " '7277125622753274': 3,\n",
       " '2461221642753264746276467': 3,\n",
       " '2562275327473153235517': 4,\n",
       " '75421': 8,\n",
       " '7542124421646': 5,\n",
       " '724532753332': 2,\n",
       " '53277723': 2,\n",
       " '7532': 20,\n",
       " '532757': 5,\n",
       " '5427': 6,\n",
       " '6646': 8,\n",
       " '2357': 8,\n",
       " '7542': 13,\n",
       " '3275457': 4,\n",
       " '32764': 3,\n",
       " '5323551': 3,\n",
       " '4515713175371': 2,\n",
       " '53165': 2,\n",
       " '72453275': 2}"
      ]
     },
     "execution_count": 1163,
     "metadata": {},
     "output_type": "execute_result"
    }
   ],
   "source": [
    "dict(Counter(combined))"
   ]
  },
  {
   "cell_type": "code",
   "execution_count": 1164,
   "metadata": {},
   "outputs": [],
   "source": [
    "def filter_combined_patterns(combined):\n",
    "    \n",
    "    finalpattern = []\n",
    "    for i in combined: \n",
    "\n",
    "        if len(i) < 3:\n",
    "            # if the length is shorter than 4 notes, discard\n",
    "            continue\n",
    "\n",
    "        if combined[i] > 1:\n",
    "            # keep the ones that has substring or is substring more than once\n",
    "            finalpattern.append(i)\n",
    "            \n",
    "    finalpattern_combined = {}\n",
    "        \n",
    "    for thisone in finalpattern:\n",
    "        finalpattern_combined[thisone] = combined[thisone]\n",
    "\n",
    "    #dict(Counter(finalpattern_combined))\n",
    "    \"\"\"\n",
    "    # commented for testing\n",
    "    if len(finalpattern) > 20:\n",
    "        # if more than 20 patterns, only take the top 20\n",
    "        finalpattern_combined = dict(sorted(finalpattern_combined.items(), key = lambda x:-x[1], reverse = True)[-20:])\n",
    "    \"\"\"\n",
    "    return finalpattern_combined\n"
   ]
  },
  {
   "cell_type": "code",
   "execution_count": 1165,
   "metadata": {},
   "outputs": [],
   "source": [
    "# filter out the short ones\n",
    "top20patterns_combined = filter_combined_patterns(combined)"
   ]
  },
  {
   "cell_type": "code",
   "execution_count": 1166,
   "metadata": {},
   "outputs": [
    {
     "name": "stdout",
     "output_type": "stream",
     "text": [
      "{'35753277723532757537734': 4, '5427672': 3, '754212164276427542542767227': 5, '542753275': 6, '5153737152673323572457542753275327642': 11, '327545775421244216461161224575427': 6, '35717532': 2, '6424664675': 3, '7457275275426527446646742': 4, '235274466467': 4, '7375527446646732': 3, '5274466467322227': 3, '235532757227235274466467': 5, '66467': 8, '515153737152673323572457': 4, '23572453165273': 4, '2235753273475317425': 3, '42457227235775': 2, '332357': 4, '23572': 5, '421227542167542164344576467': 3, '753275723275457': 5, '713575327572327545775421244216461161': 8, '2753275': 6, '3276427532754232': 7, '356531753232': 2, '75327473253235517245': 3, '76427532': 4, '45157131753713565317532': 3, '27532': 11, '6275327': 3, '7277125622753274': 3, '2461221642753264746276467': 3, '2562275327473153235517': 4, '75421': 8, '7542124421646': 5, '724532753332': 2, '53277723': 2, '7532': 20, '532757': 5, '5427': 6, '6646': 8, '2357': 8, '7542': 13, '3275457': 4, '32764': 3, '5323551': 3, '4515713175371': 2, '53165': 2, '72453275': 2}\n"
     ]
    }
   ],
   "source": [
    "print(dict(Counter(top20patterns_combined)))"
   ]
  },
  {
   "cell_type": "code",
   "execution_count": 1167,
   "metadata": {},
   "outputs": [],
   "source": [
    "def reduce_pattern_length(seq):\n",
    "        # the function returns the longest substring that appeared at least once\n",
    "        # if there is length 4 substring repeated 4 times and a length 7 substring repeated 2 times, we take the length 7\n",
    "        best_performance = \"\"\n",
    "        candidates = []\n",
    "        for length in range(int(0.3*len(seq)), int(len(seq)*0.5)+1): \n",
    "            for start in range(0, len(seq)-length):\n",
    "                # get all the substrings of this length within the string, save in candidates\n",
    "                candidates.append(seq[start:start+length])\n",
    "        count_can = {}\n",
    "        for candidate in candidates:\n",
    "                count_can[candidate] = seq.count(candidate)\n",
    "                if count_can[candidate] > 1:\n",
    "                    # if it is repeated more than once in the string\n",
    "                    if len(candidate) > len(best_performance):\n",
    "                        best_performance = candidate\n",
    "                    elif len(candidate) == len(best_performance) and count_can[candidate] > count_can[best_performance]:\n",
    "                        best_performance = candidate\n",
    "        \n",
    "        return best_performance\n",
    "\n",
    "def check_reduction(item):\n",
    "    success = False\n",
    "    frequent_substr = reduce_pattern_length(item)\n",
    "    if len(frequent_substr) > 4 and len(frequent_substr) > 0.3*len(item):\n",
    "        print(\"extracted\", frequent_substr, \"from\", item)\n",
    "        # sucessfully reduced the pattern\n",
    "        return frequent_substr\n",
    "    return None"
   ]
  },
  {
   "cell_type": "code",
   "execution_count": 1168,
   "metadata": {},
   "outputs": [],
   "source": [
    "def reduce_length_of_each_pattern(onlyassubstring, top20patterns):\n",
    "    \n",
    "    beforereduction = {}\n",
    "    # reducedfinalpat is the new list that contains all valid patterns after reduction plus the ones that does not need to be reduced\n",
    "    reducedfinalpat = []\n",
    "\n",
    "    for item in top20patterns:\n",
    "        # check the ones that has substring, see if their length can be reduced\n",
    "        if len(item) > 11 and item not in onlyassubstring:\n",
    "            #if the extracted pattern is too long, find longest repeated pattern within it\n",
    "            frequent_substr = check_reduction(item)\n",
    "            if frequent_substr != None:\n",
    "                if len(frequent_substr) > 23:\n",
    "                    # second attempt, if a frequent substring is takend and it is still quite long\n",
    "                    new_frequent_substr = check_reduction(frequent_substr)\n",
    "                    if new_frequent_substr != None:\n",
    "                        # if the second attempt is a success, take the twice reduced pattern\n",
    "                        reducedfinalpat.append(new_frequent_substr)\n",
    "                        beforereduction[new_frequent_substr] = item\n",
    "                    else:\n",
    "                        # if the second attempt failed, take the result of first reduction\n",
    "                        reducedfinalpat.append(frequent_substr)\n",
    "                        beforereduction[frequent_substr] = item\n",
    "                else:\n",
    "                    # if the extracted pattern is already not very long\n",
    "                    reducedfinalpat.append(frequent_substr)\n",
    "                    beforereduction[frequent_substr] = item\n",
    "            else:\n",
    "                # if the reduction failed, take the original\n",
    "                reducedfinalpat.append(item)\n",
    "        else:\n",
    "            # otherwise keep it without reduction\n",
    "            reducedfinalpat.append(item)\n",
    "    \n",
    "    return reducedfinalpat, beforereduction"
   ]
  },
  {
   "cell_type": "code",
   "execution_count": 1169,
   "metadata": {},
   "outputs": [],
   "source": [
    "onlyassubstring = set(issubstring) - set(hassubstring)\n",
    "reducedfinalpat, beforereduction = reduce_length_of_each_pattern(onlyassubstring, list(set(top20patterns_combined)))"
   ]
  },
  {
   "cell_type": "code",
   "execution_count": 1170,
   "metadata": {},
   "outputs": [],
   "source": [
    "def find_pattern_pos(string, pattern):\n",
    "    patpos_start = []\n",
    "    patpos_end = []\n",
    "    count = 0\n",
    "    for m in re.finditer(pattern, string):\n",
    "        count +=1\n",
    "        patpos_start.append(m.start())\n",
    "        patpos_end.append(m.end())\n",
    "    return patpos_start, patpos_end, count"
   ]
  },
  {
   "cell_type": "code",
   "execution_count": 1171,
   "metadata": {},
   "outputs": [],
   "source": [
    "def count_final_pattern(reducedfinalpat, strings):\n",
    "\n",
    "    count_pattern = {}\n",
    "    refined_finalpat = []\n",
    "    startonsets = []\n",
    "    startpitches = []\n",
    "    endonsets = []\n",
    "    endpitches = []\n",
    "\n",
    "    for pattern in reducedfinalpat:\n",
    "        stringnum = 0\n",
    "        for string in strings:\n",
    "            # find the pattern in eachvoice\n",
    "            patpos_start, patpos_end, count = find_pattern_pos(string, pattern)\n",
    "            if pattern not in count_pattern:\n",
    "                count_pattern[pattern] = count\n",
    "            else:\n",
    "                count_pattern[pattern] += count\n",
    "            if count != 0:\n",
    "                print(\"Pattern\", pattern, \"appears in voice no.\", stringnum+1, \", first pos starts at \", patpos_start[0], \"end at\", patpos_end[0])\n",
    "            num = 0\n",
    "            for startpos in patpos_start:\n",
    "                startonsets.append(noteoffsets[stringnum][startpos])\n",
    "                startpitches.append(midis[stringnum][startpos])\n",
    "                #endonsets.append(noteoffsets[stringnum][patpos_end[num]])\n",
    "                #endpitches.append(midis[stringnum][patpos_end[num]])\n",
    "                num+=1\n",
    "            stringnum+=1\n",
    "\n",
    "        if count_pattern[pattern] >= 2:\n",
    "            # get rid of the ones that actually appeared less than 2 times in total\n",
    "            refined_finalpat.append(pattern)\n",
    "            \n",
    "    return refined_finalpat, count_pattern, startonsets, startpitches, endonsets, endpitches\n"
   ]
  },
  {
   "cell_type": "code",
   "execution_count": 1172,
   "metadata": {},
   "outputs": [
    {
     "name": "stdout",
     "output_type": "stream",
     "text": [
      "Pattern 53277723 appears in voice no. 2 , first pos starts at  72 end at 80\n",
      "Pattern 35753277723532757537734 appears in voice no. 2 , first pos starts at  69 end at 92\n",
      "Pattern 5427 appears in voice no. 1 , first pos starts at  175 end at 179\n",
      "Pattern 5427 appears in voice no. 2 , first pos starts at  53 end at 57\n",
      "Pattern 5427 appears in voice no. 3 , first pos starts at  17 end at 21\n",
      "Pattern 6424664675 appears in voice no. 3 , first pos starts at  250 end at 260\n",
      "Pattern 35717532 appears in voice no. 1 , first pos starts at  19 end at 27\n",
      "Pattern 66467 appears in voice no. 1 , first pos starts at  62 end at 67\n",
      "Pattern 66467 appears in voice no. 2 , first pos starts at  101 end at 106\n",
      "Pattern 66467 appears in voice no. 3 , first pos starts at  91 end at 96\n",
      "Pattern 5427672 appears in voice no. 3 , first pos starts at  17 end at 24\n",
      "Pattern 2357 appears in voice no. 1 , first pos starts at  67 end at 71\n",
      "Pattern 2357 appears in voice no. 2 , first pos starts at  68 end at 72\n",
      "Pattern 2357 appears in voice no. 3 , first pos starts at  196 end at 200\n",
      "Pattern 7457275275426527446646742 appears in voice no. 3 , first pos starts at  73 end at 98\n",
      "Pattern 421227542167542164344576467 appears in voice no. 2 , first pos starts at  212 end at 239\n",
      "Pattern 753275723275457 appears in voice no. 3 , first pos starts at  206 end at 221\n",
      "Pattern 2753275 appears in voice no. 1 , first pos starts at  177 end at 184\n",
      "Pattern 2753275 appears in voice no. 2 , first pos starts at  204 end at 211\n",
      "Pattern 356531753232 appears in voice no. 1 , first pos starts at  95 end at 107\n",
      "Pattern 32764 appears in voice no. 1 , first pos starts at  105 end at 110\n",
      "Pattern 7532 appears in voice no. 1 , first pos starts at  23 end at 27\n",
      "Pattern 7532 appears in voice no. 2 , first pos starts at  19 end at 23\n",
      "Pattern 7532 appears in voice no. 3 , first pos starts at  206 end at 210\n",
      "Pattern 5323551 appears in voice no. 1 , first pos starts at  137 end at 144\n",
      "Pattern 5323551 appears in voice no. 2 , first pos starts at  172 end at 179\n",
      "Pattern 235274466467 appears in voice no. 1 , first pos starts at  55 end at 67\n",
      "Pattern 4515713175371 appears in voice no. 1 , first pos starts at  82 end at 95\n",
      "Pattern 7375527446646732 appears in voice no. 2 , first pos starts at  92 end at 108\n",
      "Pattern 515153737152673323572457 appears in voice no. 1 , first pos starts at  151 end at 175\n",
      "Pattern 23572453165273 appears in voice no. 1 , first pos starts at  67 end at 81\n",
      "Pattern 7542 appears in voice no. 1 , first pos starts at  174 end at 178\n",
      "Pattern 7542 appears in voice no. 2 , first pos starts at  31 end at 35\n",
      "Pattern 7542 appears in voice no. 3 , first pos starts at  13 end at 17\n",
      "Pattern 3275457 appears in voice no. 2 , first pos starts at  24 end at 31\n",
      "Pattern 3275457 appears in voice no. 3 , first pos starts at  214 end at 221\n",
      "Pattern 5274466467322227 appears in voice no. 2 , first pos starts at  96 end at 112\n",
      "Pattern 713575327572327545775421244216461161 appears in voice no. 3 , first pos starts at  202 end at 238\n",
      "Pattern 75327473253235517245 appears in voice no. 2 , first pos starts at  163 end at 183\n",
      "Pattern 75421 appears in voice no. 2 , first pos starts at  31 end at 36\n",
      "Pattern 75421 appears in voice no. 3 , first pos starts at  131 end at 136\n",
      "Pattern 724532753332 appears in voice no. 2 , first pos starts at  57 end at 69\n",
      "Pattern 53165 appears in voice no. 1 , first pos starts at  73 end at 78\n",
      "Pattern 76427532 appears in voice no. 1 , first pos starts at  107 end at 115\n",
      "Pattern 532757 appears in voice no. 1 , first pos starts at  46 end at 52\n",
      "Pattern 532757 appears in voice no. 2 , first pos starts at  80 end at 86\n",
      "Pattern 532757 appears in voice no. 3 , first pos starts at  207 end at 213\n",
      "Pattern 45157131753713565317532 appears in voice no. 1 , first pos starts at  82 end at 105\n",
      "Pattern 754212164276427542542767227 appears in voice no. 3 , first pos starts at  131 end at 158\n",
      "Pattern 2235753273475317425 appears in voice no. 2 , first pos starts at  144 end at 163\n",
      "Pattern 42457227235775 appears in voice no. 3 , first pos starts at  188 end at 202\n",
      "Pattern 3276427532754232 appears in voice no. 1 , first pos starts at  184 end at 200\n",
      "Pattern 332357 appears in voice no. 1 , first pos starts at  165 end at 171\n",
      "Pattern 332357 appears in voice no. 2 , first pos starts at  66 end at 72\n",
      "Pattern 235532757227235274466467 appears in voice no. 1 , first pos starts at  43 end at 67\n",
      "Pattern 72453275 appears in voice no. 2 , first pos starts at  57 end at 65\n",
      "Pattern 6275327 appears in voice no. 2 , first pos starts at  17 end at 24\n",
      "Pattern 542753275 appears in voice no. 1 , first pos starts at  175 end at 184\n",
      "Pattern 23572 appears in voice no. 1 , first pos starts at  67 end at 72\n",
      "Pattern 7542124421646 appears in voice no. 2 , first pos starts at  31 end at 44\n",
      "Pattern 7542124421646 appears in voice no. 3 , first pos starts at  221 end at 234\n",
      "Pattern 5153737152673323572457542753275327642 appears in voice no. 1 , first pos starts at  153 end at 190\n",
      "Pattern 7277125622753274 appears in voice no. 1 , first pos starts at  118 end at 134\n",
      "Pattern 6646 appears in voice no. 1 , first pos starts at  62 end at 66\n",
      "Pattern 6646 appears in voice no. 2 , first pos starts at  101 end at 105\n",
      "Pattern 6646 appears in voice no. 3 , first pos starts at  91 end at 95\n",
      "Pattern 27532 appears in voice no. 1 , first pos starts at  110 end at 115\n",
      "Pattern 27532 appears in voice no. 2 , first pos starts at  18 end at 23\n",
      "Pattern 27532 appears in voice no. 3 , first pos starts at  286 end at 291\n",
      "Pattern 327545775421244216461161224575427 appears in voice no. 2 , first pos starts at  24 end at 57\n",
      "Pattern 2461221642753264746276467 appears in voice no. 3 , first pos starts at  277 end at 302\n",
      "Pattern 2562275327473153235517 appears in voice no. 1 , first pos starts at  123 end at 145\n"
     ]
    }
   ],
   "source": [
    "refined_finalpat, count_pattern, startonsets, startpitches, endonsets, endpitches = count_final_pattern(reducedfinalpat, strings)\n"
   ]
  },
  {
   "cell_type": "code",
   "execution_count": 1173,
   "metadata": {},
   "outputs": [
    {
     "data": {
      "text/plain": [
       "'\\ngroundtruths = []\\ngroundtruthm = []\\nfilenames = glob.glob(\"jkupddtest/mozartmono/A/*.csv\")\\nfor filename in filenames:\\n    with open(filename, \\'r\\') as file:\\n        csvreader = csv.reader(file)\\n        for row in csvreader:\\n            groundtruths.append(float(row[0]))\\n            groundtruthm.append(float(row[1]))\\n            break\\n            #only want to know the first row for now\\n'"
      ]
     },
     "execution_count": 1173,
     "metadata": {},
     "output_type": "execute_result"
    }
   ],
   "source": [
    "# Test old\n",
    "\"\"\"\n",
    "groundtruths = []\n",
    "groundtruthm = []\n",
    "filenames = glob.glob(\"jkupddtest/mozartmono/A/*.csv\")\n",
    "for filename in filenames:\n",
    "    with open(filename, 'r') as file:\n",
    "        csvreader = csv.reader(file)\n",
    "        for row in csvreader:\n",
    "            groundtruths.append(float(row[0]))\n",
    "            groundtruthm.append(float(row[1]))\n",
    "            break\n",
    "            #only want to know the first row for now\n",
    "\"\"\""
   ]
  },
  {
   "cell_type": "code",
   "execution_count": 1174,
   "metadata": {},
   "outputs": [],
   "source": [
    "#groundtruths"
   ]
  },
  {
   "cell_type": "code",
   "execution_count": 1175,
   "metadata": {},
   "outputs": [],
   "source": [
    "#groundtruthm"
   ]
  },
  {
   "cell_type": "code",
   "execution_count": 1176,
   "metadata": {},
   "outputs": [
    {
     "data": {
      "text/plain": [
       "'\\ncountnum = 0\\nfor startonset in startonsets:\\n    startpitch = startpitches[countnum]\\n    endonset = endonsets[countnum] \\n    endpitch = endpitches[countnum]\\n    countnum2 = 0\\n    for gts in groundtruths:\\n        gtm = groundtruthm[countnum2]\\n        if startonset == gts and startpitch == gtm:\\n            print(\"there is a match:\", startonset, startpitch)\\n            #print(\"check the end of this pattern:\")\\n            #print(\"endonset:\", endonset)\\n            #print(\"endpitch:\", endpitch)\\n        countnum2+=1\\n    countnum+=1\\n'"
      ]
     },
     "execution_count": 1176,
     "metadata": {},
     "output_type": "execute_result"
    }
   ],
   "source": [
    "\"\"\"\n",
    "countnum = 0\n",
    "for startonset in startonsets:\n",
    "    startpitch = startpitches[countnum]\n",
    "    endonset = endonsets[countnum] \n",
    "    endpitch = endpitches[countnum]\n",
    "    countnum2 = 0\n",
    "    for gts in groundtruths:\n",
    "        gtm = groundtruthm[countnum2]\n",
    "        if startonset == gts and startpitch == gtm:\n",
    "            print(\"there is a match:\", startonset, startpitch)\n",
    "            #print(\"check the end of this pattern:\")\n",
    "            #print(\"endonset:\", endonset)\n",
    "            #print(\"endpitch:\", endpitch)\n",
    "        countnum2+=1\n",
    "    countnum+=1\n",
    "\"\"\""
   ]
  },
  {
   "cell_type": "code",
   "execution_count": null,
   "metadata": {},
   "outputs": [],
   "source": []
  },
  {
   "cell_type": "code",
   "execution_count": 1186,
   "metadata": {},
   "outputs": [
    {
     "name": "stdout",
     "output_type": "stream",
     "text": [
      "['jkupddtest/bachmono/A', 'jkupddtest/bachmono/B', 'jkupddtest/bachmono/C', 'jkupddtest/bachmono/wtc2f20.krn']\n",
      "jkupddtest/bachmono/C/occ5.csv\n",
      "125677\n",
      "jkupddtest/bachmono/C/occ1.csv\n",
      "5623644\n",
      "jkupddtest/bachmono/C/occ2.csv\n",
      "5623644\n",
      "jkupddtest/bachmono/C/occ6.csv\n",
      "773455\n",
      "jkupddtest/bachmono/C/occ4.csv\n",
      "12562\n",
      "jkupddtest/bachmono/C/occ3.csv\n",
      "773473\n"
     ]
    }
   ],
   "source": [
    "# Get patterns\n",
    "\n",
    "groundtruthpatterns = []\n",
    "print(glob.glob(\"jkupddtest/bachmono/*\"))\n",
    "filenames = glob.glob(\"jkupddtest/bachmono/C/*.csv\")\n",
    "for filename in filenames:\n",
    "    print(filename)\n",
    "    with open(filename, 'r') as file:\n",
    "        csvreader = csv.reader(file)\n",
    "        gts = []\n",
    "        gtm = []\n",
    "        pattern_gt = []\n",
    "        for row in csvreader:\n",
    "            gts.append(float(row[0]))\n",
    "            gtm.append(float(row[1]))\n",
    "        for i in gtm:\n",
    "            pattern_gt.append(int(i%7+1))\n",
    "        pattern_string = \"\"\n",
    "        interval_string = \"\"\n",
    "        for i in pattern_gt:\n",
    "            pattern_string += str(i)\n",
    "        \"\"\"\n",
    "        for i in range(1, len(pattern_gt)):\n",
    "            interval = pattern_gt[i] - pattern_gt[i-1]\n",
    "            interval_string += str(interval)\n",
    "        print(interval_string)\n",
    "        \"\"\"\n",
    "        print(pattern_string)\n",
    "        groundtruthpatterns.append(pattern_string)\n"
   ]
  },
  {
   "cell_type": "code",
   "execution_count": 1187,
   "metadata": {},
   "outputs": [
    {
     "data": {
      "text/plain": [
       "{'12562', '125677', '5623644', '773455', '773473'}"
      ]
     },
     "execution_count": 1187,
     "metadata": {},
     "output_type": "execute_result"
    }
   ],
   "source": [
    "set(groundtruthpatterns)"
   ]
  },
  {
   "cell_type": "code",
   "execution_count": 1188,
   "metadata": {},
   "outputs": [
    {
     "name": "stdout",
     "output_type": "stream",
     "text": [
      "pattern 125677 only appeared once\n",
      "pattern 773455 only appeared once\n",
      "pattern 12562 only appeared once\n",
      "pattern 773473 only appeared once\n"
     ]
    }
   ],
   "source": [
    "for pattern in groundtruthpatterns:\n",
    "    count = 0\n",
    "    for string in strings:\n",
    "        count += string.count(pattern)\n",
    "    if count == 0:\n",
    "        print(\"pattern\", pattern, \"not in original score\")\n",
    "    if count == 1:\n",
    "        print(\"pattern\", pattern, \"only appeared once\")"
   ]
  },
  {
   "cell_type": "code",
   "execution_count": 1184,
   "metadata": {},
   "outputs": [],
   "source": [
    "for i in groundtruthpatterns:\n",
    "    if i in refined_finalpat: #refined_finalpat:\n",
    "        print(\"found a match:\", i)"
   ]
  },
  {
   "cell_type": "code",
   "execution_count": 1185,
   "metadata": {},
   "outputs": [
    {
     "data": {
      "text/plain": [
       "['5427',\n",
       " '66467',\n",
       " '5427672',\n",
       " '2357',\n",
       " '2753275',\n",
       " '32764',\n",
       " '7532',\n",
       " '5323551',\n",
       " '7542',\n",
       " '3275457',\n",
       " '75421',\n",
       " '76427532',\n",
       " '532757',\n",
       " '332357',\n",
       " '23572',\n",
       " '7542124421646',\n",
       " '6646',\n",
       " '27532']"
      ]
     },
     "execution_count": 1185,
     "metadata": {},
     "output_type": "execute_result"
    }
   ],
   "source": [
    "refined_finalpat"
   ]
  },
  {
   "cell_type": "code",
   "execution_count": null,
   "metadata": {},
   "outputs": [],
   "source": []
  },
  {
   "cell_type": "code",
   "execution_count": null,
   "metadata": {},
   "outputs": [],
   "source": []
  }
 ],
 "metadata": {
  "kernelspec": {
   "display_name": "Python 3 (ipykernel)",
   "language": "python",
   "name": "python3"
  },
  "language_info": {
   "codemirror_mode": {
    "name": "ipython",
    "version": 3
   },
   "file_extension": ".py",
   "mimetype": "text/x-python",
   "name": "python",
   "nbconvert_exporter": "python",
   "pygments_lexer": "ipython3",
   "version": "3.9.5"
  }
 },
 "nbformat": 4,
 "nbformat_minor": 1
}
