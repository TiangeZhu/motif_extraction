{
 "cells": [
  {
   "cell_type": "markdown",
   "metadata": {
    "pycharm": {
     "name": "#%% md\n"
    }
   },
   "source": []
  },
  {
   "cell_type": "markdown",
   "metadata": {
    "pycharm": {
     "name": "#%% md\n"
    }
   },
   "source": [
    "Testing 'final' DD version of methodology:\n",
    "\n",
    "This version involves:\n",
    "-- Pairwise sequence alignment between two scale degree sequences\n",
    "-- Extraction of alignment subsequences, which are filtered by frequency and length.\n",
    "-- These are then inputted into a modified LCSS function, the output is counted and filtered\n",
    "-- The outputs are processed via a maximal frequent pattern function\n",
    "-- We are left with a small number of (ideally) musicially-significant subsequences\n",
    "\n",
    "Beat strength weighting of pattern frequency counts was tested\n",
    "but not retained in this version as it boosted prominence of very short patterns at the expense of all others.\n",
    "This is not necessarily discarded but will need to be approached differently if it is to be of use."
   ]
  },
  {
   "cell_type": "code",
   "execution_count": 1,
   "metadata": {
    "pycharm": {
     "name": "#%%\n"
    }
   },
   "outputs": [
    {
     "name": "stdout",
     "output_type": "stream",
     "text": [
      "2\n"
     ]
    }
   ],
   "source": [
    "# Step 1: Read input data:\n",
    "\n",
    "import music21 as m21\n",
    "\n",
    "# input 1\n",
    "score_path = '~/facets-search-engine/data/Beethoven9thOdeToJoy.xml'\n",
    "#score_path = '~/FONN_private/thesession_xml_annotated_subset/LordMcDonalds507.xml'\n",
    "raw_score = m21.converter.parse(score_path)\n",
    "print(len(raw_score.parts))\n",
    "#score = raw_score.flat\n",
    "score = raw_score.parts[0]\n",
    "compared_score = raw_score.parts[1]\n",
    "\n",
    "# input 2:\n",
    "#score2_path = '~/FONN_private/thesession_xml_annotated_subset/LordMcDonalds13433.xml'\n",
    "#score2_raw = m21.converter.parse(score2_path)\n",
    "#print(len(score2_raw.parts))\n",
    "#compared_score = score2_raw.flat"
   ]
  },
  {
   "cell_type": "code",
   "execution_count": 2,
   "metadata": {
    "pycharm": {
     "name": "#%%\n"
    }
   },
   "outputs": [
    {
     "name": "stdout",
     "output_type": "stream",
     "text": [
      "30\n",
      "34554321233223455432123211231234312343212533345543212321123123431234321253334554321232115516714432117655167144321765454345671234556715767144321765453345671234556715767144321765453567111671414376176554321167141143217111217654345355157216571235555367164327167141143217211176543453551572165712355553671643271671411432172111765434514325111155551115111155551151555155515553625511115555115132155515551555362551111555511513217121156717123543234514567123445671234671267122345657545345671235671234513671234562345671245712371231712345656613531617247427266777245427213616313771124676424357175352233461216464612164644444444556711767654366525225567712234234255447125366532123456442255312252414122414141415757555525555555551313131315511335511335511335511111166666666554221712244652431776332442162645672217164221132174333512322117154332177644442711555555555553355553511535532231533515115355321221175522315523431552343255551253115333453555543233551123552112525351522312534351523431253435252343215255535125333334455334555543342553421111223311232221115622115444333114331777666427664217276567132513251765671234211511555671765671234251765572112151577155555217112177555536675625111765671234217631557211551555275531555555215557336255551117615671234235131531552515116551111141144114555515134211111111111111111111111116543211123543111321557123555571235534544555555556645155511111111111115115555555555555555555555555555555511111111111111111111111111511171234111445512256543432121767652256543432121767655533336666666666666633336666333366663357334566663363363336333636337721733366554422333333633366663334533666671661733767326666666633573357636666663213317736337333766367333363336317336567772172176617655223442233333333213317763337333766367333336333336533434777321766662234362234533671233333563633636666622223333336333631111233432176566717336663336444513736251466714472174555424511444444444744444344244144144777712234176767712144777166366636545666667654323223437777773333333333344444455522222223444443211112333332177771223433366667771432254336544765554317111165446666711217654444566765432222345711234677123456666716666716546711764444444322173331111233432177622233333345565432221111227711667755662221765677777176544224233333326711111217172321213432324454334355654454445445445434333333333333333333333333333333333333366333333333334433333333333555671176543217655567123456571543217165645567123456571654321217654567123456445432176515316545551545315545275545315565555545315565555553336662225555556176543217654567123456445432176515316545551545315545275545315565555545315565555553336662225555551176543217654567123456445432176515316545551171351171357217654614614\n"
     ]
    }
   ],
   "source": [
    "# Step 2: Get diatonic scale degree sequence from both docs\n",
    "\n",
    "# get key / root information:\n",
    "roots = [key.tonic for key in score.recurse().getElementsByClass(m21.key.Key)]\n",
    "diatonic_root = roots[0].diatonicNoteNum if roots != [] else score.analyze('key').tonic.diatonicNoteNum\n",
    "print(diatonic_root)\n",
    "\n",
    "# get diatonic scale degree seq:\n",
    "diatonic_note_number = []\n",
    "diatonic_scale_degree = []\n",
    "noteonset = []\n",
    "noteoffset = []\n",
    "beatstrength = []\n",
    "#timesig = m21_score.getContextByClass(m21.meter.TimeSignature)\n",
    "#barlength = timesig.barduration\n",
    "\n",
    "for thisnote in score.recurse().notes:\n",
    "    if thisnote.isNote:\n",
    "        diatonic_note_number.append(float(thisnote.pitch.diatonicNoteNum))\n",
    "        noteoffset.append(thisnote.offset)\n",
    "        #\"duration:\", thisnote.duration.quarterLength)\n",
    "        beatstrength.append(thisnote.beatStrength)\n",
    "        #print(\"offset:\", thisnote.offset, \"beat strength\", thisnote.beatStrength)\n",
    "    elif thisnote.isChord:\n",
    "        # if it is a chord, only take the root\n",
    "        diatonic_note_number.append(float(thisnote.root().diatonicNoteNum))\n",
    "        beatstrength.append(thisnote.beatStrength)\n",
    "        noteoffset.append(thisnote.offset)\n",
    "\n",
    "    # TODO: if it is a rest take the scale degree of the previous note\n",
    "\n",
    "\n",
    "# Calculate diatonic scale degree of each note and save in a list\n",
    "for note_num in diatonic_note_number:\n",
    "        relative_diatonic_pitch = note_num - diatonic_root\n",
    "        temp = int(relative_diatonic_pitch % 7) + 1\n",
    "        diatonic_scale_degree.append(temp)\n",
    "\n",
    "# get key / root information for second score:\n",
    "roots2 = [key.tonic for key in compared_score.recurse().getElementsByClass(m21.key.Key)]\n",
    "diatonic_root2 = roots[0].diatonicNoteNum if roots2 != [] else compared_score.analyze('key').tonic.diatonicNoteNum\n",
    "\n",
    "#Extracting diatonic scale degree in second score\n",
    "#barlength2 = compared_score.meter.TimeSignature.barduration\n",
    "diatonic_note_num2 = []\n",
    "diatonic_scale_degree2 = []\n",
    "noteoffset2 = []\n",
    "beatstrength2 = []\n",
    "\n",
    "score2_data = compared_score.recurse().notes\n",
    "for thisnote in score2_data:\n",
    "    if thisnote.isNote:\n",
    "        beatstrength2.append(thisnote.beatStrength)\n",
    "        noteoffset2.append(thisnote.offset)\n",
    "        diatonic_note_num2.append(float(thisnote.pitch.diatonicNoteNum))\n",
    "\n",
    "        # if chords are encountered, take their root: (this is rare in our corpora)\n",
    "    elif thisnote.isChord:\n",
    "        # if it is a chord, only take the root\n",
    "        diatonic_note_num2.append(float(thisnote.root().diatonicNoteNum))\n",
    "        beatstrength2.append(thisnote.beatStrength)\n",
    "        noteoffset2.append(thisnote.offset)\n",
    "\n",
    "    # TODO: if it is a rest take the scale degree of the previous note\n",
    "\n",
    "\n",
    "# Calculate diatonic scale degree of each note and save in a list\n",
    "for note_num in diatonic_note_num2:\n",
    "        relative_diatonic_pitch = note_num - diatonic_root\n",
    "        temp = int(relative_diatonic_pitch % 7) + 1\n",
    "        diatonic_scale_degree2.append(temp)\n",
    "\n",
    "\n",
    "# transform the list of diatonic scale degrees into string format for alignment\n",
    "\n",
    "string1 = \"\"\n",
    "for i in diatonic_scale_degree:\n",
    "    string1 += str(i)\n",
    "\n",
    "string2 = \"\"\n",
    "for i in diatonic_scale_degree2:\n",
    "    string2 += str(i)\n",
    "\n",
    "print(string2)"
   ]
  },
  {
   "cell_type": "code",
   "execution_count": 3,
   "metadata": {
    "pycharm": {
     "name": "#%%\n"
    }
   },
   "outputs": [
    {
     "name": "stdout",
     "output_type": "stream",
     "text": [
      "Query:    1 34554321233223455432123211231234312343212533345543212321123123431234321253334554321232115--5167144321176551--671443-2--17-65-4-543-4-56712345-567-157671443-2---176545334-5671-23-45----567157671-4-432-1-76----5453567111671-41--43761765--5--432--1---1671--4-1-1----432-1----71-1-1-217654---345--355---1572-165712355-5-5-3-6-71-6--432-7-1671-41-1-432-17----21--1--1-7-654345-3-5-5-1-57-2-1-65-7--12355-5---53671643271-6714--11-4-3-2172-1-11-7-654345-1432-51-1-115-5551115111155-55115--155515-5-5-1-555362551----1-11555511-51-3-215--5-5-15-551-5-5-53-6255111----155551-15-1321-71--2115-6-7---171235432345145-671-2-3--4-456712346-71-2-67122--3----4-56575453456712-356-71-2345136-71-2--3456--234567-124-5-7-12371231712345-6--56-6135316-17-24-74-272-66777245427-2-1-3-6-163--1-3-7-7-1-124676424357175-352233461216464612164644444-4--4455671--17676543665252-2---55-677---1-223423425----544-71-25-36653212345-6-----44-2-2--5-5-312-2-5-2-414122414-1--414-15757555525555-5-5------5--5-513-1-3-1-3-1-315-5113-355--1-1-3-355--1-1-3-3-55-1-11--1--------11-6666-6-6665-542217122446524-31-7-7-63324421626456722171642211-3-2174333512322-1-17154332177644442-711555555555553--3555535-1-1-5355-32-23--1-5-3351--5-1153-5-5321-2-2-11-75--5223155234315523432--555--512531153-334535555432335-5112--3-5-5211----2525351-5-2-231-2--5-343-515---2343125343525234321525553512533333445-5-3-3-455554-33425-53421111223311232-2-2-11-1-562211544433311433177766642-7-6-64217-276-5-6-713251325-1765671234--2-11-5--1-1-5-5--56717656712-34-2517655721121515-7-7-1555552171121775555366756251-1--1-7-65-671-234217631557211551 1184\n",
      "            |||||||||||||||||||||||||||||||||||||||||||||||||||||||||||||||||||||||||||||||||||||||||  | . . ||||..|  |  | .|.| |  || .| . ||| . .| |||.| ..| | .||| .| |   |  |||.|| .||| || .|    |  || . | . ||| | .|    || | .|.||||| .|  ||  | .|  |  |||  |   |..|  | | |    ||| |    || . . || |||   |||  |||   |  | || |||||| . | | . .| .  ||| . |||| .| . ||| ||    ||  |  | . ..|||| | . . | .| | . || .  ||||| .   | ||| .|  | | .|  || | | || | | .| . ..|||| .||| .| | |.| ..|...| |..|| ..|.|  | ..|| | . | ...|| |.|    | || |  || .| | |||  | | || .|| . | .| || ||||    | | .| || |||| .|  |||| . |   |.|||  || .||.| ..| | .  | |..| || | .| . | .||  |    | .||| ..| . | | .|| .| | . | | .| .  ||||  |||||| ||| | | ||   || . |||| .  || | |  || || .| .| | | .| . .|| .| . | | . |.|  | | . . | |.| . | | ..|.| ||  | |     | .|   |||||||| .  || |.||  |||| . .   | | |   || |||   | ..|  || |    ||| .| .| .||.|||.||| .     || . .  | | .|| | | . | .| | || .  |.| | |..|||| |||| . .      |  | |.| | | | | | |.| .|.| .||  | | | .||  | | | . || . .|  |        || .||| . .|.| ||.|| .  |  | | || | . ....||| .|     |||.|.| .|| | ||| ...|| ||| . | | .|||| | . . | .|| . . . ..|.|  |..|||| | | | || || .|  | . ..||  | ||.| | |||| . . || .|  |||.|....||.||....|  |||  |||.|..|| ||||..|.|||| || ||||  | | ..||    | | . | | . | | |  | ..| .||   | . || ||| . | | ||.| .   || |    | | . . . | . || .||.| | ..|||| . . ..|| | . .| | || .|| . . . || .|| | | . | | . |.||| .|| . . ||.|||||| | .  |||||  | .| .  | | . .  |  || .  || || .||||  || ||||.| | | |..||| ||..||.|||||.||.| | | |  | . .| |.| | .||| .|  ||||.||\n",
      "Ref  :    1 34554321233223455432123211231234312343212533345543212321123123431234321253334554321232115345-3-5-4321236--1236-543322351734512354321236-12365431721-1671-23123431--5452343267122312513345--15-1-123543231236123654-3-172116712312343--1-5534523432671223125133451511235432312356712365421-654671345123554321--2316-7123553225234345123554321231671231765432117433321231451234314345234326712171253665334512355432125-671-23--156-5432117433321-2314512343143452343267121712536653345-12355432125671-2315654321174336-54123321511-5--117712332151151511511512115123762-511123321-5-1151511321511512115123762511123--32-151151511321165444327-23-62115136-2227733311422657-623-1-7-2145622162-2-1-6221765434567123456711245567712---23-4-234522275676-3--1671766423432-2756-5-445-77331133551133551133551111114-4-4-4-44115135--3-4-----4-56---64644444511144-5771221767-7-1---2-21211155667755411113--34-51747544511555466673211345771112344334713555471212355554-71-2-14555543421-7215555-55551123666732541565432143312371134547123555547121235555471212345555434217215555555511236667325615654321-3--4--5-4331471151111442-22-----2215154-311233217-17651-3225421-1-23321-7-1-1-23211-1-4-4-33543223125535712115-552323432712771251645511235555321755551123534522111714433551171211555435123362531334511535432-3515112153454771134332-2-1-1654442-172765671327156712-7-12-343-3-2-4-2172-2---12-3----4-567117214-3-5477344545-651111-5-4-6432426677171756-711-7-6-7-11-231-7-6-7-2171176721711767211771125132561-2--7123433242172221713243345--17-1--12134335176--72-12155517672121555-17672117555576625-2-17127123435464172-7217-11--7211751 1405\n",
      "\n"
     ]
    }
   ],
   "source": [
    "# Smith-Waterman alignment between the two input sequences\n",
    "from swalign_local import  *\n",
    "match = 2\n",
    "mismatch = -2\n",
    "scoring = NucleotideScoringMatrix(match, mismatch)\n",
    "sw = LocalAlignment(scoring, gap_extension_penalty = -2)\n",
    "# gap_penalty = -2 might largely reduce the matching sequence(only get part of the score)\n",
    "# gap_extension_penalty to be experimented.\n",
    "alignment = sw.align(string1, string2)\n",
    "alignment_strings = alignment.dump()"
   ]
  },
  {
   "cell_type": "code",
   "execution_count": 4,
   "metadata": {
    "pycharm": {
     "name": "#%%\n"
    }
   },
   "outputs": [
    {
     "name": "stdout",
     "output_type": "stream",
     "text": [
      "34554321233223455432123211231234312343212533345543212321123123431234321253334554321232115--5167144321176551--671443-2--17-65-4-543-4-56712345-567-157671443-2---176545334-5671-23-45----567157671-4-432-1-76----5453567111671-41--43761765--5--432--1---1671--4-1-1----432-1----71-1-1-217654---345--355---1572-165712355-5-5-3-6-71-6--432-7-1671-41-1-432-17----21--1--1-7-654345-3-5-5-1-57-2-1-65-7--12355-5---53671643271-6714--11-4-3-2172-1-11-7-654345-1432-51-1-115-5551115111155-55115--155515-5-5-1-555362551----1-11555511-51-3-215--5-5-15-551-5-5-53-6255111----155551-15-1321-71--2115-6-7---171235432345145-671-2-3--4-456712346-71-2-67122--3----4-56575453456712-356-71-2345136-71-2--3456--234567-124-5-7-12371231712345-6--56-6135316-17-24-74-272-66777245427-2-1-3-6-163--1-3-7-7-1-124676424357175-352233461216464612164644444-4--4455671--17676543665252-2---55-677---1-223423425----544-71-25-36653212345-6-----44-2-2--5-5-312-2-5-2-414122414-1--414-15757555525555-5-5------5--5-513-1-3-1-3-1-315-5113-355--1-1-3-355--1-1-3-3-55-1-11--1--------11-6666-6-6665-542217122446524-31-7-7-63324421626456722171642211-3-2174333512322-1-17154332177644442-711555555555553--3555535-1-1-5355-32-23--1-5-3351--5-1153-5-5321-2-2-11-75--5223155234315523432--555--512531153-334535555432335-5112--3-5-5211----2525351-5-2-231-2--5-343-515---2343125343525234321525553512533333445-5-3-3-455554-33425-53421111223311232-2-2-11-1-562211544433311433177766642-7-6-64217-276-5-6-713251325-1765671234--2-11-5--1-1-5-5--56717656712-34-2517655721121515-7-7-1555552171121775555366756251-1--1-7-65-671-234217631557211551\n",
      "34554321233223455432123211231234312343212533345543212321123123431234321253334554321232115345-3-5-4321236--1236-543322351734512354321236-12365431721-1671-23123431--5452343267122312513345--15-1-123543231236123654-3-172116712312343--1-5534523432671223125133451511235432312356712365421-654671345123554321--2316-7123553225234345123554321231671231765432117433321231451234314345234326712171253665334512355432125-671-23--156-5432117433321-2314512343143452343267121712536653345-12355432125671-2315654321174336-54123321511-5--117712332151151511511512115123762-511123321-5-1151511321511512115123762511123--32-151151511321165444327-23-62115136-2227733311422657-623-1-7-2145622162-2-1-6221765434567123456711245567712---23-4-234522275676-3--1671766423432-2756-5-445-77331133551133551133551111114-4-4-4-44115135--3-4-----4-56---64644444511144-5771221767-7-1---2-21211155667755411113--34-51747544511555466673211345771112344334713555471212355554-71-2-14555543421-7215555-55551123666732541565432143312371134547123555547121235555471212345555434217215555555511236667325615654321-3--4--5-4331471151111442-22-----2215154-311233217-17651-3225421-1-23321-7-1-1-23211-1-4-4-33543223125535712115-552323432712771251645511235555321755551123534522111714433551171211555435123362531334511535432-3515112153454771134332-2-1-1654442-172765671327156712-7-12-343-3-2-4-2172-2---12-3----4-567117214-3-5477344545-651111-5-4-6432426677171756-711-7-6-7-11-231-7-6-7-2171176721711767211771125132561-2--7123433242172221713243345--17-1--12134335176--72-12155517672121555-17672117555576625-2-17127123435464172-7217-11--7211751\n"
     ]
    }
   ],
   "source": [
    "# reformat output of above cell\n",
    "fullseq1 = alignment_strings[0]\n",
    "print(fullseq1)\n",
    "pat1 = fullseq1.split('-')\n",
    "\n",
    "fullseq2 = alignment_strings[1]\n",
    "print(fullseq2)\n",
    "pat2 = fullseq2.split('-')"
   ]
  },
  {
   "cell_type": "code",
   "execution_count": 5,
   "metadata": {
    "pycharm": {
     "name": "#%%\n"
    }
   },
   "outputs": [
    {
     "data": {
      "text/plain": [
       "144"
      ]
     },
     "execution_count": 5,
     "metadata": {},
     "output_type": "execute_result"
    }
   ],
   "source": [
    "# Get rid of the interval sequence shorter than 3; combine all alignment patterns remaining into single list\n",
    "\n",
    "pattern1 = []\n",
    "pattern2 = []\n",
    "# startpos_pat saves all the start position of the pattern(if it appears only once, then it's a list of one element)\n",
    "startposinseq1_pat = {}\n",
    "startposinseq2_pat = {}\n",
    "\n",
    "pos = 0\n",
    "for pattern in pat1:\n",
    "    if len(pattern) > 3:\n",
    "        pattern1.append(pattern)\n",
    "        if pattern not in startposinseq1_pat:\n",
    "            startposinseq1_pat[pattern] = []\n",
    "        startposinseq1_pat[pattern].append(pos)\n",
    "    pos += len(pattern)\n",
    "        \n",
    "pos = 0\n",
    "for pattern in pat2:\n",
    "    if len(pattern) > 3:\n",
    "        pattern2.append(pattern)\n",
    "        if pattern not in startposinseq2_pat:\n",
    "            startposinseq2_pat[pattern] = []\n",
    "        startposinseq2_pat[pattern].append(pos)\n",
    "    pos+= len(pattern)\n",
    "    \n",
    "allthepatterns = pattern1 + pattern2\n",
    "# number of segments that are at least 3 intervals within both scores\n",
    "len(allthepatterns)"
   ]
  },
  {
   "cell_type": "code",
   "execution_count": 6,
   "metadata": {
    "pycharm": {
     "name": "#%%\n"
    }
   },
   "outputs": [],
   "source": [
    "from collections import Counter\n",
    "allthepattern_count = dict(Counter(allthepatterns))\n",
    "# elimiate the repeated strings\n",
    "allthepatterns = list(set(allthepatterns))"
   ]
  },
  {
   "cell_type": "code",
   "execution_count": 7,
   "metadata": {
    "pycharm": {
     "name": "#%%\n"
    }
   },
   "outputs": [],
   "source": [
    "issubstring = {}\n",
    "hassubstring = {}\n",
    "count_as_substring = {}\n",
    "count_as_parent = {}\n",
    "\n",
    "for i in range(0, len(allthepatterns)):\n",
    "    for j in range(i+1, len(allthepatterns)):\n",
    "        if allthepatterns[i] in allthepatterns[j]:\n",
    "            parent = allthepatterns[j]\n",
    "            kid = allthepatterns[i]\n",
    "            times = parent.count(kid)\n",
    "\n",
    "            if kid not in issubstring:\n",
    "                issubstring[kid] = 1\n",
    "                count_as_substring[kid] = times * allthepattern_count[parent]\n",
    "            else:\n",
    "                issubstring[kid] += 1\n",
    "                count_as_substring[kid] += times * allthepattern_count[parent]\n",
    "\n",
    "            if parent not in hassubstring:\n",
    "                hassubstring[parent] = 1\n",
    "                count_as_parent[parent] = 1 #times\n",
    "            else:\n",
    "                hassubstring[parent] += 1\n",
    "                count_as_parent[parent] += 1\n",
    "\n",
    "        elif allthepatterns[j] in allthepatterns[i]:\n",
    "            parent = allthepatterns[i]\n",
    "            kid = allthepatterns[j]\n",
    "            times = parent.count(kid)\n",
    "\n",
    "            if kid not in issubstring:\n",
    "                issubstring[kid] = 1\n",
    "                count_as_substring[kid] = times * allthepattern_count[parent]\n",
    "            else:\n",
    "                issubstring[kid] += 1\n",
    "                count_as_substring[kid] += times * allthepattern_count[parent]\n",
    "\n",
    "            if parent not in hassubstring:\n",
    "                hassubstring[parent] = 1\n",
    "                count_as_parent[parent] = 1#times\n",
    "            else:\n",
    "                hassubstring[parent] += 1\n",
    "                count_as_parent[parent] += 1#times"
   ]
  },
  {
   "cell_type": "code",
   "execution_count": 8,
   "metadata": {
    "pycharm": {
     "name": "#%%\n"
    }
   },
   "outputs": [
    {
     "name": "stdout",
     "output_type": "stream",
     "text": [
      "54\n",
      "34\n"
     ]
    }
   ],
   "source": [
    "# rank the ones that are substrings of another detected pattern\n",
    "sortis = dict(Counter(issubstring))\n",
    "sorthas = dict(Counter(hassubstring))\n",
    "print(len(sorthas))\n",
    "print(len(sortis))"
   ]
  },
  {
   "cell_type": "code",
   "execution_count": 10,
   "metadata": {
    "pycharm": {
     "name": "#%%\n"
    }
   },
   "outputs": [],
   "source": [
    "# Refined the count!\n",
    "refined_combined = {}\n",
    "\n",
    "for item in sorthas:\n",
    "    if item in sortis:\n",
    "        refined_combined[item] = count_as_parent[item] + count_as_substring[item] + allthepattern_count[item]\n",
    "    else:\n",
    "        refined_combined[item] = count_as_parent[item] + allthepattern_count[item]\n",
    "\n",
    "# from the patterns that are substrings\n",
    "for item in sortis:\n",
    "    if item not in refined_combined:\n",
    "        refined_combined[item] = count_as_substring[item] + allthepattern_count[item]\n",
    "    # otherwise is already counted"
   ]
  },
  {
   "cell_type": "code",
   "execution_count": 11,
   "metadata": {
    "pycharm": {
     "name": "#%%\n"
    }
   },
   "outputs": [
    {
     "data": {
      "text/plain": [
       "{'2174333512322': 2,\n",
       " '151151511321165444327': 3,\n",
       " '5534523432671223125133451511235432312356712365421': 5,\n",
       " '234522275676': 2,\n",
       " '1765671234': 2,\n",
       " '311233217': 2,\n",
       " '33543223125535712115': 2,\n",
       " '552323432712771251645511235555321755551123534522111714433551171211555435123362531334511535432': 6,\n",
       " '14555543421': 2,\n",
       " '55551123666732541565432143312371134547123555547121235555471212345555434217215555555511236667325615654321': 7,\n",
       " '7123433242172221713243345': 2,\n",
       " '7123553225234345123554321231671231765432117433321231451234314345234326712171253665334512355432125': 6,\n",
       " '34554321233223455432123211231234312343212533345543212321123123431234321253334554321232115345': 6,\n",
       " '512531153': 2,\n",
       " '56717656712': 2,\n",
       " '123543231236123654': 2,\n",
       " '36653212345': 2,\n",
       " '12355432125671': 3,\n",
       " '5167144321176551': 4,\n",
       " '5452343267122312513345': 2,\n",
       " '4321236': 3,\n",
       " '543322351734512354321236': 3,\n",
       " '172765671327156712': 2,\n",
       " '12134335176': 2,\n",
       " '567117214': 2,\n",
       " '6221765434567123456711245567712': 7,\n",
       " '5453567111671': 3,\n",
       " '4455671': 2,\n",
       " '56575453456712': 3,\n",
       " '567157671': 2,\n",
       " '56712345': 3,\n",
       " '456712346': 2,\n",
       " '334535555432335': 2,\n",
       " '1671766423432': 2,\n",
       " '34554321233223455432123211231234312343212533345543212321123123431234321253334554321232115': 5,\n",
       " '1151511321511512115123762511123': 4,\n",
       " '3515112153454771134332': 2,\n",
       " '2171176721711767211771125132561': 2,\n",
       " '511123321': 2,\n",
       " '234217631557211551': 2,\n",
       " '117712332151151511511512115123762': 3,\n",
       " '54123321511': 2,\n",
       " '234567': 3,\n",
       " '165712355': 2,\n",
       " '157671443': 3,\n",
       " '671443': 4,\n",
       " '562211544433311433177766642': 2,\n",
       " '12365431721': 2,\n",
       " '51747544511555466673211345771112344334713555471212355554': 2,\n",
       " '62115136': 2,\n",
       " '77331133551133551133551111114': 2,\n",
       " '654671345123554321': 2,\n",
       " '172116712312343': 2,\n",
       " '11555511': 2,\n",
       " '3351': 3,\n",
       " '1321': 3,\n",
       " '5113': 5,\n",
       " '67122': 3,\n",
       " '5671': 17,\n",
       " '5112': 7,\n",
       " '1236': 9,\n",
       " '2756': 2,\n",
       " '23321': 5,\n",
       " '2115': 10,\n",
       " '1153': 4,\n",
       " '5321': 3,\n",
       " '12355': 11,\n",
       " '455554': 3,\n",
       " '2172': 4,\n",
       " '2316': 2,\n",
       " '1671': 8,\n",
       " '6714': 4,\n",
       " '2314512343143452343267121712536653345': 2,\n",
       " '5432117433321': 2,\n",
       " '5355': 2,\n",
       " '23123431': 5,\n",
       " '654345': 3,\n",
       " '217654': 2,\n",
       " '3456': 5,\n",
       " '7217': 2,\n",
       " '23211': 7,\n",
       " '7215555': 2,\n",
       " '155551': 2}"
      ]
     },
     "execution_count": 11,
     "metadata": {},
     "output_type": "execute_result"
    }
   ],
   "source": [
    "dict(Counter(refined_combined))"
   ]
  },
  {
   "cell_type": "code",
   "execution_count": 23,
   "metadata": {
    "pycharm": {
     "name": "#%%\n"
    }
   },
   "outputs": [
    {
     "name": "stdout",
     "output_type": "stream",
     "text": [
      "['151151511321165444327', '5534523432671223125133451511235432312356712365421', '552323432712771251645511235555321755551123534522111714433551171211555435123362531334511535432', '55551123666732541565432143312371134547123555547121235555471212345555434217215555555511236667325615654321', '7123553225234345123554321231671231765432117433321231451234314345234326712171253665334512355432125', '34554321233223455432123211231234312343212533345543212321123123431234321253334554321232115345', '12355432125671', '5167144321176551', '4321236', '543322351734512354321236', '6221765434567123456711245567712', '5453567111671', '56575453456712', '56712345', '34554321233223455432123211231234312343212533345543212321123123431234321253334554321232115', '1151511321511512115123762511123', '117712332151151511511512115123762', '234567', '157671443', '671443', '3351', '1321', '5113', '67122', '5671', '5112', '1236', '23321', '2115', '1153', '5321', '12355', '455554', '2172', '1671', '6714', '23123431', '654345', '3456', '23211']\n"
     ]
    }
   ],
   "source": [
    "# get the ones that has substring or is substring more than 4 times\n",
    "finalpattern = []\n",
    "for i in refined_combined:\n",
    "\n",
    "    if len(i) < 4:\n",
    "        # if the length is shorter than 5 notes, discard\n",
    "        continue\n",
    "\n",
    "    # TODO: Add similar threshold to remove very long patterns\n",
    "    # This should be calculated on a piece-by-piece basis: the number of (DW) notes per bar.\n",
    "\n",
    "    if refined_combined[i] > 2:\n",
    "        # appeared more than 2 times\n",
    "        finalpattern.append(i)\n",
    "print(finalpattern)"
   ]
  },
  {
   "cell_type": "code",
   "execution_count": 24,
   "metadata": {
    "pycharm": {
     "name": "#%%\n"
    }
   },
   "outputs": [],
   "source": [
    "# for thisone in finalpattern:\n",
    "#     print(thisone, \":\", combined[thisone], \"times.\")"
   ]
  },
  {
   "cell_type": "code",
   "execution_count": 25,
   "metadata": {
    "pycharm": {
     "name": "#%%\n"
    }
   },
   "outputs": [
    {
     "data": {
      "text/plain": [
       "{'151151511321165444327': 3,\n",
       " '5534523432671223125133451511235432312356712365421': 5,\n",
       " '552323432712771251645511235555321755551123534522111714433551171211555435123362531334511535432': 6,\n",
       " '55551123666732541565432143312371134547123555547121235555471212345555434217215555555511236667325615654321': 7,\n",
       " '7123553225234345123554321231671231765432117433321231451234314345234326712171253665334512355432125': 6,\n",
       " '34554321233223455432123211231234312343212533345543212321123123431234321253334554321232115345': 6,\n",
       " '12355432125671': 3,\n",
       " '5167144321176551': 4,\n",
       " '4321236': 3,\n",
       " '543322351734512354321236': 3,\n",
       " '6221765434567123456711245567712': 7,\n",
       " '5453567111671': 3,\n",
       " '56575453456712': 3,\n",
       " '56712345': 3,\n",
       " '34554321233223455432123211231234312343212533345543212321123123431234321253334554321232115': 5,\n",
       " '1151511321511512115123762511123': 4,\n",
       " '117712332151151511511512115123762': 3,\n",
       " '234567': 3,\n",
       " '157671443': 3,\n",
       " '671443': 4,\n",
       " '3351': 3,\n",
       " '1321': 3,\n",
       " '5113': 5,\n",
       " '67122': 3,\n",
       " '5671': 17,\n",
       " '5112': 7,\n",
       " '1236': 9,\n",
       " '23321': 5,\n",
       " '2115': 10,\n",
       " '1153': 4,\n",
       " '5321': 3,\n",
       " '12355': 11,\n",
       " '455554': 3,\n",
       " '2172': 4,\n",
       " '1671': 8,\n",
       " '6714': 4,\n",
       " '23123431': 5,\n",
       " '654345': 3,\n",
       " '3456': 5,\n",
       " '23211': 7}"
      ]
     },
     "execution_count": 25,
     "metadata": {},
     "output_type": "execute_result"
    }
   ],
   "source": [
    "finalpattern_counted = {}\n",
    "for thisone in finalpattern:\n",
    "    finalpattern_counted[thisone] = refined_combined[thisone]\n",
    "\n",
    "dict(Counter(finalpattern_counted))"
   ]
  },
  {
   "cell_type": "code",
   "execution_count": 26,
   "metadata": {
    "pycharm": {
     "name": "#%%\n"
    }
   },
   "outputs": [
    {
     "name": "stdout",
     "output_type": "stream",
     "text": [
      "['151151511321165444327', '5534523432671223125133451511235432312356712365421', '552323432712771251645511235555321755551123534522111714433551171211555435123362531334511535432', '55551123666732541565432143312371134547123555547121235555471212345555434217215555555511236667325615654321', '7123553225234345123554321231671231765432117433321231451234314345234326712171253665334512355432125', '34554321233223455432123211231234312343212533345543212321123123431234321253334554321232115345', '12355432125671', '5167144321176551', '4321236', '543322351734512354321236', '6221765434567123456711245567712', '5453567111671', '56575453456712', '56712345', '34554321233223455432123211231234312343212533345543212321123123431234321253334554321232115', '1151511321511512115123762511123', '117712332151151511511512115123762', '234567', '157671443', '671443', '3351', '1321', '5113', '67122', '5671', '5112', '1236', '23321', '2115', '1153', '5321', '12355', '455554', '2172', '1671', '6714', '23123431', '654345', '3456', '23211']\n"
     ]
    }
   ],
   "source": [
    "# find repeated patterns within the subequences outputted above\n",
    "\n",
    "def reduce_pattern_length(seq):\n",
    "        # the function returns the longest substring that appeared at least once\n",
    "        # if there is length 4 substring repeated 4 times and a length 7 substring repeated 2 times, we take the length 7\n",
    "        best_performance = \"\"\n",
    "        candidates = []\n",
    "        for length in range(3, 16):\n",
    "            for start in range(0, len(seq)-length):\n",
    "                # get all the substrings of this length within the string, save in candidates\n",
    "                candidates.append(seq[start:start+length])\n",
    "        count_can = {}\n",
    "        for candidate in candidates:\n",
    "                count_can[candidate] = seq.count(candidate)\n",
    "                if count_can[candidate] > 1:\n",
    "                    # if it is repeated more than once in the string\n",
    "                    if len(candidate) > len(best_performance):\n",
    "                        best_performance = candidate\n",
    "                    elif len(candidate) == len(best_performance) and count_can[candidate] > count_can[best_performance]:\n",
    "                        best_performance = candidate\n",
    "\n",
    "        return best_performance\n",
    "\n",
    "# reducedfinalpat is the new list that contains all valid patterns after reduction plus the ones that does not need to be reduced\n",
    "# reducedpat is the ones that needs extra care later for combined count\n",
    "reducedfinalpat = []\n",
    "reducedpat = []\n",
    "for item in finalpattern:\n",
    "    if len(item) > 10:\n",
    "        #if the extracted pattern is too long, find longest repeated pattern within it\n",
    "        frequent_substr = reduce_pattern_length(item)\n",
    "\n",
    "        if len(frequent_substr) > 0.3*len(item):\n",
    "            print(\"extracted\", frequent_substr, \"from\", item)\n",
    "            reducedpat.append(frequent_substr)\n",
    "            reducedfinalpat.append(frequent_substr)\n",
    "        else:\n",
    "            # if there is not a lot to reduce, take the original\n",
    "            reducedfinalpat.append(item)\n",
    "    else:\n",
    "        # otherwise keep the original\n",
    "        reducedfinalpat.append(item)\n",
    "\n",
    "print(reducedfinalpat)"
   ]
  },
  {
   "cell_type": "code",
   "execution_count": 27,
   "metadata": {
    "pycharm": {
     "name": "#%%\n"
    }
   },
   "outputs": [
    {
     "name": "stdout",
     "output_type": "stream",
     "text": [
      "Match at index 556, 577\n",
      "Match at index 212, 261\n",
      "Match at index 1049, 1142\n",
      "Match at index 859, 963\n",
      "Match at index 283, 380\n",
      "Match at index 0, 92\n",
      "Match at index 369, 383\n",
      "The pattern does not match.\n",
      "Match at index 94, 101\n",
      "Match at index 105, 129\n",
      "Match at index 620, 651\n",
      "The pattern does not match.\n",
      "The pattern does not match.\n",
      "Match at index 630, 638\n",
      "Match at index 0, 89\n",
      "Match at index 523, 554\n",
      "Match at index 480, 513\n",
      "Match at index 634, 640\n",
      "The pattern does not match.\n",
      "The pattern does not match.\n",
      "Match at index 1332, 1336\n",
      "Match at index 529, 533\n",
      "Match at index 527, 531\n",
      "Match at index 160, 165\n",
      "Match at index 250, 254\n",
      "Match at index 175, 179\n",
      "Match at index 97, 101\n",
      "Match at index 471, 476\n",
      "Match at index 85, 89\n",
      "Match at index 86, 90\n",
      "Match at index 1078, 1082\n",
      "Match at index 270, 275\n",
      "Match at index 842, 848\n",
      "Match at index 850, 854\n",
      "Match at index 140, 144\n",
      "The pattern does not match.\n",
      "Match at index 26, 34\n",
      "Match at index 625, 631\n",
      "Match at index 628, 632\n",
      "Match at index 21, 26\n"
     ]
    }
   ],
   "source": [
    "# compare final patterns against original sequences to make sure they do appear there as contiguous blocks--\n",
    "# this is not guaranteed, as the alignment patters can allow gaps in one or both of the inputs.\n",
    "# This step essentially filters out gapped patterns\n",
    "\n",
    "\n",
    "import re\n",
    "\n",
    "groundtruth1 = []\n",
    "for pattern in reducedfinalpat: #patterns_to_test\n",
    "    match = re.search(pattern, string1)\n",
    "    if match != None:\n",
    "        print(\"Match at index % s, % s\" % (match.start(), match.end()))\n",
    "        groundtruth1.append(pattern)\n",
    "    else:\n",
    "        print(\"The pattern does not match.\")"
   ]
  },
  {
   "cell_type": "code",
   "execution_count": 28,
   "metadata": {
    "pycharm": {
     "name": "#%%\n"
    }
   },
   "outputs": [
    {
     "name": "stdout",
     "output_type": "stream",
     "text": [
      "The pattern does not match.\n",
      "The pattern does not match.\n",
      "The pattern does not match.\n",
      "The pattern does not match.\n",
      "The pattern does not match.\n",
      "The pattern does not match.\n",
      "The pattern does not match.\n",
      "Match at index 89, 105\n",
      "The pattern does not match.\n",
      "The pattern does not match.\n",
      "The pattern does not match.\n",
      "Match at index 175, 188\n",
      "Match at index 466, 480\n",
      "Match at index 121, 129\n",
      "Match at index 0, 89\n",
      "The pattern does not match.\n",
      "The pattern does not match.\n",
      "Match at index 499, 505\n",
      "Match at index 132, 141\n",
      "Match at index 91, 97\n",
      "Match at index 804, 808\n",
      "Match at index 383, 387\n",
      "Match at index 719, 723\n",
      "Match at index 459, 464\n",
      "Match at index 121, 125\n",
      "Match at index 930, 934\n",
      "The pattern does not match.\n",
      "The pattern does not match.\n",
      "Match at index 85, 89\n",
      "Match at index 852, 856\n",
      "Match at index 656, 660\n",
      "Match at index 238, 243\n",
      "Match at index 1000, 1006\n",
      "Match at index 263, 267\n",
      "Match at index 90, 94\n",
      "Match at index 91, 95\n",
      "Match at index 26, 34\n",
      "Match at index 221, 227\n",
      "Match at index 119, 123\n",
      "Match at index 21, 26\n"
     ]
    }
   ],
   "source": [
    "\n",
    "for pattern in reducedfinalpat: #patterns_to_test:\n",
    "    match = re.search(pattern, string2)\n",
    "    if match != None:\n",
    "        print(\"Match at index % s, % s\" % (match.start(), match.end()))\n",
    "        groundtruth1.append(pattern)\n",
    "    else:\n",
    "        print(\"The pattern does not match.\")"
   ]
  },
  {
   "cell_type": "code",
   "execution_count": 29,
   "metadata": {
    "pycharm": {
     "name": "#%%\n"
    }
   },
   "outputs": [
    {
     "data": {
      "text/plain": [
       "['151151511321165444327',\n",
       " '5534523432671223125133451511235432312356712365421',\n",
       " '552323432712771251645511235555321755551123534522111714433551171211555435123362531334511535432',\n",
       " '55551123666732541565432143312371134547123555547121235555471212345555434217215555555511236667325615654321',\n",
       " '7123553225234345123554321231671231765432117433321231451234314345234326712171253665334512355432125',\n",
       " '34554321233223455432123211231234312343212533345543212321123123431234321253334554321232115345',\n",
       " '12355432125671',\n",
       " '4321236',\n",
       " '543322351734512354321236',\n",
       " '6221765434567123456711245567712',\n",
       " '56712345',\n",
       " '34554321233223455432123211231234312343212533345543212321123123431234321253334554321232115',\n",
       " '1151511321511512115123762511123',\n",
       " '117712332151151511511512115123762',\n",
       " '234567',\n",
       " '3351',\n",
       " '1321',\n",
       " '5113',\n",
       " '67122',\n",
       " '5671',\n",
       " '5112',\n",
       " '1236',\n",
       " '23321',\n",
       " '2115',\n",
       " '1153',\n",
       " '5321',\n",
       " '12355',\n",
       " '455554',\n",
       " '2172',\n",
       " '1671',\n",
       " '23123431',\n",
       " '654345',\n",
       " '3456',\n",
       " '23211',\n",
       " '5167144321176551',\n",
       " '5453567111671',\n",
       " '56575453456712',\n",
       " '56712345',\n",
       " '34554321233223455432123211231234312343212533345543212321123123431234321253334554321232115',\n",
       " '234567',\n",
       " '157671443',\n",
       " '671443',\n",
       " '3351',\n",
       " '1321',\n",
       " '5113',\n",
       " '67122',\n",
       " '5671',\n",
       " '5112',\n",
       " '2115',\n",
       " '1153',\n",
       " '5321',\n",
       " '12355',\n",
       " '455554',\n",
       " '2172',\n",
       " '1671',\n",
       " '6714',\n",
       " '23123431',\n",
       " '654345',\n",
       " '3456',\n",
       " '23211']"
      ]
     },
     "execution_count": 29,
     "metadata": {},
     "output_type": "execute_result"
    }
   ],
   "source": [
    "groundtruth1"
   ]
  },
  {
   "cell_type": "code",
   "execution_count": 31,
   "metadata": {
    "pycharm": {
     "name": "#%%\n"
    }
   },
   "outputs": [
    {
     "name": "stdout",
     "output_type": "stream",
     "text": [
      "Pattern: 12355432125671 | count: 2\n",
      "Pattern: 4321236 | count: 2\n",
      "Pattern: 56712345 | count: 9\n",
      "Pattern: 34554321233223455432123211231234312343212533345543212321123123431234321253334554321232115 | count: 2\n",
      "Pattern: 234567 | count: 3\n",
      "Pattern: 3351 | count: 4\n",
      "Pattern: 1321 | count: 7\n",
      "Pattern: 5113 | count: 8\n",
      "Pattern: 67122 | count: 3\n",
      "Pattern: 5671 | count: 39\n",
      "Pattern: 5112 | count: 8\n",
      "Pattern: 1236 | count: 9\n",
      "Pattern: 23321 | count: 6\n",
      "Pattern: 2115 | count: 13\n",
      "Pattern: 1153 | count: 6\n",
      "Pattern: 5321 | count: 4\n",
      "Pattern: 12355 | count: 14\n",
      "Pattern: 455554 | count: 3\n",
      "Pattern: 2172 | count: 10\n",
      "Pattern: 1671 | count: 12\n",
      "Pattern: 23123431 | count: 6\n",
      "Pattern: 654345 | count: 4\n",
      "Pattern: 3456 | count: 22\n",
      "Pattern: 23211 | count: 7\n",
      "Pattern: 157671443 | count: 2\n",
      "Pattern: 671443 | count: 4\n",
      "Pattern: 6714 | count: 9\n"
     ]
    }
   ],
   "source": [
    "occu_in_strings = {}\n",
    "for pattern in groundtruth1:\n",
    "    occu_in_strings[pattern] = string1.count(pattern) + string2.count(pattern)\n",
    "\n",
    "res = dict(Counter(occu_in_strings))\n",
    "\n",
    "for k, v in res.items():\n",
    "    if v > 1:\n",
    "        print(f\"Pattern: {k} | count: {v}\")"
   ]
  },
  {
   "cell_type": "code",
   "execution_count": null,
   "metadata": {},
   "outputs": [],
   "source": []
  },
  {
   "cell_type": "code",
   "execution_count": null,
   "metadata": {},
   "outputs": [],
   "source": []
  }
 ],
 "metadata": {
  "kernelspec": {
   "display_name": "Python 3 (ipykernel)",
   "language": "python",
   "name": "python3"
  },
  "language_info": {
   "codemirror_mode": {
    "name": "ipython",
    "version": 3
   },
   "file_extension": ".py",
   "mimetype": "text/x-python",
   "name": "python",
   "nbconvert_exporter": "python",
   "pygments_lexer": "ipython3",
   "version": "3.9.5"
  }
 },
 "nbformat": 4,
 "nbformat_minor": 1
}
