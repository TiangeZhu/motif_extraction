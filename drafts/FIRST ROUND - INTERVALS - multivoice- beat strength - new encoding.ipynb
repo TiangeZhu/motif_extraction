{
 "cells": [
  {
   "cell_type": "code",
   "execution_count": 3,
   "id": "1285b0f3",
   "metadata": {},
   "outputs": [],
   "source": [
    "import music21 as m21\n",
    "import re\n",
    "from collections import Counter\n",
    "from swalign_local import *"
   ]
  },
  {
   "cell_type": "code",
   "execution_count": 4,
   "id": "1039d2b1",
   "metadata": {},
   "outputs": [],
   "source": [
    "# Step 1: Read input data:\n",
    "import music21 as m21\n",
    "import re\n",
    "from collections import Counter\n",
    "from swalign_local import *\n",
    "import csv\n",
    "import glob\n",
    "\n",
    "score_path = \"jkupddtest/bachmono/wtc2f20.krn\"\n",
    "#score_path = \"jkupddtest/beethovenmono/sonata01-3.krn\"\n",
    "#score_path = \"jkupddtest/mozartmono/sonata04-2.krn\"\n",
    "#score_path = \"jkupddtest/gibbonsmono/silverswan.krn\"\n",
    "#score_path = \"jkupddtest/chopinmono/mazurka24-4.krn\"\n",
    "#score_path = '~/facets-search-engine/data/Beethoven9thOdeToJoy.xml'\n",
    "\n",
    "raw_score = m21.converter.parse(score_path)\n",
    "num_of_parts = len(raw_score.parts)"
   ]
  },
  {
   "cell_type": "code",
   "execution_count": 5,
   "id": "ccee41a6",
   "metadata": {},
   "outputs": [
    {
     "data": {
      "text/plain": [
       "3"
      ]
     },
     "execution_count": 5,
     "metadata": {},
     "output_type": "execute_result"
    }
   ],
   "source": [
    "num_of_parts"
   ]
  },
  {
   "cell_type": "code",
   "execution_count": 6,
   "id": "51ea7e80",
   "metadata": {},
   "outputs": [],
   "source": [
    "voices = []\n",
    "for part in raw_score.parts:\n",
    "    voices.append(part)"
   ]
  },
  {
   "cell_type": "code",
   "execution_count": 7,
   "id": "acce90a2",
   "metadata": {},
   "outputs": [],
   "source": [
    "# Step 2: Get diatonic scale degree sequence from all voices\n",
    "\n",
    "def get_diatonic_intervals(voice):\n",
    "    \n",
    "    # get key / root information:\n",
    "    roots = [key.tonic for key in voice.recurse().getElementsByClass(m21.key.Key)]\n",
    "    diatonic_root = roots[0].diatonicNoteNum if roots != [] else voice.analyze('key').tonic.diatonicNoteNum\n",
    "    #print(diatonic_root)\n",
    "    key = voice.analyze('key')\n",
    "\n",
    "    noteoffset = []\n",
    "    midi = []\n",
    "    #timesig = m21_score.getContextByClass(m21.meter.TimeSignature)\n",
    "    #barlength = timesig.barduration\n",
    "\n",
    "    dict_wordtonum = {\"Unison\": '0', \"Second\": '1', \"Third\": '2', \"Fourth\": '3', \"Fifth\": '4', \"Sixth\": '5', \"Seventh\": '6'}\n",
    "        \n",
    "    dict_encode_dia_intervals = {\"6D\": 'A', '5D': 'B', '4D': 'C', '3D':'D', '2D':'E', '1D':'F', \n",
    "                                     '1A':'G', '2A':'H', '3A':'I', '4A':'J', '5A': 'K', '6A':'L', '0A': 'M'}\n",
    "        \n",
    "    diatonic_intervals = []\n",
    "    beatstrength = []\n",
    "    previous_note = None\n",
    "\n",
    "    onset = 0\n",
    "    for thisnote in voice.recurse().notes:\n",
    "        onset += thisnote.offset\n",
    "        \n",
    "        # We ignore rests\n",
    "        if thisnote.isRest: \n",
    "                # If the rest is a full measure, part of a multi-measure rest: we need to adjust\n",
    "                continue\n",
    "        \n",
    "        noteoffset.append(onset)\n",
    "        beatstrength.append(thisnote.beatStrength)\n",
    "        #if thisnote.isNote:\n",
    "        #    midi.append(thisnote.pitch.midi)\n",
    "        #elif thisnote.isChord:\n",
    "        #    midi.append(thisnote.root().midi)\n",
    "            \n",
    "        if previous_note is None:\n",
    "                previous_note = thisnote\n",
    "        else:\n",
    "                if thisnote.isNote and previous_note.isNote:\n",
    "                    # gap = number of semi-tones of the current interval \n",
    "                    gap = thisnote.pitch.diatonicNoteNum - previous_note.pitch.diatonicNoteNum\n",
    "                elif thisnote.isChord and previous_note.isNote:\n",
    "                    gap = thisnote.root().diatonicNoteNum - previous_note.pitch.diatonicNoteNum\n",
    "                elif thisnote.isChord and previous_note.isChord:\n",
    "                    gap = thisnote.root().diatonicNoteNum - previous_note.root().diatonicNoteNum\n",
    "                elif thisnote.isNote and previous_note.isChord:\n",
    "                    gap = thisnote.pitch.diatonicNoteNum - previous_note.root().diatonicNoteNum\n",
    "                # if a pitch change is detected\n",
    "                    \n",
    "                if gap != 0:\n",
    "                    \n",
    "                    if gap > 0:\n",
    "                        #  if the semi-tone difference between the current and the previous item > 0, it is an ascending interval.\n",
    "                        direction = 'A'\n",
    "                    else:\n",
    "                        #  otherwise, it is a descending interval.\n",
    "                        direction = 'D'\n",
    "\n",
    "                    # Get intervals using music21\n",
    "                    \"\"\"\n",
    "                            \"directedSimpleNiceName\" examples: \"Descending Doubly-Diminished Fifth\", \"Ascending Perfect Fourth\", \"Ascending Doubly-Augmented Fourth\"\n",
    "                            \"simpleName\" examples: dd5, P5, AA4. There's no direction information\n",
    "                            Since it only executes when a pitch interval is detected, \"unison\" refers to an augmented unison, a.k.a minor second\n",
    "                    \"\"\"\n",
    "                    # take intervals between root notes if there exists any chord\n",
    "                    if previous_note.isChord:\n",
    "                        startnote = previous_note.root()\n",
    "                    else:\n",
    "                        startnote = previous_note\n",
    "                    if thisnote.isChord:\n",
    "                        endnote = thisnote.root()\n",
    "                    else:\n",
    "                        endnote = thisnote\n",
    "                        \n",
    "                    m21_interval_directed = m21.interval.Interval(noteStart=startnote, noteEnd=endnote).directedSimpleNiceName\n",
    "\n",
    "                    arr_diatonic = m21_interval_directed.split(\" \")\n",
    "\n",
    "                    m21_generic = dict_wordtonum[arr_diatonic[-1]]\n",
    "                    \n",
    "                    # m21_interval: 2A, 3D etc...\n",
    "                    m21_interval = m21_generic+direction\n",
    "                    if m21_generic == \"0\":\n",
    "                        m21_interval = '0A'\n",
    "                    # to make each m21_interval unique, show direction and each as single character in string, we encode the diatonic intervals as letters\n",
    "                    encode_interval = dict_encode_dia_intervals[m21_interval]\n",
    "                    diatonic_intervals.append(encode_interval)\n",
    "\n",
    "                else:\n",
    "                    # We take the interval between two consecutive pitches as 0A\n",
    "                    encode_interval = dict_encode_dia_intervals['0A']\n",
    "                    diatonic_intervals.append(encode_interval)\n",
    "                previous_note = thisnote\n",
    "            \n",
    "    string = \"\"\n",
    "    for i in diatonic_intervals:\n",
    "        string += str(i)\n",
    "        \n",
    "    return string, key, noteoffset, midi, beatstrength"
   ]
  },
  {
   "cell_type": "code",
   "execution_count": 8,
   "id": "aea3f3ca",
   "metadata": {},
   "outputs": [
    {
     "name": "stdout",
     "output_type": "stream",
     "text": [
      "210 211\n",
      "EIAJEIEEEKEEEKEGGMMGGGFFFFGFFFFHFFFFGGMFFFFGGMFFFFGGMFGGDEIEMGMFGGGGGGGGGFIAJEIEEEKEEGGGFFFFHGGGGFFFFFFFGFFFFFFFMFMCIMMIMHCHCHMIFFFFHHHFEFFGGCLFIEIAJEIEEHEIEEEKEEEKEMFGGGGGGGFFFFFFFIFFFFFFFIFFFFFFFKFGGMFGGMGCHG\n",
      "211\n",
      "[0.25, 0.5, 0.25, 1.0, 0.125, 0.25, 0.125, 1.0, 0.125, 0.25, 0.125, 0.5, 0.125, 0.25, 0.125, 1.0, 0.125, 0.25, 0.5, 0.0625, 0.0625, 0.0625, 0.125, 0.0625, 0.0625, 0.0625, 0.25, 0.125, 0.0625, 0.0625, 0.0625, 0.25, 0.125, 0.0625, 0.0625, 0.0625, 0.5, 0.0625, 0.0625, 0.125, 0.0625, 0.0625, 0.0625, 0.25, 0.0625, 0.0625, 0.125, 0.0625, 0.0625, 0.0625, 1.0, 0.0625, 0.0625, 0.25, 0.0625, 0.0625, 0.5, 0.125, 0.25, 0.125, 0.5, 0.0625, 0.0625, 0.25, 0.0625, 0.0625, 1.0, 0.0625, 0.0625, 0.125, 0.0625, 0.0625, 0.0625, 0.25, 0.5, 0.25, 1.0, 0.125, 0.25, 0.125, 1.0, 0.125, 0.25, 0.125, 0.5, 0.0625, 0.0625, 0.0625, 0.25, 0.0625, 0.0625, 0.0625, 1.0, 0.0625, 0.0625, 0.0625, 0.25, 0.0625, 0.0625, 0.0625, 0.125, 0.0625, 0.0625, 0.0625, 0.5, 0.0625, 0.0625, 0.0625, 0.125, 0.0625, 0.0625, 0.0625, 0.25, 0.125, 1.0, 0.5, 0.0625, 0.125, 0.25, 0.0625, 0.125, 1.0, 0.125, 0.25, 0.125, 0.5, 0.25, 1.0, 0.125, 0.0625, 0.0625, 0.0625, 0.25, 0.0625, 0.0625, 0.125, 0.5, 0.0625, 0.0625, 0.125, 0.0625, 0.0625, 0.25, 0.125, 0.5, 0.25, 0.5, 0.25, 1.0, 0.125, 0.25, 0.125, 1.0, 0.125, 0.125, 0.25, 0.125, 1.0, 0.125, 0.25, 0.125, 0.5, 0.125, 0.25, 0.125, 1.0, 0.25, 0.0625, 0.0625, 0.0625, 0.125, 0.0625, 0.0625, 0.0625, 0.25, 0.0625, 0.0625, 0.0625, 0.125, 0.0625, 0.0625, 0.0625, 1.0, 0.0625, 0.0625, 0.0625, 0.125, 0.0625, 0.0625, 0.0625, 0.25, 0.0625, 0.0625, 0.0625, 0.125, 0.0625, 0.0625, 0.0625, 0.5, 0.0625, 0.0625, 0.0625, 0.25, 0.0625, 0.0625, 0.5, 1.0, 0.125, 0.25, 0.125, 0.5]\n",
      "242 243\n",
      "FIAJEIEEEKEEEKEIFAMFFFFHFFFFGGMFFFFGGMFFFFGGMFGGMGGGFFFFMGGGFFFFMMMFGGGFFFFMMGGGFFFFDIIHCHCHHEICEIEMGMFGGLFJMCIFFFFHFFFFGGMFFFFGGMFFFFGGMFGGFEKEMGGGFFFFHCHFIAJEIEKFFFFHHHFEFFGGCLFGGGMFGECHCHCMMCHCHCMDEKGGFFFFFFGEFFGJFFFFFFKFFFFFFFGJGGFFGGHAHG\n",
      "243\n",
      "[0.25, 0.5, 0.25, 1.0, 0.125, 0.25, 0.125, 1.0, 0.125, 0.25, 0.125, 0.5, 0.125, 0.25, 0.125, 1.0, 0.125, 0.125, 0.5, 0.125, 0.0625, 0.0625, 0.0625, 0.25, 0.125, 0.0625, 0.0625, 0.0625, 1.0, 0.0625, 0.0625, 0.125, 0.0625, 0.0625, 0.0625, 0.25, 0.0625, 0.0625, 0.125, 0.0625, 0.0625, 0.0625, 0.5, 0.0625, 0.0625, 0.25, 0.0625, 0.0625, 1.0, 0.0625, 0.0625, 0.0625, 0.25, 0.0625, 0.0625, 0.0625, 0.5, 0.0625, 0.0625, 0.0625, 0.25, 0.0625, 0.0625, 0.0625, 1.0, 0.0625, 0.0625, 0.25, 0.0625, 0.0625, 0.0625, 0.125, 0.0625, 0.0625, 0.0625, 0.5, 0.25, 0.0625, 0.0625, 0.0625, 0.125, 0.0625, 0.0625, 0.0625, 1.0, 0.125, 0.25, 0.125, 0.125, 0.25, 0.125, 1.0, 0.125, 0.25, 0.125, 0.5, 0.125, 0.25, 0.125, 1.0, 0.0625, 0.0625, 0.25, 0.0625, 0.0625, 0.5, 0.0625, 0.125, 0.0625, 0.5, 0.0625, 0.125, 0.0625, 0.0625, 0.0625, 0.25, 0.125, 0.0625, 0.0625, 0.0625, 1.0, 0.0625, 0.0625, 0.125, 0.0625, 0.0625, 0.0625, 0.25, 0.0625, 0.0625, 0.125, 0.0625, 0.0625, 0.0625, 0.5, 0.0625, 0.0625, 0.25, 0.0625, 0.0625, 1.0, 0.125, 0.25, 0.125, 1.0, 0.0625, 0.0625, 0.0625, 0.125, 0.0625, 0.0625, 0.0625, 1.0, 0.125, 0.25, 0.125, 0.5, 0.25, 1.0, 0.125, 0.25, 0.125, 1.0, 0.125, 0.0625, 0.0625, 0.0625, 0.25, 0.0625, 0.0625, 0.125, 1.0, 0.0625, 0.0625, 0.125, 0.0625, 0.0625, 0.25, 0.125, 1.0, 0.0625, 0.0625, 0.125, 0.25, 0.125, 0.5, 0.125, 0.25, 0.125, 0.5, 0.125, 0.25, 1.0, 0.125, 0.25, 0.125, 0.5, 0.125, 0.25, 1.0, 0.125, 0.25, 0.125, 1.0, 0.0625, 0.0625, 0.0625, 0.125, 0.0625, 0.0625, 0.0625, 0.5, 0.125, 0.0625, 0.25, 1.0, 0.0625, 0.0625, 0.0625, 0.125, 0.0625, 0.0625, 0.0625, 0.25, 0.0625, 0.0625, 0.0625, 0.125, 0.0625, 0.0625, 0.0625, 1.0, 0.0625, 0.0625, 0.0625, 0.25, 0.0625, 0.0625, 1.0, 0.125, 0.25, 0.125, 0.5]\n",
      "305 306\n",
      "EIAJEIEEEKAMFFFFHFFFFGGMFFFFGGMFFFFGGMFGGMGGGFFFFMGGGFFFFGGGFFGGMCHCHICKGEGGGFFEIFFIAJEIEMGMFGGEICEIEEEKAKCHCHICMGGGFFFFJEKCEIMMGGGFFFFGFFFFFFFMFFFFHFFFFGGMFFFFGGMFFFFGGMFGGGGMFGGGGMFGGGGMFGGGGMFGGGGMFGGMGGFFFFFGGGFFFFGGMFFFFGGMFFFFGGMFGGGGMFFFFGGMFFFFGGMFGGMGGGFFFFMGGGFFFFGGGGGGGMFFFFFIAJEIEEDHFFFGGFFGC\n",
      "306\n",
      "[0.25, 0.5, 0.25, 1.0, 0.125, 0.25, 0.125, 1.0, 0.125, 0.25, 0.125, 0.5, 0.125, 0.0625, 0.0625, 0.0625, 0.25, 0.125, 0.0625, 0.0625, 0.0625, 1.0, 0.0625, 0.0625, 0.125, 0.0625, 0.0625, 0.0625, 0.25, 0.0625, 0.0625, 0.125, 0.0625, 0.0625, 0.0625, 0.5, 0.0625, 0.0625, 0.25, 0.0625, 0.0625, 1.0, 0.0625, 0.0625, 0.0625, 0.25, 0.0625, 0.0625, 0.0625, 0.5, 0.0625, 0.0625, 0.0625, 0.25, 0.0625, 0.0625, 0.0625, 1.0, 0.0625, 0.25, 0.0625, 0.0625, 0.125, 0.0625, 0.5, 0.125, 0.25, 0.125, 0.5, 0.125, 0.25, 1.0, 0.125, 0.5, 0.125, 1.0, 0.125, 0.25, 0.125, 0.5, 0.125, 0.25, 0.125, 1.0, 0.25, 0.5, 0.125, 0.25, 0.125, 0.5, 0.0625, 0.0625, 0.25, 0.0625, 0.0625, 1.0, 0.125, 0.25, 0.125, 0.25, 0.125, 1.0, 0.125, 0.25, 0.125, 0.5, 0.125, 0.25, 0.125, 0.5, 0.125, 0.25, 1.0, 0.0625, 0.0625, 0.0625, 0.25, 0.0625, 0.0625, 0.0625, 0.5, 0.125, 0.25, 0.125, 0.5, 0.125, 0.25, 1.0, 0.0625, 0.0625, 0.0625, 0.125, 0.0625, 0.0625, 0.0625, 0.25, 0.0625, 0.0625, 0.0625, 0.125, 0.0625, 0.0625, 0.0625, 0.5, 0.125, 0.0625, 0.0625, 0.0625, 0.25, 0.125, 0.0625, 0.0625, 0.0625, 1.0, 0.0625, 0.0625, 0.125, 0.0625, 0.0625, 0.0625, 0.25, 0.0625, 0.0625, 0.125, 0.0625, 0.0625, 0.0625, 0.5, 0.0625, 0.0625, 0.25, 0.0625, 0.0625, 1.0, 0.0625, 0.0625, 0.25, 0.0625, 0.0625, 0.5, 0.0625, 0.0625, 0.25, 0.0625, 0.0625, 1.0, 0.0625, 0.0625, 0.25, 0.0625, 0.0625, 0.5, 0.0625, 0.0625, 0.25, 0.0625, 0.0625, 1.0, 0.0625, 0.0625, 0.25, 0.0625, 0.0625, 0.5, 0.0625, 0.0625, 0.125, 0.0625, 0.0625, 0.0625, 0.25, 0.0625, 0.0625, 0.0625, 0.125, 0.0625, 0.0625, 0.0625, 1.0, 0.0625, 0.0625, 0.125, 0.0625, 0.0625, 0.0625, 0.25, 0.0625, 0.0625, 0.125, 0.0625, 0.0625, 0.0625, 0.5, 0.0625, 0.0625, 0.25, 0.0625, 0.0625, 1.0, 0.0625, 0.0625, 0.125, 0.0625, 0.0625, 0.0625, 0.25, 0.0625, 0.0625, 0.125, 0.0625, 0.0625, 0.0625, 0.5, 0.0625, 0.0625, 0.25, 0.0625, 0.0625, 1.0, 0.0625, 0.0625, 0.0625, 0.25, 0.0625, 0.0625, 0.0625, 0.5, 0.0625, 0.0625, 0.0625, 0.25, 0.0625, 0.0625, 0.0625, 1.0, 0.0625, 0.0625, 0.125, 0.0625, 0.0625, 0.0625, 0.25, 0.5, 0.125, 0.0625, 0.25, 0.125, 1.0, 0.25, 0.5, 0.125, 0.25, 0.125, 0.5, 0.125, 0.25, 0.125, 1.0, 0.0625, 0.0625, 0.0625, 0.0625, 0.25, 0.0625, 0.0625, 0.5]\n"
     ]
    }
   ],
   "source": [
    "strings = []\n",
    "noteoffsets = []\n",
    "midis = []\n",
    "keys = []\n",
    "beatstrengths = []\n",
    "\n",
    "for voice in voices:\n",
    "    string, key, noteoffset, midi, beatstrength = get_diatonic_intervals(voice)\n",
    "    strings.append(string)\n",
    "    noteoffsets.append(noteoffset)\n",
    "    beatstrengths.append(beatstrength)\n",
    "    midis.append(midi)\n",
    "    keys.append(key)\n",
    "    print(len(string), len(beatstrength))#, len(midi))\n",
    "    print(string)\n",
    "    print(len(noteoffset))\n",
    "    #print(midi)\n",
    "    print(beatstrength)\n",
    "    "
   ]
  },
  {
   "cell_type": "code",
   "execution_count": 9,
   "id": "a08b5996",
   "metadata": {},
   "outputs": [],
   "source": [
    "# Smith-Waterman alignment between the two input sequences\n",
    "def swm_alignment(string1, string2):\n",
    "    match = 2\n",
    "    mismatch = -2\n",
    "    scoring = NucleotideScoringMatrix(match, mismatch)\n",
    "    sw = LocalAlignment(scoring)#, gap_extension_penalty = -5) \n",
    "    \n",
    "    alignment = sw.align(string1, string2)\n",
    "    alignment_strings = alignment.dump()\n",
    "\n",
    "    simi_score = alignment.matches / (alignment.mismatches + alignment.matches)\n",
    "    \n",
    "    return alignment_strings, simi_score\n"
   ]
  },
  {
   "cell_type": "code",
   "execution_count": 10,
   "id": "94591d73",
   "metadata": {},
   "outputs": [],
   "source": [
    "def filter_and_gather_patterns(allthepatterns, fullseq):\n",
    "    pat = fullseq.split('-')\n",
    "    print(\"num of pat in this seq:\", len(pat))    \n",
    "    for pattern in pat:\n",
    "        # Get rid of the sequence shorter than 4; combine all alignment patterns into all pattern list\n",
    "        if len(pattern) > 2:\n",
    "            allthepatterns.append(pattern)\n",
    "    return allthepatterns"
   ]
  },
  {
   "cell_type": "code",
   "execution_count": 11,
   "id": "9ab996d7",
   "metadata": {},
   "outputs": [
    {
     "name": "stdout",
     "output_type": "stream",
     "text": [
      "Query:   2 IAJEIEEEKEEEKEIFAM---FFFF-----HFFFFGGMFFFFGGMFFFFGGMFGG----MGGGFFFFM-GGGFFFFMMMFGGGFFFFMMGGGFFFFDIIHCHCHHEICEIE--MGMFGGLFJMCIFFFFHFFFFGGMFFFFGGMFFFFGGMFGGFEKEMGGGFFFF---------HCH--FIAJEIEKFFFFHHHFEFFGGCLFGGGMFGE------CHCHCMMCHCHCMDE----K------------GGFFFFFFGEF-FGJFFFFFFKFFFFFFF--GJGGFFGG 238\n",
      "           ||||||||||||||...|   ||||     |||||||||||||||||||||||||    |  |    | |||        |||      |||   |  |    ..|| |.|  .|  || |     ||||   .||.||||    ||| | |  |      .||||         |||  .|      ||||||||||||||||     .|      .|            |    |            ||||||||  | |  ||||||.|||||||  |  |.|||\n",
      "Ref  :   2 IAJEIEEEKEEEKEGGMMGGGFFFFGFFFFHFFFFGGMFFFFGGMFFFFGGMFGGDEIEM--G----MFGGG--------GGG------GGG---F--I----AJEI-EEEKEEG--GG-F-----FFFH---GGGGFFFF----FFF-G-F--F------FFFFFMFMCIMMIMHCHCHMI------FFFFHHHFEFFGGCLF-----IEIAJEIEEH------------EIEEEKEEEKEMFGGGGGGGFFFFFF--FIF--FFFFFFIFFFFFFFKFG--GMFGG 205\n",
      "\n",
      "num of pat in this seq: 52\n",
      "num of pat in this seq: 85\n",
      "Query: 122 EKCE-IMMGGGFFFFGFFFFFFFMFFFFHFFFFGGMFFFFGGMFFFFGGMFGG--GGMFGGGGMFGGGGMFGGGGMFGGGGMF-----------GGMGGFFFF-FGGGFFFFGGMFFFFGGMFFFF 232\n",
      "           || | .||||||||||   ||||     |||||||||||||||||||||||||  ..|    |||||||  ||||     | |           ||  ||||| .|||||||    ||| | ||||\n",
      "Ref  :  13 EK-EGGMMGGGFFFFG---FFFF-----HFFFFGGMFFFFGGMFFFFGGMFGGDEIEM----GMFGGGG--GGGG-----G-FIAJEIEEEKEEGG--GFFFFHGGGGFFFF----FFF-G-FFFF 109\n",
      "\n",
      "num of pat in this seq: 16\n",
      "num of pat in this seq: 30\n",
      "Query:   2 IAJEIEEEK-------AMFFFFHFFFFGGMFFFFGGMFFFFGGMFGGMGGGFFFFMGGGFFFF----GGGFFGGMCHCHICKGEGGGFFEIFF-IAJEIEMGMFGGEICEIEEEKAKCHC-H-IC---MG--GGFFFFJEKCEIMMGGGFFFFGFFFFFFFMFFFFHFFFFGGMFFFFGGMFFFFGGMFGGGGMF---GGGGMFGGGGMF---------------------GGGGMFGGGGMFG------GM---------GG-FFFFFG---GGFFFFGGMFF-FFGGMFFFFGGMFGGGGMFFFFGG 247\n",
      "           |||||||||       |||||||||||||||||||||||||||||||||||||||||||||||    |||||..|      .|  ||||  || |   |        .|         || | ||   ||  ||  .|| .| |     ||||             |||||||||||||||||||||||  || |   .||| |   ..|                     .||..| ||||||      .|         || ||||||   |.||||   || ||   ||||   ||.||   ||||\n",
      "Ref  :   2 IAJEIEEEKEEEKEIFAMFFFFHFFFFGGMFFFFGGMFFFFGGMFGGMGGGFFFFMGGGFFFFMMMFGGGFFFFM------MG--GGFF--FFDI---I--------HC---------HCHHEICEIEMGMFGG--LFJ-MC-I-----FFFF-------------HFFFFGGMFFFFGGMFFFFGGMF--GG-FEKEMGGG-F---FFFHCHFIAJEIEKFFFFHHHFEFFGGCLF-GGGMFGECHCHCMMCHCHCMDEKGGFFFFFFGEFFGJFFFF---FFKFF---FFFF---FGJGG---FFGG 238\n",
      "\n",
      "num of pat in this seq: 64\n",
      "num of pat in this seq: 73\n"
     ]
    }
   ],
   "source": [
    "# compare each pair of voices!\n",
    "allthepatterns = []\n",
    "\n",
    "for i in range(0, len(voices)-1):\n",
    "    for j in range(i+1, len(voices)):\n",
    "        alignment_strings, simi_score = swm_alignment(strings[i], strings[j])\n",
    "        if simi_score < 0.25:\n",
    "            print(\"ignoring voice pair:\", i, j)\n",
    "            # if two voices are very different, getting patterns from their alignment won't make sense\n",
    "            continue\n",
    "        # get the patterns from the first voice of this pair\n",
    "        fullseq1 = alignment_strings[0]\n",
    "        fullseq2 = alignment_strings[1]\n",
    "        allthepatterns = filter_and_gather_patterns(allthepatterns, fullseq1)\n",
    "        allthepatterns = filter_and_gather_patterns(allthepatterns, fullseq2)\n",
    "        "
   ]
  },
  {
   "cell_type": "code",
   "execution_count": 12,
   "id": "cf861fad",
   "metadata": {},
   "outputs": [],
   "source": [
    "allthepattern_count = dict(Counter(allthepatterns))\n",
    "# elimiate the repeated strings\n",
    "\n",
    "allthepatterns = list(set(allthepatterns))"
   ]
  },
  {
   "cell_type": "code",
   "execution_count": 47,
   "id": "c01a5bd5",
   "metadata": {},
   "outputs": [
    {
     "data": {
      "text/plain": [
       "60"
      ]
     },
     "execution_count": 47,
     "metadata": {},
     "output_type": "execute_result"
    }
   ],
   "source": [
    "len(allthepatterns)"
   ]
  },
  {
   "cell_type": "code",
   "execution_count": 49,
   "id": "01a18847",
   "metadata": {},
   "outputs": [],
   "source": [
    "def count_substringandparents(allthepatterns, allthepattern_count):\n",
    "    \n",
    "    issubstring = {}\n",
    "    hassubstring = {}\n",
    "    count_as_substring = {}\n",
    "    count_as_parent = {}\n",
    "\n",
    "    for i in range(0, len(allthepatterns)-1):\n",
    "        for j in range(i+1, len(allthepatterns)):\n",
    "            if allthepatterns[i] in allthepatterns[j]:\n",
    "                parent = allthepatterns[j]\n",
    "                kid = allthepatterns[i]\n",
    "                times = parent.count(kid)\n",
    "\n",
    "                if kid not in issubstring:\n",
    "                    issubstring[kid] = 1\n",
    "                    count_as_substring[kid] = times * allthepattern_count[parent]\n",
    "                else:\n",
    "                    issubstring[kid] += 1\n",
    "                    count_as_substring[kid] += times * allthepattern_count[parent]\n",
    "\n",
    "                if parent not in hassubstring:\n",
    "                    hassubstring[parent] = 1\n",
    "                    count_as_parent[parent] = 1#times\n",
    "                else:\n",
    "                    hassubstring[parent] += 1\n",
    "                    count_as_parent[parent] += 1 \n",
    "\n",
    "            elif allthepatterns[j] in allthepatterns[i]:\n",
    "                parent = allthepatterns[i]\n",
    "                kid = allthepatterns[j]\n",
    "                times = parent.count(kid)\n",
    "\n",
    "                if kid not in issubstring:\n",
    "                    issubstring[kid] =1\n",
    "                    count_as_substring[kid] = times * allthepattern_count[parent]\n",
    "                else:\n",
    "                    issubstring[kid] += 1\n",
    "                    count_as_substring[kid] += times * allthepattern_count[parent]\n",
    "\n",
    "                if parent not in hassubstring:\n",
    "                    hassubstring[parent] = 1\n",
    "                    count_as_parent[parent] = 1 #times\n",
    "                else:\n",
    "                    hassubstring[parent] += 1\n",
    "                    count_as_parent[parent] += 1 #times\n",
    "\n",
    "    return issubstring, hassubstring, count_as_substring, count_as_parent\n"
   ]
  },
  {
   "cell_type": "code",
   "execution_count": 50,
   "id": "aa51fe36",
   "metadata": {},
   "outputs": [],
   "source": [
    "issubstring, hassubstring, count_as_substring, count_as_parent = count_substringandparents(allthepatterns, allthepattern_count)"
   ]
  },
  {
   "cell_type": "code",
   "execution_count": 51,
   "id": "2695cea6",
   "metadata": {},
   "outputs": [
    {
     "name": "stdout",
     "output_type": "stream",
     "text": [
      "46\n",
      "36\n"
     ]
    }
   ],
   "source": [
    "# rank the ones that are substrings of another detected pattern\n",
    "sortis = dict(Counter(issubstring))\n",
    "sorthas = dict(Counter(hassubstring))\n",
    "print(len(sorthas))\n",
    "print(len(sortis))"
   ]
  },
  {
   "cell_type": "code",
   "execution_count": 52,
   "id": "7579ab5c",
   "metadata": {},
   "outputs": [],
   "source": [
    "# This counts the times each pattern appeared after original segmentation plus the times they are in other patterns,\n",
    "# plus the times other patterns showed up in them.\n",
    "\n",
    "def combined_count(sorthas, sortis, count_as_parent, count_as_substring, allthepattern_count):\n",
    "    refined_combined = {}\n",
    "\n",
    "    for item in sorthas:\n",
    "        if item in sortis:\n",
    "            # the ones that has substring and also are the substrings\n",
    "            refined_combined[item] = count_as_parent[item] + count_as_substring[item] + allthepattern_count[item]\n",
    "        else:\n",
    "            # the ones that has substrings\n",
    "            refined_combined[item] = count_as_parent[item] + allthepattern_count[item]\n",
    "    # the patterns that are substrings of other patterns but none of the others are substrings of it\n",
    "    for item in sortis:\n",
    "        if item not in refined_combined:\n",
    "            refined_combined[item] = count_as_substring[item] + allthepattern_count[item]\n",
    "        # otherwise is already counted\n",
    "    \n",
    "    return refined_combined\n",
    "\n",
    "combined = combined_count(sorthas, sortis, count_as_parent, count_as_substring, allthepattern_count)"
   ]
  },
  {
   "cell_type": "code",
   "execution_count": 53,
   "id": "4a9bacdb",
   "metadata": {},
   "outputs": [],
   "source": [
    "#dict(Counter(combined))"
   ]
  },
  {
   "cell_type": "code",
   "execution_count": 54,
   "id": "3ed173cc",
   "metadata": {},
   "outputs": [],
   "source": [
    "def filter_combined_patterns(combined):\n",
    "    \n",
    "    finalpattern = []\n",
    "    for i in combined: \n",
    "\n",
    "        if len(i) < 3:\n",
    "            # if the length is shorter than 4 notes, discard\n",
    "            continue\n",
    "\n",
    "        if combined[i] > 1:\n",
    "            # keep the ones that has substring or is substring more than once\n",
    "            finalpattern.append(i)\n",
    "\n",
    "    finalpattern_combined = {}\n",
    "        \n",
    "    for thisone in finalpattern:\n",
    "        finalpattern_combined[thisone] = combined[thisone]\n",
    "\n",
    "    dict(Counter(finalpattern_combined))\n",
    "        \n",
    "    if len(finalpattern) > 30:\n",
    "        # if more than 20 patterns, only take the top 20\n",
    "        finalpattern_combined = dict(sorted(finalpattern_combined.items(), key = lambda x:-x[1], reverse = True)[-20:])\n",
    "    \n",
    "    return finalpattern_combined\n"
   ]
  },
  {
   "cell_type": "code",
   "execution_count": 55,
   "id": "4be71143",
   "metadata": {},
   "outputs": [],
   "source": [
    "# filter out the short ones\n",
    "top20patterns_combined = filter_combined_patterns(combined)"
   ]
  },
  {
   "cell_type": "code",
   "execution_count": 56,
   "id": "3d8ef126",
   "metadata": {},
   "outputs": [
    {
     "name": "stdout",
     "output_type": "stream",
     "text": [
      "{'AJEI': 10, 'HCH': 10, 'IMMGGGFFFFGFFFFFFFMFFFFHFFFFGGMFFFFGGMFFFFGGMFGG': 11, 'GMFGGGG': 11, 'MGMFGGLFJMCIFFFFHFFFFGGMFFFFGGMFFFFGGMFGGFEKEMGGGFFFF': 12, 'HFFFFGGMFFFFGGMFFFFGGMF': 12, 'AMFFFFHFFFFGGMFFFFGGMFFFFGGMFGGMGGGFFFFMGGGFFFF': 12, 'HFFFFGGMFFFFGGMFFFFGGMFGG': 13, 'FFFH': 13, 'IAJEIEEEKEEEKEGGMMGGGFFFFGFFFFHFFFFGGMFFFFGGMFFFFGGMFGGDEIEM': 14, 'MFGGG': 14, 'GGFFFFJEKCEIMMGGGFFFFGFFFFFFFMFFFFHFFFFGGMFFFFGGMFFFFGGMFGGGGMF': 15, 'IAJEIEEEKEEEKEIFAMFFFFHFFFFGGMFFFFGGMFFFFGGMFGGMGGGFFFFMGGGFFFFMMMFGGGFFFFM': 16, 'GGGG': 16, 'GMFGG': 20, 'GGFF': 27, 'GGG': 39, 'FFGG': 39, 'FFFF': 79, 'FFF': 91}\n"
     ]
    }
   ],
   "source": [
    "print(dict(Counter(top20patterns_combined)))"
   ]
  },
  {
   "cell_type": "code",
   "execution_count": 57,
   "id": "164a2096",
   "metadata": {},
   "outputs": [],
   "source": [
    "def reduce_pattern_length(seq):\n",
    "        # the function returns the longest substring that appeared at least once\n",
    "        # if there is length 4 substring repeated 4 times and a length 7 substring repeated 2 times, we take the length 7\n",
    "        best_performance = \"\"\n",
    "        candidates = []\n",
    "        for length in range(int(0.3*len(seq)), int(len(seq)*0.5)+1): \n",
    "            for start in range(0, len(seq)-length):\n",
    "                # get all the substrings of this length within the string, save in candidates\n",
    "                candidates.append(seq[start:start+length])\n",
    "        count_can = {}\n",
    "        for candidate in candidates:\n",
    "                count_can[candidate] = seq.count(candidate)\n",
    "                if count_can[candidate] > 1:\n",
    "                    # if it is repeated more than once in the string\n",
    "                    if len(candidate) > len(best_performance):\n",
    "                        best_performance = candidate\n",
    "                    elif len(candidate) == len(best_performance) and count_can[candidate] > count_can[best_performance]:\n",
    "                        best_performance = candidate\n",
    "        \n",
    "        return best_performance\n",
    "\n",
    "def check_reduction(item):\n",
    "    success = False\n",
    "    frequent_substr = reduce_pattern_length(item)\n",
    "    if len(frequent_substr) > 4 and len(frequent_substr) > 0.3*len(item):\n",
    "        print(\"extracted\", frequent_substr, \"from\", item)\n",
    "        # sucessfully reduced the pattern\n",
    "        return frequent_substr\n",
    "    return None"
   ]
  },
  {
   "cell_type": "code",
   "execution_count": 58,
   "id": "59573055",
   "metadata": {},
   "outputs": [],
   "source": [
    "def reduce_length_of_each_pattern(onlyassubstring, top20patterns):\n",
    "    \n",
    "    beforereduction = {}\n",
    "    # reducedfinalpat is the new list that contains all valid patterns after reduction plus the ones that does not need to be reduced\n",
    "    reducedfinalpat = []\n",
    "\n",
    "    for item in top20patterns:\n",
    "        # check the ones that has substring, see if their length can be reduced\n",
    "        if len(item) > 11 and item not in onlyassubstring:\n",
    "            #if the extracted pattern is too long, find longest repeated pattern within it\n",
    "            frequent_substr = check_reduction(item)\n",
    "            if frequent_substr != None:\n",
    "                if len(frequent_substr) > 23:\n",
    "                    # second attempt, if a frequent substring is takend and it is still quite long\n",
    "                    new_frequent_substr = check_reduction(frequent_substr)\n",
    "                    if new_frequent_substr != None:\n",
    "                        # if the second attempt is a success, take the twice reduced pattern\n",
    "                        reducedfinalpat.append(new_frequent_substr)\n",
    "                        beforereduction[new_frequent_substr] = item\n",
    "                    else:\n",
    "                        # if the second attempt failed, take the result of first reduction\n",
    "                        reducedfinalpat.append(frequent_substr)\n",
    "                        beforereduction[frequent_substr] = item\n",
    "                else:\n",
    "                    # if the extracted pattern is already not very long\n",
    "                    reducedfinalpat.append(frequent_substr)\n",
    "                    beforereduction[frequent_substr] = item\n",
    "            else:\n",
    "                # if the reduction failed, take the original\n",
    "                reducedfinalpat.append(item)\n",
    "        else:\n",
    "            # otherwise keep it without reduction\n",
    "            reducedfinalpat.append(item)\n",
    "    \n",
    "    return reducedfinalpat, beforereduction"
   ]
  },
  {
   "cell_type": "code",
   "execution_count": 59,
   "id": "415284e9",
   "metadata": {},
   "outputs": [
    {
     "name": "stdout",
     "output_type": "stream",
     "text": [
      "extracted FFFFGGMF from HFFFFGGMFFFFGGMFFFFGGMF\n",
      "extracted FFFFGGMF from HFFFFGGMFFFFGGMFFFFGGMFGG\n"
     ]
    }
   ],
   "source": [
    "onlyassubstring = set(issubstring) - set(hassubstring)\n",
    "reducedfinalpat, beforereduction = reduce_length_of_each_pattern(onlyassubstring, list(set(top20patterns_combined)))"
   ]
  },
  {
   "cell_type": "code",
   "execution_count": 60,
   "id": "fa53f6fc",
   "metadata": {},
   "outputs": [],
   "source": [
    "def find_pattern_pos(string, pattern, beatstrength):\n",
    "    patpos_start = []\n",
    "    patpos_end = []\n",
    "    count = 0\n",
    "    beatcount = 0\n",
    "    for m in re.finditer(pattern, string):\n",
    "        count +=1\n",
    "        if beatstrength[m.start()] == 1: # or >= 0.5\n",
    "            beatcount+=1\n",
    "        patpos_start.append(m.start())\n",
    "        patpos_end.append(m.end())\n",
    "    return patpos_start, patpos_end, count, beatcount"
   ]
  },
  {
   "cell_type": "code",
   "execution_count": 61,
   "id": "527abc79",
   "metadata": {},
   "outputs": [],
   "source": [
    "def count_final_pattern(reducedfinalpat, strings, beatstrengths):\n",
    "\n",
    "    count_pattern = {}\n",
    "    refined_finalpat = []\n",
    "    startonsets = []\n",
    "    startpitches = []\n",
    "    endonsets = []\n",
    "    endpitches = []\n",
    "\n",
    "    for pattern in reducedfinalpat:\n",
    "        stringnum = 0\n",
    "        beat_importance = 0\n",
    "        for string in strings:\n",
    "            # find the pattern in eachvoice\n",
    "            patpos_start, patpos_end, count, beatcount = find_pattern_pos(string, pattern, beatstrengths[stringnum])\n",
    "            beat_importance += beatcount\n",
    "            if pattern not in count_pattern:\n",
    "                count_pattern[pattern] = count\n",
    "            else:\n",
    "                count_pattern[pattern] += count\n",
    "            if count != 0:\n",
    "                print(\"Pattern\", pattern, \"appears in voice no.\", stringnum+1, \", first pos starts at \", patpos_start[0], \"end at\", patpos_end[0])\n",
    "            num = 0\n",
    "            for startpos in patpos_start:\n",
    "                startonsets.append(noteoffsets[stringnum][startpos])\n",
    "                endonsets.append(noteoffsets[stringnum][patpos_end[num]])\n",
    "                num+=1\n",
    "            stringnum+=1\n",
    "        if count_pattern[pattern] >= 2 and beat_importance > 0:\n",
    "            # get rid of the ones that actually appeared less than 2 times in total\n",
    "            refined_finalpat.append(pattern)\n",
    "        else:\n",
    "            if count_pattern[pattern] < 2:\n",
    "                print(\"discard pattern\", pattern, \"because it only appered once in total.\")\n",
    "            elif beat_importance == 0:\n",
    "                print(\"discard pattern\", pattern, \"because it never appeared at the start of a bar.\")\n",
    "                print(\"this pattern can be decoded as\", decode_strings(pattern))\n",
    "            \n",
    "    return refined_finalpat, count_pattern, startonsets, endonsets\n"
   ]
  },
  {
   "cell_type": "code",
   "execution_count": 62,
   "id": "2922422b",
   "metadata": {},
   "outputs": [],
   "source": [
    "def decode_strings(string):\n",
    "    \n",
    "    decode_dia_intervals = {'A': '6D', 'B': '5D', 'C': '4D', 'D': '3D', 'E': '2D', 'F': '1D', \n",
    "                            'G': '1A', 'H': '2A', 'I': '3A', 'J': '4A', 'K': '5A', 'L': '6A', 'M': '0A'}\n",
    "    \n",
    "    decode_string = \"\"\n",
    "\n",
    "    for letter in string:\n",
    "        trans = decode_dia_intervals[letter]\n",
    "        decode_string+=trans\n",
    "\n",
    "    return decode_string"
   ]
  },
  {
   "cell_type": "code",
   "execution_count": 63,
   "id": "d10503af",
   "metadata": {},
   "outputs": [
    {
     "name": "stdout",
     "output_type": "stream",
     "text": [
      "Pattern FFFF appears in voice no. 1 , first pos starts at  22 end at 26\n",
      "Pattern FFFF appears in voice no. 2 , first pos starts at  19 end at 23\n",
      "Pattern FFFF appears in voice no. 3 , first pos starts at  12 end at 16\n",
      "Pattern MGMFGGLFJMCIFFFFHFFFFGGMFFFFGGMFFFFGGMFGGFEKEMGGGFFFF appears in voice no. 2 , first pos starts at  99 end at 152\n",
      "discard pattern MGMFGGLFJMCIFFFFHFFFFGGMFFFFGGMFFFFGGMFGGFEKEMGGGFFFF because it only appered once in total.\n",
      "Pattern GGFFFFJEKCEIMMGGGFFFFGFFFFFFFMFFFFHFFFFGGMFFFFGGMFFFFGGMFGGGGMF appears in voice no. 3 , first pos starts at  114 end at 177\n",
      "discard pattern GGFFFFJEKCEIMMGGGFFFFGFFFFFFFMFFFFHFFFFGGMFFFFGGMFFFFGGMFGGGGMF because it only appered once in total.\n",
      "Pattern AJEI appears in voice no. 1 , first pos starts at  2 end at 6\n",
      "Pattern AJEI appears in voice no. 2 , first pos starts at  2 end at 6\n",
      "Pattern AJEI appears in voice no. 3 , first pos starts at  2 end at 6\n",
      "discard pattern AJEI because it never appeared at the start of a bar.\n",
      "this pattern can be decoded as 6D4A2D3A\n",
      "Pattern AMFFFFHFFFFGGMFFFFGGMFFFFGGMFGGMGGGFFFFMGGGFFFF appears in voice no. 2 , first pos starts at  17 end at 64\n",
      "Pattern AMFFFFHFFFFGGMFFFFGGMFFFFGGMFGGMGGGFFFFMGGGFFFF appears in voice no. 3 , first pos starts at  10 end at 57\n",
      "discard pattern AMFFFFHFFFFGGMFFFFGGMFFFFGGMFGGMGGGFFFFMGGGFFFF because it never appeared at the start of a bar.\n",
      "this pattern can be decoded as 6D0A1D1D1D1D2A1D1D1D1D1A1A0A1D1D1D1D1A1A0A1D1D1D1D1A1A0A1D1A1A0A1A1A1A1D1D1D1D0A1A1A1A1D1D1D1D\n",
      "Pattern GMFGGGG appears in voice no. 1 , first pos starts at  61 end at 68\n",
      "Pattern GMFGGGG appears in voice no. 3 , first pos starts at  168 end at 175\n",
      "discard pattern GMFGGGG because it never appeared at the start of a bar.\n",
      "this pattern can be decoded as 1A0A1D1A1A1A1A\n",
      "Pattern GMFGG appears in voice no. 1 , first pos starts at  51 end at 56\n",
      "Pattern GMFGG appears in voice no. 2 , first pos starts at  43 end at 48\n",
      "Pattern GMFGG appears in voice no. 3 , first pos starts at  36 end at 41\n",
      "discard pattern GMFGG because it never appeared at the start of a bar.\n",
      "this pattern can be decoded as 1A0A1D1A1A\n",
      "Pattern GGGG appears in voice no. 1 , first pos starts at  64 end at 68\n",
      "Pattern GGGG appears in voice no. 3 , first pos starts at  171 end at 175\n",
      "Pattern IAJEIEEEKEEEKEGGMMGGGFFFFGFFFFHFFFFGGMFFFFGGMFFFFGGMFGGDEIEM appears in voice no. 1 , first pos starts at  1 end at 61\n",
      "discard pattern IAJEIEEEKEEEKEGGMMGGGFFFFGFFFFHFFFFGGMFFFFGGMFFFFGGMFGGDEIEM because it only appered once in total.\n",
      "Pattern IAJEIEEEKEEEKEIFAMFFFFHFFFFGGMFFFFGGMFFFFGGMFGGMGGGFFFFMGGGFFFFMMMFGGGFFFFM appears in voice no. 2 , first pos starts at  1 end at 76\n",
      "discard pattern IAJEIEEEKEEEKEIFAMFFFFHFFFFGGMFFFFGGMFFFFGGMFGGMGGGFFFFMGGGFFFFMMMFGGGFFFFM because it only appered once in total.\n",
      "Pattern FFFFGGMF appears in voice no. 1 , first pos starts at  32 end at 40\n",
      "Pattern FFFFGGMF appears in voice no. 2 , first pos starts at  24 end at 32\n",
      "Pattern FFFFGGMF appears in voice no. 3 , first pos starts at  17 end at 25\n",
      "discard pattern FFFFGGMF because it never appeared at the start of a bar.\n",
      "this pattern can be decoded as 1D1D1D1D1A1A0A1D\n",
      "Pattern FFFH appears in voice no. 1 , first pos starts at  28 end at 32\n",
      "Pattern FFFH appears in voice no. 2 , first pos starts at  20 end at 24\n",
      "Pattern FFFH appears in voice no. 3 , first pos starts at  13 end at 17\n",
      "discard pattern FFFH because it never appeared at the start of a bar.\n",
      "this pattern can be decoded as 1D1D1D2A\n",
      "Pattern FFF appears in voice no. 1 , first pos starts at  22 end at 25\n",
      "Pattern FFF appears in voice no. 2 , first pos starts at  19 end at 22\n",
      "Pattern FFF appears in voice no. 3 , first pos starts at  12 end at 15\n",
      "Pattern GGFF appears in voice no. 1 , first pos starts at  20 end at 24\n",
      "Pattern GGFF appears in voice no. 2 , first pos starts at  50 end at 54\n",
      "Pattern GGFF appears in voice no. 3 , first pos starts at  43 end at 47\n",
      "Pattern MFGGG appears in voice no. 1 , first pos starts at  62 end at 67\n",
      "Pattern MFGGG appears in voice no. 2 , first pos starts at  66 end at 71\n",
      "Pattern MFGGG appears in voice no. 3 , first pos starts at  169 end at 174\n",
      "Pattern IMMGGGFFFFGFFFFFFFMFFFFHFFFFGGMFFFFGGMFFFFGGMFGG appears in voice no. 3 , first pos starts at  125 end at 173\n",
      "discard pattern IMMGGGFFFFGFFFFFFFMFFFFHFFFFGGMFFFFGGMFFFFGGMFGG because it only appered once in total.\n",
      "Pattern FFGG appears in voice no. 1 , first pos starts at  34 end at 38\n",
      "Pattern FFGG appears in voice no. 2 , first pos starts at  26 end at 30\n",
      "Pattern FFGG appears in voice no. 3 , first pos starts at  19 end at 23\n",
      "Pattern HCH appears in voice no. 1 , first pos starts at  121 end at 124\n",
      "Pattern HCH appears in voice no. 2 , first pos starts at  87 end at 90\n",
      "Pattern HCH appears in voice no. 3 , first pos starts at  66 end at 69\n",
      "Pattern GGG appears in voice no. 1 , first pos starts at  19 end at 22\n",
      "Pattern GGG appears in voice no. 2 , first pos starts at  49 end at 52\n",
      "Pattern GGG appears in voice no. 3 , first pos starts at  42 end at 45\n",
      "Pattern FFFFGGMF appears in voice no. 1 , first pos starts at  32 end at 40\n",
      "Pattern FFFFGGMF appears in voice no. 2 , first pos starts at  24 end at 32\n",
      "Pattern FFFFGGMF appears in voice no. 3 , first pos starts at  17 end at 25\n",
      "discard pattern FFFFGGMF because it never appeared at the start of a bar.\n",
      "this pattern can be decoded as 1D1D1D1D1A1A0A1D\n"
     ]
    }
   ],
   "source": [
    "finalpat, count_pattern, startonsets,  endonsets = count_final_pattern(reducedfinalpat, strings, beatstrengths)"
   ]
  },
  {
   "cell_type": "code",
   "execution_count": 64,
   "id": "2aacc75d",
   "metadata": {},
   "outputs": [],
   "source": [
    "def decode_results(finalpat, count_pattern, combined, beforereduction):\n",
    "    \n",
    "    decoded_patterns = []\n",
    "    decoded_patterns_weighed = {}\n",
    "    decoded_patterns_count = {}\n",
    "    decoded_patterns_combined = {}\n",
    "    \n",
    "    decode_dia_intervals = {'A': '6D', 'B': '5D', 'C': '4D', 'D': '3D', 'E': '2D', 'F': '1D', \n",
    "                            'G': '1A', 'H': '2A', 'I': '3A', 'J': '4A', 'K': '5A', 'L': '6A', 'M': '0A'}\n",
    "\n",
    "    # decode all the candidates for patterns\n",
    "    for pattern in finalpat:\n",
    "        trans_pattern = \"\"\n",
    "        for letter in pattern:\n",
    "            trans = decode_dia_intervals[letter]\n",
    "            trans_pattern += trans\n",
    "\n",
    "        decoded_patterns_count[trans_pattern] = count_pattern[pattern]\n",
    "        \n",
    "        if pattern in combined:\n",
    "            # some might be reduced to a shorter pattern\n",
    "            decoded_patterns_combined[trans_pattern] = combined[pattern]\n",
    "        else:\n",
    "            decoded_patterns_combined[trans_pattern] = combined[beforereduction[pattern]]\n",
    "        decoded_patterns.append(trans_pattern)\n",
    "        \n",
    "    return decoded_patterns, decoded_patterns_combined, decoded_patterns_count\n"
   ]
  },
  {
   "cell_type": "markdown",
   "id": "b2d1bacd",
   "metadata": {},
   "source": [
    "Strings of intervals of each voice:"
   ]
  },
  {
   "cell_type": "code",
   "execution_count": 65,
   "id": "52f91910",
   "metadata": {},
   "outputs": [
    {
     "name": "stdout",
     "output_type": "stream",
     "text": [
      "2D3A6D4A2D3A2D2D2D5A2D2D2D5A2D1A1A0A0A1A1A1A1D1D1D1D1A1D1D1D1D2A1D1D1D1D1A1A0A1D1D1D1D1A1A0A1D1D1D1D1A1A0A1D1A1A3D2D3A2D0A1A0A1D1A1A1A1A1A1A1A1A1A1D3A6D4A2D3A2D2D2D5A2D2D1A1A1A1D1D1D1D2A1A1A1A1A1D1D1D1D1D1D1D1A1D1D1D1D1D1D1D0A1D0A4D3A0A0A3A0A2A4D2A4D2A0A3A1D1D1D1D2A2A2A1D2D1D1D1A1A4D6A1D3A2D3A6D4A2D3A2D2D2A2D3A2D2D2D5A2D2D2D5A2D0A1D1A1A1A1A1A1A1A1D1D1D1D1D1D1D3A1D1D1D1D1D1D1D3A1D1D1D1D1D1D1D5A1D1A1A0A1D1A1A0A1A4D2A1A\n",
      "\n",
      "1D3A6D4A2D3A2D2D2D5A2D2D2D5A2D3A1D6D0A1D1D1D1D2A1D1D1D1D1A1A0A1D1D1D1D1A1A0A1D1D1D1D1A1A0A1D1A1A0A1A1A1A1D1D1D1D0A1A1A1A1D1D1D1D0A0A0A1D1A1A1A1D1D1D1D0A0A1A1A1A1D1D1D1D3D3A3A2A4D2A4D2A2A2D3A4D2D3A2D0A1A0A1D1A1A6A1D4A0A4D3A1D1D1D1D2A1D1D1D1D1A1A0A1D1D1D1D1A1A0A1D1D1D1D1A1A0A1D1A1A1D2D5A2D0A1A1A1A1D1D1D1D2A4D2A1D3A6D4A2D3A2D5A1D1D1D1D2A2A2A1D2D1D1D1A1A4D6A1D1A1A1A0A1D1A2D4D2A4D2A4D0A0A4D2A4D2A4D0A3D2D5A1A1A1D1D1D1D1D1D1A2D1D1D1A4A1D1D1D1D1D1D5A1D1D1D1D1D1D1D1A4A1A1A1D1D1A1A2A6D2A1A\n",
      "\n",
      "2D3A6D4A2D3A2D2D2D5A6D0A1D1D1D1D2A1D1D1D1D1A1A0A1D1D1D1D1A1A0A1D1D1D1D1A1A0A1D1A1A0A1A1A1A1D1D1D1D0A1A1A1A1D1D1D1D1A1A1A1D1D1A1A0A4D2A4D2A3A4D5A1A2D1A1A1A1D1D2D3A1D1D3A6D4A2D3A2D0A1A0A1D1A1A2D3A4D2D3A2D2D2D5A6D5A4D2A4D2A3A4D0A1A1A1A1D1D1D1D4A2D5A4D2D3A0A0A1A1A1A1D1D1D1D1A1D1D1D1D1D1D1D0A1D1D1D1D2A1D1D1D1D1A1A0A1D1D1D1D1A1A0A1D1D1D1D1A1A0A1D1A1A1A1A0A1D1A1A1A1A0A1D1A1A1A1A0A1D1A1A1A1A0A1D1A1A1A1A0A1D1A1A0A1A1A1D1D1D1D1D1A1A1A1D1D1D1D1A1A0A1D1D1D1D1A1A0A1D1D1D1D1A1A0A1D1A1A1A1A0A1D1D1D1D1A1A0A1D1D1D1D1A1A0A1D1A1A0A1A1A1A1D1D1D1D0A1A1A1A1D1D1D1D1A1A1A1A1A1A1A0A1D1D1D1D1D3A6D4A2D3A2D2D3D2A1D1D1D1A1A1D1D1A4D\n",
      "\n"
     ]
    }
   ],
   "source": [
    "# Strings of intervals of each voice\n",
    "decoded_strings = []\n",
    "for string in strings:\n",
    "    decoded = decode_strings(string)\n",
    "    decoded_strings.append(decoded)\n",
    "    print(decoded)\n",
    "    print(\"\")"
   ]
  },
  {
   "cell_type": "code",
   "execution_count": 66,
   "id": "e3811e90",
   "metadata": {},
   "outputs": [
    {
     "name": "stdout",
     "output_type": "stream",
     "text": [
      "Pattern: 1D1D1D1D\n",
      "importance score: 79 occurrence: 51\n",
      "Pattern: 1A1A1A1A\n",
      "importance score: 16 occurrence: 11\n",
      "Pattern: 1D1D1D\n",
      "importance score: 91 occurrence: 61\n",
      "Pattern: 1A1A1D1D\n",
      "importance score: 27 occurrence: 22\n",
      "Pattern: 0A1D1A1A1A\n",
      "importance score: 14 occurrence: 9\n",
      "Pattern: 1D1D1A1A\n",
      "importance score: 39 occurrence: 28\n",
      "Pattern: 2A4D2A\n",
      "importance score: 10 occurrence: 7\n",
      "Pattern: 1A1A1A\n",
      "importance score: 39 occurrence: 31\n"
     ]
    }
   ],
   "source": [
    "# Decode patterns\n",
    "decoded_patterns, decoded_patterns_combined, decoded_patterns_count = decode_results(finalpat, count_pattern, combined, beforereduction)\n",
    "    \n",
    "\n",
    "\n",
    "for pattern in decoded_patterns:\n",
    "        print(\"Pattern:\", pattern)\n",
    "        print(\"importance score:\", decoded_patterns_combined[pattern],\n",
    "              \"occurrence:\", decoded_patterns_count[pattern])\n"
   ]
  },
  {
   "cell_type": "code",
   "execution_count": 67,
   "id": "01510636",
   "metadata": {},
   "outputs": [
    {
     "data": {
      "text/plain": [
       "['1D1D1D1D',\n",
       " '1A1A1A1A',\n",
       " '1D1D1D',\n",
       " '1A1A1D1D',\n",
       " '0A1D1A1A1A',\n",
       " '1D1D1A1A',\n",
       " '2A4D2A',\n",
       " '1A1A1A']"
      ]
     },
     "execution_count": 67,
     "metadata": {},
     "output_type": "execute_result"
    }
   ],
   "source": [
    "decoded_patterns"
   ]
  },
  {
   "cell_type": "code",
   "execution_count": 68,
   "id": "31669153",
   "metadata": {},
   "outputs": [
    {
     "name": "stdout",
     "output_type": "stream",
     "text": [
      "['jkupddtest/chopinmono/A', 'jkupddtest/chopinmono/mazurka24-4.krn', 'jkupddtest/chopinmono/B']\n",
      "jkupddtest/chopinmono/B/occ5.csv\n",
      "2D2A2D0A1A0A0A1A1D4A3D3A3D0A0A0A0A2A2D4A2D2A2D0A1A0A0A1A1D0A5D1A\n",
      "jkupddtest/chopinmono/B/occ1.csv\n",
      "2D2A2D0A1A0A0A4A3D3A3D0A0A0A0A4A2D2A2D0A1A0A0A1A1D0A5D1A\n",
      "jkupddtest/chopinmono/B/occ7.csv\n",
      "2D2A2D0A1A0A0A1A1D4A3D3A3D0A0A0A0A2A2D4A2D2A2D0A1A0A0A1A1D0A5D1A\n",
      "jkupddtest/chopinmono/B/occ2.csv\n",
      "2D2A2D0A1A0A0A4A3D3A3D0A0A0A0A4A2D2A2D0A1A0A0A0A0A3D0A1D\n",
      "jkupddtest/chopinmono/B/occ6.csv\n",
      "2D2A2D0A1A0A0A4A3D3A3D0A0A0A0A4A2D2A2D0A1A0A0A0A0A3D0A1D\n",
      "jkupddtest/chopinmono/B/occ4.csv\n",
      "2D2A2D0A1A0A0A4A3D3A3D0A0A0A0A4A2D2A2D0A1A0A0A0A0A3D0A1D\n",
      "jkupddtest/chopinmono/B/occ3.csv\n",
      "2D2A2D0A1A0A0A1A1D4A3D3A3D0A0A0A0A2A2D4A2D2A2D0A1A0A0A1A1D0A5D1A\n"
     ]
    }
   ],
   "source": [
    "# Get patterns from ground truth\n",
    "\n",
    "dict_wordtonum = {\"Unison\": '0', \"Second\": '1', \"Third\": '2', \"Fourth\": '3', \"Fifth\": '4', \"Sixth\": '5', \"Seventh\": '6'}\n",
    "\n",
    "groundtruthpatterns = []\n",
    "print(glob.glob(\"jkupddtest/chopinmono/*\"))\n",
    "filenames = glob.glob(\"jkupddtest/chopinmono/B/*.csv\")\n",
    "for filename in filenames:\n",
    "    print(filename)\n",
    "    with open(filename, 'r') as file:\n",
    "        csvreader = csv.reader(file)\n",
    "        gts = []\n",
    "        gtm = []\n",
    "        pattern_gt = []\n",
    "        for row in csvreader:\n",
    "            gts.append(float(row[0]))\n",
    "            gtm.append(float(row[1]))\n",
    "        for i in gtm:\n",
    "            pattern_gt.append(m21.note.Note(i))\n",
    "        pattern_string = \"\"\n",
    "        interval_string = \"\"\n",
    "        for i in pattern_gt:\n",
    "            pattern_string += str(i)\n",
    "            \n",
    "        for i in range(1, len(pattern_gt)):           \n",
    "            gap = pattern_gt[i].pitch.diatonicNoteNum - pattern_gt[i-1].pitch.diatonicNoteNum\n",
    "            if gap >= 0:\n",
    "                direction = 'A'\n",
    "            else:\n",
    "                direction = 'D'\n",
    "            m21_interval_directed = m21.interval.Interval(noteStart=pattern_gt[i-1], noteEnd=pattern_gt[i]).directedSimpleNiceName\n",
    "            arr_diatonic = m21_interval_directed.split(\" \")\n",
    "            m21_generic = dict_wordtonum[arr_diatonic[-1]]\n",
    "            m21_interval = m21_generic+direction\n",
    "            \n",
    "            interval_string+=m21_interval\n",
    "            \n",
    "        print(interval_string)\n",
    "\n",
    "        groundtruthpatterns.append(interval_string)\n"
   ]
  },
  {
   "cell_type": "code",
   "execution_count": 69,
   "id": "1f292cc0",
   "metadata": {},
   "outputs": [
    {
     "data": {
      "text/plain": [
       "{'2D2A2D0A1A0A0A1A1D4A3D3A3D0A0A0A0A2A2D4A2D2A2D0A1A0A0A1A1D0A5D1A',\n",
       " '2D2A2D0A1A0A0A4A3D3A3D0A0A0A0A4A2D2A2D0A1A0A0A0A0A3D0A1D',\n",
       " '2D2A2D0A1A0A0A4A3D3A3D0A0A0A0A4A2D2A2D0A1A0A0A1A1D0A5D1A'}"
      ]
     },
     "execution_count": 69,
     "metadata": {},
     "output_type": "execute_result"
    }
   ],
   "source": [
    "set(groundtruthpatterns)"
   ]
  },
  {
   "cell_type": "code",
   "execution_count": 70,
   "id": "b761cec0",
   "metadata": {},
   "outputs": [
    {
     "name": "stdout",
     "output_type": "stream",
     "text": [
      "pattern 2D2A2D0A1A0A0A1A1D4A3D3A3D0A0A0A0A2A2D4A2D2A2D0A1A0A0A1A1D0A5D1A not in original score\n",
      "pattern 2D2A2D0A1A0A0A4A3D3A3D0A0A0A0A4A2D2A2D0A1A0A0A1A1D0A5D1A not in original score\n",
      "pattern 2D2A2D0A1A0A0A1A1D4A3D3A3D0A0A0A0A2A2D4A2D2A2D0A1A0A0A1A1D0A5D1A not in original score\n",
      "pattern 2D2A2D0A1A0A0A4A3D3A3D0A0A0A0A4A2D2A2D0A1A0A0A0A0A3D0A1D not in original score\n",
      "pattern 2D2A2D0A1A0A0A4A3D3A3D0A0A0A0A4A2D2A2D0A1A0A0A0A0A3D0A1D not in original score\n",
      "pattern 2D2A2D0A1A0A0A4A3D3A3D0A0A0A0A4A2D2A2D0A1A0A0A0A0A3D0A1D not in original score\n",
      "pattern 2D2A2D0A1A0A0A1A1D4A3D3A3D0A0A0A0A2A2D4A2D2A2D0A1A0A0A1A1D0A5D1A not in original score\n"
     ]
    }
   ],
   "source": [
    "for pattern in groundtruthpatterns:\n",
    "    count = 0\n",
    "    for decodedstring in decoded_strings:\n",
    "        count += decodedstring.count(pattern)\n",
    "    if count == 0:\n",
    "        print(\"pattern\", pattern, \"not in original score\")\n",
    "    elif count == 1:\n",
    "        print(\"pattern\", pattern, \"only appeared once\")\n",
    "    else:\n",
    "        print(\"pattern\", pattern, \"appeared\", count, \"times in total\")"
   ]
  },
  {
   "cell_type": "code",
   "execution_count": 71,
   "id": "d4b47c46",
   "metadata": {},
   "outputs": [],
   "source": [
    "##CHECK IF THERE IS A MATCH\n",
    "\n",
    "for i in groundtruthpatterns:\n",
    "    if i in finalpat: #refined_finalpat:\n",
    "        print(\"found a match:\", i)"
   ]
  },
  {
   "cell_type": "code",
   "execution_count": null,
   "id": "e5c7ba74",
   "metadata": {},
   "outputs": [],
   "source": []
  },
  {
   "cell_type": "code",
   "execution_count": 72,
   "id": "90018dd8",
   "metadata": {},
   "outputs": [],
   "source": [
    "#TEST2\n"
   ]
  },
  {
   "cell_type": "code",
   "execution_count": 73,
   "id": "5dfb1b2b",
   "metadata": {},
   "outputs": [
    {
     "name": "stdout",
     "output_type": "stream",
     "text": [
      "['jkupddtest/chopinmono/B/midi/occ2.mid_part1.csv', 'jkupddtest/chopinmono/B/midi/occ6.mid_part1.csv', 'jkupddtest/chopinmono/B/midi/occ1.mid_part1.csv', 'jkupddtest/chopinmono/B/midi/occ7.mid_part1.csv', 'jkupddtest/chopinmono/B/midi/occ5.mid_part1.csv', 'jkupddtest/chopinmono/B/midi/occ4.mid_part1.csv', 'jkupddtest/chopinmono/B/midi/occ3.mid_part1.csv']\n",
      "jkupddtest/chopinmono/B/midi/occ2.mid_part1.csv\n",
      "2D2A2D0A1A0A0A4A3D3A3D0A0A0A0A4A2D2A2D0A1A0A7A0A0A10D0A1D\n",
      "jkupddtest/chopinmono/B/midi/occ6.mid_part1.csv\n",
      "2D2A2D0A1A0A0A4A3D3A3D0A0A0A0A4A2D2A2D0A1A0A7A0A0A10D0A1D\n",
      "jkupddtest/chopinmono/B/midi/occ1.mid_part1.csv\n",
      "2D2A2D0A1A0A0A4A3D3A3D0A0A0A0A4A2D2A2D0A1A0A7A1A1D0A12D1A\n",
      "jkupddtest/chopinmono/B/midi/occ7.mid_part1.csv\n",
      "2D2A2D0A1A0A0A1A1D4A3D3A3D0A0A0A0A2A2D4A2D2A2D0A1A0A7A1A1D0A12D1A\n",
      "jkupddtest/chopinmono/B/midi/occ5.mid_part1.csv\n",
      "2D2A2D0A1A0A0A1A1D4A3D3A3D0A0A0A0A2A2D4A2D2A2D0A1A0A7A1A1D0A12D1A\n",
      "jkupddtest/chopinmono/B/midi/occ4.mid_part1.csv\n",
      "2D2A2D0A1A0A0A4A3D3A3D0A0A0A0A4A2D2A2D0A1A0A7A0A0A10D0A1D\n",
      "jkupddtest/chopinmono/B/midi/occ3.mid_part1.csv\n",
      "2D2A2D0A1A0A0A1A1D4A3D3A3D0A0A0A0A2A2D4A2D2A2D0A1A0A7A1A1D0A12D1A\n"
     ]
    }
   ],
   "source": [
    "#groundtruthpath1 = \"jkupddtest/gibbonsmono/silverswan.krn\"\n",
    "import pandas as pd\n",
    "gtfiles = glob.glob(\"jkupddtest/chopinmono/B/midi/*.csv\")\n",
    "print(gtfiles)\n",
    "gtstrings = []\n",
    "for gtfile in gtfiles:\n",
    "    print(gtfile)\n",
    "    with open(gtfile, 'r') as file:\n",
    "        df = pd.read_csv(file)\n",
    "        #print(df)\n",
    "        #for midi_note_num in df[\"midi_note_num\"]:\n",
    "        #    print(midi_note_num)\n",
    "        count = 0\n",
    "        gtstring = \"\"\n",
    "        for diatonic in df[\"diatonic_interval\"]:\n",
    "            if count == 0:\n",
    "                # ignore the first \"interval\" number which is always 0\n",
    "                count+=1\n",
    "                continue\n",
    "            count+=1\n",
    "            # just to format the input\n",
    "            if diatonic < 0:\n",
    "                dia = str(abs(diatonic)) + 'D'\n",
    "            else:\n",
    "                dia = str(abs(diatonic)) + 'A'\n",
    "            gtstring += dia\n",
    "        gtstrings.append(gtstring)\n",
    "        print(gtstring)\n",
    "            "
   ]
  },
  {
   "cell_type": "code",
   "execution_count": 649,
   "id": "ec20cf94",
   "metadata": {},
   "outputs": [
    {
     "name": "stdout",
     "output_type": "stream",
     "text": [
      "{'2D2A2D0A1A0A0A1A1D4A3D3A3D0A0A0A0A2A2D4A2D2A2D0A1A0A7A1A1D0A12D1A', '2D2A2D0A1A0A0A4A3D3A3D0A0A0A0A4A2D2A2D0A1A0A7A1A1D0A12D1A', '2D2A2D0A1A0A0A4A3D3A3D0A0A0A0A4A2D2A2D0A1A0A7A0A0A10D0A1D'}\n"
     ]
    }
   ],
   "source": [
    "print(set(gtstrings))"
   ]
  },
  {
   "cell_type": "code",
   "execution_count": 650,
   "id": "2e0df0c3",
   "metadata": {},
   "outputs": [
    {
     "name": "stdout",
     "output_type": "stream",
     "text": [
      "pattern 2D2A2D0A1A0A0A4A3D3A3D0A0A0A0A4A2D2A2D0A1A0A7A0A0A10D0A1D not in original score\n",
      "pattern 2D2A2D0A1A0A0A4A3D3A3D0A0A0A0A4A2D2A2D0A1A0A7A0A0A10D0A1D not in original score\n",
      "pattern 2D2A2D0A1A0A0A4A3D3A3D0A0A0A0A4A2D2A2D0A1A0A7A1A1D0A12D1A not in original score\n",
      "pattern 2D2A2D0A1A0A0A1A1D4A3D3A3D0A0A0A0A2A2D4A2D2A2D0A1A0A7A1A1D0A12D1A not in original score\n",
      "pattern 2D2A2D0A1A0A0A1A1D4A3D3A3D0A0A0A0A2A2D4A2D2A2D0A1A0A7A1A1D0A12D1A not in original score\n",
      "pattern 2D2A2D0A1A0A0A4A3D3A3D0A0A0A0A4A2D2A2D0A1A0A7A0A0A10D0A1D not in original score\n",
      "pattern 2D2A2D0A1A0A0A1A1D4A3D3A3D0A0A0A0A2A2D4A2D2A2D0A1A0A7A1A1D0A12D1A not in original score\n"
     ]
    }
   ],
   "source": [
    "for pattern in gtstrings:\n",
    "    count = 0\n",
    "    for decodedstring in decoded_strings:\n",
    "        count += decodedstring.count(pattern)\n",
    "    if count == 0:\n",
    "        print(\"pattern\", pattern, \"not in original score\")\n",
    "    elif count == 1:\n",
    "        print(\"pattern\", pattern, \"only appeared once\")\n",
    "    else:\n",
    "        print(\"pattern\", pattern, \"appeared\", count, \"times in total\")"
   ]
  },
  {
   "cell_type": "code",
   "execution_count": null,
   "id": "5e070111",
   "metadata": {},
   "outputs": [],
   "source": []
  },
  {
   "cell_type": "code",
   "execution_count": null,
   "id": "fee6b243",
   "metadata": {},
   "outputs": [],
   "source": []
  }
 ],
 "metadata": {
  "kernelspec": {
   "display_name": "Python 3 (ipykernel)",
   "language": "python",
   "name": "python3"
  },
  "language_info": {
   "codemirror_mode": {
    "name": "ipython",
    "version": 3
   },
   "file_extension": ".py",
   "mimetype": "text/x-python",
   "name": "python",
   "nbconvert_exporter": "python",
   "pygments_lexer": "ipython3",
   "version": "3.9.5"
  }
 },
 "nbformat": 4,
 "nbformat_minor": 5
}
