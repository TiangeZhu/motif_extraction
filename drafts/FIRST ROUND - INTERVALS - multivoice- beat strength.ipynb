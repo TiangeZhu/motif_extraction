{
 "cells": [
  {
   "cell_type": "code",
   "execution_count": 1,
   "id": "1285b0f3",
   "metadata": {},
   "outputs": [],
   "source": [
    "import music21 as m21\n",
    "import re\n",
    "from collections import Counter\n",
    "from swalign_local import *"
   ]
  },
  {
   "cell_type": "code",
   "execution_count": 548,
   "id": "1039d2b1",
   "metadata": {},
   "outputs": [],
   "source": [
    "# Step 1: Read input data:\n",
    "import music21 as m21\n",
    "import re\n",
    "from collections import Counter\n",
    "from swalign_local import *\n",
    "import csv\n",
    "import glob\n",
    "\n",
    "#score_path = \"jkupddtest/bachmono/wtc2f20.krn\"\n",
    "#score_path = \"jkupddtest/beethovenmono/sonata01-3.krn\"\n",
    "#score_path = \"jkupddtest/mozartmono/sonata04-2.krn\"\n",
    "#score_path = \"jkupddtest/gibbonsmono/silverswan.krn\"\n",
    "score_path = \"jkupddtest/chopinmono/mazurka24-4.krn\"\n",
    "#score_path = '~/facets-search-engine/data/Beethoven9thOdeToJoy.xml'\n",
    "\n",
    "raw_score = m21.converter.parse(score_path)\n",
    "num_of_parts = len(raw_score.parts)"
   ]
  },
  {
   "cell_type": "code",
   "execution_count": 549,
   "id": "ccee41a6",
   "metadata": {},
   "outputs": [
    {
     "data": {
      "text/plain": [
       "2"
      ]
     },
     "execution_count": 549,
     "metadata": {},
     "output_type": "execute_result"
    }
   ],
   "source": [
    "num_of_parts"
   ]
  },
  {
   "cell_type": "code",
   "execution_count": 550,
   "id": "51ea7e80",
   "metadata": {},
   "outputs": [],
   "source": [
    "voices = []\n",
    "for part in raw_score.parts:\n",
    "    voices.append(part)"
   ]
  },
  {
   "cell_type": "code",
   "execution_count": 551,
   "id": "acce90a2",
   "metadata": {},
   "outputs": [],
   "source": [
    "# Step 2: Get diatonic scale degree sequence from all voices\n",
    "\n",
    "def get_diatonic_intervals(voice):\n",
    "    \n",
    "    # get key / root information:\n",
    "    roots = [key.tonic for key in voice.recurse().getElementsByClass(m21.key.Key)]\n",
    "    diatonic_root = roots[0].diatonicNoteNum if roots != [] else voice.analyze('key').tonic.diatonicNoteNum\n",
    "    #print(diatonic_root)\n",
    "    key = voice.analyze('key')\n",
    "\n",
    "    noteoffset = []\n",
    "    midi = []\n",
    "    #timesig = m21_score.getContextByClass(m21.meter.TimeSignature)\n",
    "    #barlength = timesig.barduration\n",
    "\n",
    "    dict_wordtonum = {\"Unison\": '2', \"Second\": '2', \"Third\": '3', \"Fourth\": '4', \"Fifth\": '5', \"Sixth\": '6', \"Seventh\": '7'}\n",
    "    #P.S.: Unison as \"2\" instead of \"0\" for a reason, see explanation later\n",
    "        \n",
    "    # encoding the diatonic intervals. not 1A and 1D are represented as 2A and 2D here...\n",
    "    dict_encode_dia_intervals = {\"7D\": 'A', '6D': 'B', '5D': 'C', '4D':'D', '3D':'E', '2D':'F', \n",
    "                                     '2A':'G', '3A':'H', '4A':'I', '5A':'J', '6A': 'K', '7A':'L', '0A': 'M'}\n",
    "        \n",
    "    diatonic_intervals = []\n",
    "    beatstrength = []\n",
    "    previous_note = None\n",
    "\n",
    "    onset = 0\n",
    "    for thisnote in voice.recurse().notes:\n",
    "        onset += thisnote.offset\n",
    "        \n",
    "        # We ignore rests\n",
    "        if thisnote.isRest: \n",
    "                # If the rest is a full measure, part of a multi-measure rest: we need to adjust\n",
    "                continue\n",
    "        \n",
    "        noteoffset.append(onset)\n",
    "        beatstrength.append(thisnote.beatStrength)\n",
    "        \n",
    "        if thisnote.isNote:\n",
    "            midi.append(thisnote.pitch.midi)\n",
    "        elif thisnote.isChord:\n",
    "            midi.append(thisnote.root().midi)\n",
    "            \n",
    "        if previous_note is None:\n",
    "                previous_note = thisnote\n",
    "        else:\n",
    "                if thisnote.isNote and previous_note.isNote:\n",
    "                    # gap = number of semi-tones of the current interval \n",
    "                    gap = thisnote.pitch.diatonicNoteNum - previous_note.pitch.diatonicNoteNum\n",
    "                elif thisnote.isChord and previous_note.isNote:\n",
    "                    gap = thisnote.root().diatonicNoteNum - previous_note.pitch.diatonicNoteNum\n",
    "                elif thisnote.isChord and previous_note.isChord:\n",
    "                    gap = thisnote.root().diatonicNoteNum - previous_note.root().diatonicNoteNum\n",
    "                elif thisnote.isNote and previous_note.isChord:\n",
    "                    gap = thisnote.pitch.diatonicNoteNum - previous_note.root().diatonicNoteNum\n",
    "                # if a pitch change is detected\n",
    "                    \n",
    "                if gap != 0:\n",
    "                    if gap > 0:\n",
    "                        #  if the semi-tone difference between the current and the previous item > 0, it is an ascending interval.\n",
    "                        direction = 'A'\n",
    "                    else:\n",
    "                        #  otherwise, it is a descending interval.\n",
    "                        direction = 'D'\n",
    "\n",
    "                    # Get intervals using music21\n",
    "                    \"\"\"\n",
    "                            \"directedSimpleNiceName\" examples: \"Descending Doubly-Diminished Fifth\", \"Ascending Perfect Fourth\", \"Ascending Doubly-Augmented Fourth\"\n",
    "                            \"simpleName\" examples: dd5, P5, AA4. There's no direction information\n",
    "                            Since it only executes when a pitch interval is detected, \"unison\" refers to an augmented unison, a.k.a minor second\n",
    "                    \"\"\"\n",
    "                    # take intervals between root notes if there exists any chord\n",
    "                    if previous_note.isChord:\n",
    "                        startnote = previous_note.root()\n",
    "                    else:\n",
    "                        startnote = previous_note\n",
    "                    if thisnote.isChord:\n",
    "                        endnote = thisnote.root()\n",
    "                    else:\n",
    "                        endnote = thisnote\n",
    "                        \n",
    "                    m21_interval_directed = m21.interval.Interval(noteStart=startnote, noteEnd=endnote).directedSimpleNiceName\n",
    "\n",
    "                    arr_diatonic = m21_interval_directed.split(\" \")\n",
    "\n",
    "                    m21_generic = dict_wordtonum[arr_diatonic[-1]]\n",
    "                    \n",
    "                    # m21_interval: 2A, 3D etc...\n",
    "                    m21_interval = m21_generic+direction\n",
    "                    # to make each m21_interval unique, show direction and each as single character in string, we encode the diatonic intervals as letters\n",
    "                    encode_interval = dict_encode_dia_intervals[m21_interval]\n",
    "                    diatonic_intervals.append(encode_interval)\n",
    "\n",
    "                else:\n",
    "                    # We take the interval between two consecutive pitches as 0A\n",
    "                    encode_interval = dict_encode_dia_intervals['0A']\n",
    "                    diatonic_intervals.append(encode_interval)\n",
    "                previous_note = thisnote\n",
    "            \n",
    "    string = \"\"\n",
    "    for i in diatonic_intervals:\n",
    "        string += str(i)\n",
    "        \n",
    "    return string, key, noteoffset, midi, beatstrength"
   ]
  },
  {
   "cell_type": "code",
   "execution_count": 552,
   "id": "aea3f3ca",
   "metadata": {},
   "outputs": [
    {
     "name": "stdout",
     "output_type": "stream",
     "text": [
      "1049 1050\n",
      "GMFMMLMAMMLMAGMJMCMMJMCGMIDGMMJMCGMIDGMMJMCGMIDGMMMGMGFHFFFJDIDEGFFIGMMCFMILDIDEGFFIGMMCFMILDIDEGFFIGMCFMKHFMAGMFBKJDDEHGCFBKLHMFBKAMLAMLAMKBMKAMLAMKAMLAMLAMKAMLFGFFFDMFJFBKBMHDDEHGCFBKLHMFBKAMLAMLAMKBMKAMLAMKAMKBMKAMKBMKAMLAMLMDIDDHFFIGMMCFMILDIDEGFFIGMMCFMILDIDEGFFIGMCFMKMGMAHFMFFJDIDEGFGFFIGMMGFCFMILDIDEGFGFFIGMMGFCFMILDIDEGFGFFIGMCFMKHFMAGMFBKJDDEHGCFBKLHMFBKAMLAMLAMKBMKAMLAMKAMLAMLAMKAMLFGFFFDMFJFBKBMHDDEHGCFBKLHMFBKAMLAMLAMKBMKAMLAMKAMKBMKAMKBMKAMLAMLMDIDDHFFIGMMCFMILDIDEGFFIGMMCFMILDIDEGFFIGMCFMKMGMAHFMFFJDIDEGFGFFIGMMGFCFMILDIDEGFGFFIGMMGFCFMILDIDEGFGFFIGMCFMKHFMAGJMGDGEFMJHFMDGEFCGMJFJMFGMHFFFCKGDGEFMJHFMDGEFCGMJFJMFGMHFFMFCKGFFGGGHFFLMGFFFGEHGFFGGGHFFLMGFFFGEIGFFGGGHFFLMGFFFGEGGFFGGGHFFLMGFFFJFEGFFGGGHFFLMGFFFGEHGFFGGGHFFLMGFFFGEIGFFGGGHFFLMGFFFGEGFGGGHFFLMGFFFCLMIFDFCJMGFFFDGGFALBJFHBMKBMKBMKBMKAMKAMKBMKAMKBMKAMLAMLMDIDDHFFIGMMCFMILDIDEGFFIGMMCFMILDIDEGFFIGMMCFMKGMAHFMFFJDIDEGFGFFIGMMGFCFMILDIDEGFGFFIGMMGFCFMILDIDEGFGFFIGMMCFMGFMAGMGMMMGMMFMFMEMIFMEMFMJFMCMFMKGMMMGMMFMFMEMIFMEMFMMMMJGFIDGFMFMEMFMMJGFIDGFMFMEMFMMMMMMJFMEMFM\n",
      "[65, 77, 77, 65, 65, 65, 76, 76, 65, 66, 66, 75, 75, 66, 67, 67, 74, 74, 67, 68, 68, 73, 73, 68, 69, 69, 73, 69, 70, 70, 70, 77, 77, 70, 72, 72, 77, 72, 73, 73, 73, 80, 80, 73, 76, 76, 80, 76, 77, 77, 77, 77, 78, 78, 81, 69, 72, 70, 68, 66, 73, 69, 73, 69, 65, 66, 65, 63, 69, 70, 70, 70, 63, 61, 61, 67, 77, 72, 77, 72, 68, 69, 68, 66, 72, 73, 73, 73, 66, 65, 65, 71, 80, 76, 80, 76, 72, 73, 72, 70, 76, 77, 77, 70, 69, 69, 77, 80, 78, 78, 69, 70, 70, 68, 60, 68, 75, 70, 65, 61, 65, 77, 70, 68, 60, 68, 78, 82, 82, 80, 71, 80, 70, 70, 80, 70, 70, 80, 70, 70, 78, 69, 69, 78, 68, 68, 78, 68, 68, 77, 67, 67, 77, 66, 66, 77, 66, 66, 75, 65, 65, 75, 73, 75, 73, 72, 70, 65, 65, 64, 70, 68, 60, 68, 60, 60, 75, 70, 65, 61, 65, 77, 70, 68, 60, 68, 78, 82, 82, 80, 71, 80, 70, 70, 80, 70, 70, 80, 70, 70, 78, 69, 69, 78, 68, 68, 78, 68, 68, 77, 67, 67, 76, 66, 66, 75, 65, 65, 74, 64, 64, 73, 63, 63, 73, 63, 63, 73, 73, 69, 73, 69, 63, 66, 65, 63, 69, 70, 70, 70, 63, 61, 61, 67, 77, 72, 77, 72, 68, 69, 68, 66, 72, 73, 73, 73, 66, 65, 65, 71, 80, 76, 80, 76, 72, 73, 72, 70, 76, 77, 77, 70, 69, 69, 77, 77, 78, 78, 69, 72, 70, 70, 68, 66, 73, 69, 73, 69, 65, 66, 65, 66, 65, 63, 69, 70, 70, 70, 72, 70, 63, 61, 61, 67, 77, 72, 77, 72, 68, 69, 68, 69, 68, 66, 72, 73, 73, 73, 75, 73, 66, 65, 65, 71, 80, 76, 80, 76, 72, 73, 72, 73, 72, 70, 76, 77, 77, 70, 69, 69, 77, 80, 78, 78, 69, 70, 70, 68, 60, 68, 75, 70, 65, 61, 65, 77, 70, 68, 60, 68, 78, 82, 82, 80, 71, 80, 70, 70, 80, 70, 70, 80, 70, 70, 78, 69, 69, 78, 68, 68, 78, 68, 68, 77, 67, 67, 77, 66, 66, 77, 66, 66, 75, 65, 65, 75, 73, 75, 73, 72, 70, 65, 65, 64, 70, 68, 60, 68, 60, 60, 75, 70, 65, 61, 65, 77, 70, 68, 60, 68, 78, 82, 82, 80, 71, 80, 70, 70, 80, 70, 70, 80, 70, 70, 78, 69, 69, 78, 68, 68, 78, 68, 68, 77, 67, 67, 76, 66, 66, 75, 65, 65, 74, 64, 64, 73, 63, 63, 73, 63, 63, 73, 73, 69, 73, 69, 63, 66, 65, 63, 69, 70, 70, 70, 63, 61, 61, 67, 77, 72, 77, 72, 68, 69, 68, 66, 72, 73, 73, 73, 66, 65, 65, 71, 80, 76, 80, 76, 72, 73, 72, 70, 76, 77, 77, 70, 69, 69, 77, 77, 78, 78, 69, 72, 70, 70, 68, 66, 73, 69, 73, 69, 65, 66, 65, 66, 65, 63, 69, 70, 70, 70, 72, 70, 63, 61, 61, 67, 77, 72, 77, 72, 68, 69, 68, 69, 68, 66, 72, 73, 73, 73, 75, 73, 66, 65, 65, 71, 80, 76, 80, 76, 72, 73, 72, 73, 72, 70, 76, 77, 77, 70, 68, 68, 77, 80, 78, 78, 69, 70, 77, 77, 78, 73, 76, 72, 70, 70, 77, 80, 78, 78, 73, 76, 72, 70, 64, 65, 65, 72, 58, 65, 65, 64, 65, 65, 69, 67, 65, 64, 57, 77, 78, 73, 76, 72, 70, 70, 77, 80, 78, 78, 73, 76, 72, 70, 64, 65, 65, 72, 58, 65, 65, 64, 65, 65, 69, 67, 65, 65, 64, 57, 65, 66, 65, 63, 65, 66, 68, 72, 70, 56, 66, 66, 68, 66, 65, 63, 65, 61, 65, 66, 65, 63, 65, 66, 68, 71, 69, 56, 66, 66, 68, 66, 64, 63, 64, 61, 68, 69, 68, 66, 68, 69, 71, 75, 73, 59, 69, 69, 71, 69, 68, 66, 68, 64, 64, 66, 64, 63, 64, 66, 68, 71, 69, 56, 66, 66, 68, 66, 65, 63, 70, 68, 65, 66, 65, 63, 65, 66, 68, 72, 70, 56, 66, 66, 68, 66, 65, 63, 65, 61, 65, 66, 65, 63, 65, 66, 68, 71, 69, 56, 66, 66, 68, 66, 64, 63, 64, 61, 68, 69, 68, 66, 68, 69, 71, 75, 73, 59, 69, 69, 71, 69, 68, 66, 68, 64, 64, 63, 64, 66, 68, 71, 69, 56, 66, 66, 68, 66, 65, 63, 56, 66, 66, 72, 70, 65, 63, 56, 75, 75, 77, 75, 73, 72, 66, 78, 80, 78, 56, 78, 69, 77, 75, 78, 69, 69, 78, 69, 69, 78, 69, 69, 78, 69, 69, 78, 68, 68, 77, 67, 67, 76, 66, 66, 75, 65, 65, 74, 64, 64, 73, 63, 63, 73, 63, 63, 73, 73, 69, 73, 69, 63, 66, 65, 63, 69, 70, 70, 70, 63, 61, 61, 67, 77, 72, 77, 72, 68, 69, 68, 66, 72, 73, 73, 73, 66, 65, 65, 71, 80, 76, 80, 76, 72, 73, 72, 70, 76, 77, 77, 77, 70, 69, 69, 77, 78, 78, 69, 72, 70, 70, 68, 66, 73, 69, 73, 69, 65, 66, 65, 66, 65, 63, 69, 70, 70, 70, 72, 70, 63, 61, 61, 67, 77, 72, 77, 72, 68, 69, 68, 69, 68, 66, 72, 73, 73, 73, 75, 73, 66, 65, 65, 71, 80, 76, 80, 76, 72, 73, 72, 73, 72, 70, 76, 77, 77, 77, 70, 69, 69, 80, 78, 78, 69, 70, 70, 72, 72, 72, 72, 73, 73, 73, 72, 72, 70, 70, 66, 66, 72, 70, 70, 66, 66, 65, 65, 72, 70, 70, 63, 63, 61, 61, 70, 72, 72, 72, 72, 73, 73, 73, 72, 72, 70, 70, 66, 66, 72, 70, 70, 66, 66, 65, 65, 65, 65, 65, 72, 74, 72, 77, 72, 74, 72, 72, 70, 70, 66, 66, 65, 65, 65, 72, 74, 72, 77, 72, 74, 72, 72, 70, 70, 66, 66, 65, 65, 65, 65, 65, 65, 65, 72, 70, 70, 66, 66, 65, 65]\n",
      "[1.0, 1.0, 0.5, 1.0, 0.25, 0.25, 1.0, 0.5, 1.0, 0.25, 0.25, 1.0, 0.5, 1.0, 0.25, 0.25, 1.0, 0.5, 1.0, 0.25, 0.25, 1.0, 0.5, 1.0, 0.25, 0.25, 1.0, 1.0, 0.125, 0.5, 0.5, 1.0, 0.5, 1.0, 0.25, 0.25, 1.0, 1.0, 0.125, 0.5, 0.5, 1.0, 0.5, 1.0, 0.25, 0.25, 1.0, 1.0, 0.125, 0.5, 0.5, 1.0, 0.125, 0.5, 1.0, 0.5, 1.0, 0.25, 0.5, 0.25, 1.0, 0.25, 0.5, 0.25, 1.0, 0.25, 0.5, 0.25, 1.0, 0.125, 0.5, 0.5, 1.0, 0.125, 0.5, 0.5, 1.0, 0.25, 0.5, 0.25, 1.0, 0.25, 0.5, 0.25, 1.0, 0.125, 0.5, 0.5, 1.0, 0.125, 0.5, 0.5, 1.0, 0.25, 0.5, 0.25, 1.0, 0.25, 0.5, 0.25, 1.0, 0.125, 0.5, 1.0, 0.125, 0.5, 0.5, 1.0, 0.125, 0.5, 0.5, 1.0, 1.0, 0.125, 0.5, 0.25, 0.5, 1.0, 0.125, 0.5, 0.25, 0.5, 1.0, 0.125, 0.5, 0.25, 0.5, 1.0, 0.5, 0.125, 0.5, 0.125, 1.0, 0.125, 0.0625, 0.5, 0.125, 0.0625, 0.5, 0.125, 0.0625, 1.0, 0.125, 0.0625, 0.5, 0.125, 0.0625, 0.5, 0.125, 0.0625, 1.0, 0.125, 0.0625, 0.5, 0.125, 0.0625, 0.5, 0.125, 0.0625, 1.0, 0.125, 0.0625, 0.5, 0.0625, 0.0625, 0.5, 0.0625, 1.0, 0.5, 0.5, 1.0, 0.125, 0.5, 0.25, 1.0, 0.5, 0.5, 1.0, 0.125, 0.5, 0.25, 0.5, 1.0, 0.125, 0.5, 0.25, 0.5, 1.0, 0.5, 0.125, 0.5, 0.125, 1.0, 0.125, 0.0625, 0.5, 0.125, 0.0625, 0.5, 0.125, 0.0625, 1.0, 0.125, 0.0625, 0.5, 0.125, 0.0625, 0.5, 0.125, 0.0625, 1.0, 0.125, 0.0625, 0.5, 0.125, 0.0625, 0.5, 0.125, 0.0625, 1.0, 0.125, 0.0625, 0.5, 0.125, 0.0625, 0.5, 0.125, 0.0625, 1.0, 0.25, 0.5, 0.25, 1.0, 0.25, 0.5, 0.25, 1.0, 0.125, 0.5, 0.5, 1.0, 0.125, 0.5, 0.5, 1.0, 0.25, 0.5, 0.25, 1.0, 0.25, 0.5, 0.25, 1.0, 0.125, 0.5, 0.5, 1.0, 0.125, 0.5, 0.5, 1.0, 0.25, 0.5, 0.25, 1.0, 0.25, 0.5, 0.25, 1.0, 0.125, 0.5, 1.0, 0.125, 0.5, 0.5, 1.0, 0.125, 0.5, 0.5, 1.0, 0.25, 0.5, 0.0625, 0.0625, 1.0, 0.25, 0.5, 0.25, 1.0, 0.25, 0.5, 0.25, 0.5, 0.25, 1.0, 0.125, 0.5, 0.5, 0.0625, 0.0625, 1.0, 0.125, 0.5, 0.5, 1.0, 0.25, 0.5, 0.25, 1.0, 0.25, 0.5, 0.25, 0.5, 0.25, 1.0, 0.125, 0.5, 0.5, 0.0625, 0.0625, 1.0, 0.125, 0.5, 0.5, 1.0, 0.25, 0.5, 0.25, 1.0, 0.25, 0.5, 0.25, 0.5, 0.25, 1.0, 0.125, 0.5, 1.0, 0.125, 0.5, 0.5, 1.0, 0.125, 0.5, 0.5, 1.0, 1.0, 0.125, 0.5, 0.25, 0.5, 1.0, 0.125, 0.5, 0.25, 0.5, 1.0, 0.125, 0.5, 0.25, 0.5, 1.0, 0.5, 0.125, 0.5, 0.125, 1.0, 0.125, 0.0625, 0.5, 0.125, 0.0625, 0.5, 0.125, 0.0625, 1.0, 0.125, 0.0625, 0.5, 0.125, 0.0625, 0.5, 0.125, 0.0625, 1.0, 0.125, 0.0625, 0.5, 0.125, 0.0625, 0.5, 0.125, 0.0625, 1.0, 0.125, 0.0625, 0.5, 0.0625, 0.0625, 0.5, 0.0625, 1.0, 0.5, 0.5, 1.0, 0.125, 0.5, 0.25, 1.0, 0.5, 0.5, 1.0, 0.125, 0.5, 0.25, 0.5, 1.0, 0.125, 0.5, 0.25, 0.5, 1.0, 0.5, 0.125, 0.5, 0.125, 1.0, 0.125, 0.0625, 0.5, 0.125, 0.0625, 0.5, 0.125, 0.0625, 1.0, 0.125, 0.0625, 0.5, 0.125, 0.0625, 0.5, 0.125, 0.0625, 1.0, 0.125, 0.0625, 0.5, 0.125, 0.0625, 0.5, 0.125, 0.0625, 1.0, 0.125, 0.0625, 0.5, 0.125, 0.0625, 0.5, 0.125, 0.0625, 1.0, 0.25, 0.5, 0.25, 1.0, 0.25, 0.5, 0.25, 1.0, 0.125, 0.5, 0.5, 1.0, 0.125, 0.5, 0.5, 1.0, 0.25, 0.5, 0.25, 1.0, 0.25, 0.5, 0.25, 1.0, 0.125, 0.5, 0.5, 1.0, 0.125, 0.5, 0.5, 1.0, 0.25, 0.5, 0.25, 1.0, 0.25, 0.5, 0.25, 1.0, 0.125, 0.5, 1.0, 0.125, 0.5, 0.5, 1.0, 0.125, 0.5, 0.5, 1.0, 0.25, 0.5, 0.0625, 0.0625, 1.0, 0.25, 0.5, 0.25, 1.0, 0.25, 0.5, 0.25, 0.5, 0.25, 1.0, 0.125, 0.5, 0.5, 0.0625, 0.0625, 1.0, 0.125, 0.5, 0.5, 1.0, 0.25, 0.5, 0.25, 1.0, 0.25, 0.5, 0.25, 0.5, 0.25, 1.0, 0.125, 0.5, 0.5, 0.0625, 0.0625, 1.0, 0.125, 0.5, 0.5, 1.0, 0.25, 0.5, 0.25, 1.0, 0.25, 0.5, 0.25, 0.5, 0.25, 1.0, 0.125, 0.5, 1.0, 0.125, 0.5, 0.5, 1.0, 0.125, 0.5, 0.5, 1.0, 0.5, 1.0, 0.5, 0.25, 1.0, 0.25, 0.5, 0.5, 1.0, 0.25, 0.5, 0.5, 0.25, 1.0, 0.25, 0.5, 1.0, 0.5, 0.5, 1.0, 0.25, 0.5, 0.5, 1.0, 0.5, 0.5, 1.0, 0.25, 0.5, 1.0, 0.5, 1.0, 0.5, 0.25, 1.0, 0.25, 0.5, 0.5, 1.0, 0.25, 0.5, 0.5, 0.25, 1.0, 0.25, 0.5, 1.0, 0.5, 0.5, 1.0, 0.25, 0.5, 0.5, 1.0, 0.5, 0.5, 1.0, 0.25, 0.5, 0.5, 1.0, 0.5, 1.0, 0.0625, 0.0625, 0.5, 0.25, 0.5, 0.25, 1.0, 0.5, 1.0, 0.125, 0.5, 0.0625, 0.0625, 0.5, 0.25, 1.0, 0.5, 1.0, 0.0625, 0.0625, 0.5, 0.25, 0.5, 0.25, 1.0, 0.5, 1.0, 0.125, 0.5, 0.0625, 0.0625, 0.5, 0.25, 1.0, 0.5, 1.0, 0.0625, 0.0625, 0.5, 0.25, 0.5, 0.25, 1.0, 0.5, 1.0, 0.125, 0.5, 0.0625, 0.0625, 0.5, 0.25, 1.0, 0.5, 1.0, 0.0625, 0.0625, 0.5, 0.25, 0.5, 0.25, 1.0, 0.5, 1.0, 0.125, 0.5, 0.0625, 0.0625, 0.5, 0.25, 1.0, 0.5, 1.0, 0.0625, 0.0625, 0.5, 0.25, 0.5, 0.25, 1.0, 0.5, 1.0, 0.125, 0.5, 0.0625, 0.0625, 0.5, 0.25, 1.0, 0.5, 1.0, 0.0625, 0.0625, 0.5, 0.25, 0.5, 0.25, 1.0, 0.5, 1.0, 0.125, 0.5, 0.0625, 0.0625, 0.5, 0.25, 1.0, 0.5, 1.0, 0.0625, 0.0625, 0.5, 0.25, 0.5, 0.25, 1.0, 0.5, 1.0, 0.125, 0.5, 0.0625, 0.0625, 0.5, 0.25, 1.0, 0.5, 1.0, 0.5, 0.25, 0.5, 0.25, 1.0, 0.5, 1.0, 0.125, 0.5, 0.0625, 0.0625, 0.5, 0.25, 1.0, 0.125, 0.5, 0.0625, 0.0625, 0.5, 0.25, 1.0, 0.125, 0.5, 0.0625, 0.0625, 0.5, 0.25, 0.5, 0.5, 0.0625, 0.0625, 1.0, 0.125, 0.5, 0.5, 0.25, 0.0625, 0.5, 0.125, 0.0625, 0.5, 0.125, 0.0625, 1.0, 0.125, 0.0625, 0.5, 0.125, 0.0625, 0.5, 0.125, 0.0625, 1.0, 0.125, 0.0625, 0.5, 0.125, 0.0625, 0.5, 0.125, 0.0625, 1.0, 0.125, 0.0625, 0.5, 0.125, 0.0625, 0.5, 0.125, 0.0625, 1.0, 0.25, 0.5, 0.25, 1.0, 0.25, 0.5, 0.25, 1.0, 0.125, 0.5, 0.5, 1.0, 0.125, 0.5, 0.5, 1.0, 0.25, 0.5, 0.25, 1.0, 0.25, 0.5, 0.25, 1.0, 0.125, 0.5, 0.5, 1.0, 0.125, 0.5, 0.5, 1.0, 0.25, 0.5, 0.25, 1.0, 0.25, 0.5, 0.25, 1.0, 0.125, 0.5, 0.5, 1.0, 0.125, 0.5, 1.0, 0.125, 0.5, 0.5, 1.0, 0.25, 0.5, 0.0625, 0.0625, 1.0, 0.25, 0.5, 0.25, 1.0, 0.25, 0.5, 0.25, 0.5, 0.25, 1.0, 0.125, 0.5, 0.5, 0.0625, 0.0625, 1.0, 0.125, 0.5, 0.5, 1.0, 0.25, 0.5, 0.25, 1.0, 0.25, 0.5, 0.25, 0.5, 0.25, 1.0, 0.125, 0.5, 0.5, 0.0625, 0.0625, 1.0, 0.125, 0.5, 0.5, 1.0, 0.25, 0.5, 0.25, 1.0, 0.25, 0.5, 0.25, 0.5, 0.25, 1.0, 0.125, 0.5, 0.5, 1.0, 0.125, 0.5, 1.0, 0.125, 0.5, 0.5, 1.0, 1.0, 0.125, 0.5, 0.5, 1.0, 0.25, 0.5, 1.0, 0.125, 0.5, 0.25, 1.0, 0.25, 0.5, 1.0, 0.25, 0.5, 0.25, 1.0, 0.25, 0.5, 1.0, 0.25, 0.5, 0.25, 1.0, 0.25, 0.5, 1.0, 0.125, 0.5, 0.5, 1.0, 0.25, 0.5, 1.0, 0.125, 0.5, 0.25, 1.0, 0.25, 0.5, 1.0, 0.25, 0.5, 0.25, 1.0, 0.25, 0.5, 1.0, 1.0, 1.0, 0.25, 0.5, 0.25, 1.0, 0.25, 0.5, 0.25, 1.0, 0.25, 0.5, 0.25, 1.0, 0.25, 0.5, 1.0, 0.25, 0.5, 0.25, 1.0, 0.25, 0.5, 0.25, 1.0, 0.25, 0.5, 0.25, 1.0, 0.25, 0.5, 1.0, 1.0, 1.0, 1.0, 1.0, 1.0, 0.25, 0.5, 0.25, 1.0, 0.25, 0.5]\n"
     ]
    },
    {
     "name": "stdout",
     "output_type": "stream",
     "text": [
      "521 522\n",
      "GMCHACGMCHACLAKMEFHHFHMEJMCGCCGMCGCCGMIFMFHECHACGMCHKDGMCHEGGBGIMDGMIFCGGMCHKDGMCHEGGBGIMDHCGMCGCCGMCGCCGMIHEFHHFHMEJMCGCCGMCGCCGMCMGFHECHACGMCHKDGMCHEGGBGIMDGMIFCGGMCHKDGMCHEGGBGIMDHCGMCGCCGMCGCCGMIHEFHHFHMEJMCGCCGMCGCCGMCMGFHECHHMGDGEFMJHFMDGEFAIMDIMDIMDIGGDGEFMJHFMDGEFAIMDIMDIMDIAKMBKMCHMAHMAKMBKMCHMAHMBKMBKMCHMAHMFKMBKMCHMEHMEHMEHMEHMAHMAKMBKMCHMAHMBKMBKMCHMAHMFKMBKMCHEHEGFHEHCGMCGCCGMCGCCGMIHEFHHFHMEJMCGCCGMCGCCGMIFMFHECHMEIMDIMDGMFKMBGMGMEMGMFMFMIMDIMDGMFKMBIMDHMEJMCGMFJMMMMCIMDGMFJMMMMCKMMMIFHMMMMBGMEGMEGMMMM\n",
      "[41, 53, 53, 46, 61, 51, 44, 56, 56, 49, 65, 55, 48, 70, 60, 68, 68, 53, 41, 69, 72, 46, 61, 61, 46, 53, 53, 46, 58, 51, 44, 56, 56, 49, 61, 55, 48, 60, 60, 65, 53, 53, 41, 69, 53, 46, 61, 51, 44, 56, 56, 37, 53, 61, 44, 56, 56, 49, 65, 50, 51, 63, 42, 44, 61, 61, 44, 56, 56, 61, 49, 43, 44, 56, 56, 37, 53, 61, 44, 56, 56, 49, 65, 50, 51, 63, 42, 44, 61, 61, 44, 60, 41, 53, 53, 46, 58, 51, 44, 56, 56, 49, 61, 55, 48, 60, 60, 65, 69, 53, 41, 69, 72, 46, 61, 61, 46, 53, 53, 46, 58, 51, 44, 56, 56, 49, 61, 55, 48, 60, 60, 53, 53, 65, 41, 69, 53, 46, 61, 51, 44, 56, 56, 37, 53, 61, 44, 56, 56, 49, 65, 50, 51, 63, 42, 44, 61, 61, 44, 56, 56, 61, 49, 43, 44, 56, 56, 37, 53, 61, 44, 56, 56, 49, 65, 50, 51, 63, 42, 44, 61, 61, 44, 60, 41, 53, 53, 46, 58, 51, 44, 56, 56, 49, 61, 55, 48, 60, 60, 65, 69, 53, 41, 69, 72, 46, 61, 61, 46, 53, 53, 46, 58, 51, 44, 56, 56, 49, 61, 55, 48, 60, 60, 53, 53, 65, 41, 69, 53, 46, 61, 65, 65, 66, 61, 64, 60, 58, 58, 65, 68, 66, 66, 61, 64, 60, 58, 48, 53, 53, 48, 53, 53, 48, 53, 53, 48, 53, 65, 66, 61, 64, 60, 58, 58, 65, 68, 66, 66, 61, 64, 60, 58, 48, 53, 53, 48, 53, 53, 48, 53, 53, 48, 53, 42, 51, 51, 42, 51, 51, 44, 60, 60, 37, 53, 53, 42, 51, 51, 42, 51, 51, 44, 60, 60, 37, 52, 52, 45, 54, 54, 45, 54, 54, 47, 63, 63, 40, 56, 56, 42, 51, 51, 42, 51, 51, 44, 60, 60, 44, 60, 60, 32, 60, 60, 44, 60, 60, 44, 60, 60, 37, 53, 53, 42, 51, 51, 42, 51, 51, 44, 60, 60, 37, 52, 52, 45, 54, 54, 45, 54, 54, 47, 63, 63, 40, 56, 56, 42, 51, 51, 42, 51, 51, 44, 60, 32, 60, 32, 44, 32, 60, 32, 60, 41, 53, 53, 46, 58, 51, 44, 56, 56, 49, 61, 55, 48, 60, 60, 65, 69, 53, 41, 69, 72, 46, 61, 61, 46, 53, 53, 46, 58, 51, 44, 56, 56, 49, 61, 55, 48, 60, 60, 65, 53, 53, 41, 69, 53, 46, 61, 61, 46, 63, 63, 46, 64, 64, 46, 60, 60, 46, 54, 54, 46, 60, 60, 61, 61, 46, 46, 60, 60, 58, 58, 46, 46, 63, 63, 46, 64, 64, 46, 60, 60, 46, 54, 54, 46, 63, 63, 46, 62, 62, 46, 53, 53, 46, 58, 58, 46, 53, 53, 53, 53, 53, 46, 63, 63, 46, 58, 58, 46, 53, 53, 53, 53, 53, 46, 54, 54, 54, 54, 61, 46, 62, 62, 62, 62, 62, 41, 53, 53, 38, 62, 62, 34, 58, 58, 58, 58, 58]\n",
      "[1.0, 0.5, 0.5, 1.0, 0.5, 0.5, 1.0, 0.5, 0.5, 1.0, 0.5, 0.5, 1.0, 0.5, 0.5, 0.5, 0.5, 1.0, 1.0, 0.5, 0.5, 1.0, 0.5, 0.5, 1.0, 0.5, 0.5, 1.0, 0.5, 0.5, 1.0, 0.5, 0.5, 1.0, 0.5, 0.5, 1.0, 0.5, 0.5, 0.5, 0.5, 1.0, 1.0, 0.5, 0.5, 1.0, 0.5, 0.5, 1.0, 0.5, 0.5, 1.0, 0.5, 0.5, 1.0, 0.5, 0.5, 1.0, 0.5, 0.5, 1.0, 0.5, 0.5, 1.0, 0.5, 0.5, 1.0, 0.5, 0.5, 0.5, 1.0, 0.5, 1.0, 0.5, 0.5, 1.0, 0.5, 0.5, 1.0, 0.5, 0.5, 1.0, 0.5, 0.5, 1.0, 0.5, 0.5, 1.0, 0.5, 0.5, 1.0, 0.5, 1.0, 0.5, 0.5, 1.0, 0.5, 0.5, 1.0, 0.5, 0.5, 1.0, 0.5, 0.5, 1.0, 0.5, 0.5, 0.5, 0.5, 1.0, 1.0, 0.5, 0.5, 1.0, 0.5, 0.5, 1.0, 0.5, 0.5, 1.0, 0.5, 0.5, 1.0, 0.5, 0.5, 1.0, 0.5, 0.5, 1.0, 0.5, 0.5, 1.0, 0.5, 0.5, 1.0, 0.5, 0.5, 1.0, 0.5, 0.5, 1.0, 0.5, 0.5, 1.0, 0.5, 0.5, 1.0, 0.5, 0.5, 1.0, 0.5, 0.5, 1.0, 0.5, 0.5, 1.0, 0.5, 0.5, 1.0, 0.5, 0.5, 0.5, 1.0, 0.5, 1.0, 0.5, 0.5, 1.0, 0.5, 0.5, 1.0, 0.5, 0.5, 1.0, 0.5, 0.5, 1.0, 0.5, 0.5, 1.0, 0.5, 0.5, 1.0, 0.5, 1.0, 0.5, 0.5, 1.0, 0.5, 0.5, 1.0, 0.5, 0.5, 1.0, 0.5, 0.5, 1.0, 0.5, 0.5, 0.5, 0.5, 1.0, 1.0, 0.5, 0.5, 1.0, 0.5, 0.5, 1.0, 0.5, 0.5, 1.0, 0.5, 0.5, 1.0, 0.5, 0.5, 1.0, 0.5, 0.5, 1.0, 0.5, 0.5, 1.0, 0.5, 0.5, 1.0, 0.5, 0.5, 1.0, 0.5, 0.5, 1.0, 0.5, 0.25, 1.0, 0.25, 0.5, 0.5, 1.0, 0.25, 0.5, 0.5, 0.25, 1.0, 0.25, 0.5, 1.0, 0.5, 0.5, 1.0, 0.5, 0.5, 1.0, 0.5, 0.5, 1.0, 0.5, 1.0, 0.5, 0.25, 1.0, 0.25, 0.5, 0.5, 1.0, 0.25, 0.5, 0.5, 0.25, 1.0, 0.25, 0.5, 1.0, 0.5, 0.5, 1.0, 0.5, 0.5, 1.0, 0.5, 0.5, 1.0, 0.5, 1.0, 0.5, 0.5, 1.0, 0.5, 0.5, 1.0, 0.5, 0.5, 1.0, 0.5, 0.5, 1.0, 0.5, 0.5, 1.0, 0.5, 0.5, 1.0, 0.5, 0.5, 1.0, 0.5, 0.5, 1.0, 0.5, 0.5, 1.0, 0.5, 0.5, 1.0, 0.5, 0.5, 1.0, 0.5, 0.5, 1.0, 0.5, 0.5, 1.0, 0.5, 0.5, 1.0, 0.5, 0.5, 1.0, 0.5, 0.5, 1.0, 0.5, 0.5, 1.0, 0.5, 0.5, 1.0, 0.5, 0.5, 1.0, 0.5, 0.5, 1.0, 0.5, 0.5, 1.0, 0.5, 0.5, 1.0, 0.5, 0.5, 1.0, 0.5, 0.5, 1.0, 0.5, 0.5, 1.0, 0.5, 0.5, 1.0, 0.5, 0.5, 1.0, 0.5, 0.5, 1.0, 0.5, 0.5, 1.0, 0.5, 0.5, 1.0, 0.5, 1.0, 0.5, 1.0, 0.5, 1.0, 0.5, 1.0, 0.5, 1.0, 0.5, 0.5, 1.0, 0.5, 0.5, 1.0, 0.5, 0.5, 1.0, 0.5, 0.5, 1.0, 0.5, 0.5, 0.5, 0.5, 1.0, 1.0, 0.5, 0.5, 1.0, 0.5, 0.5, 1.0, 0.5, 0.5, 1.0, 0.5, 0.5, 1.0, 0.5, 0.5, 1.0, 0.5, 0.5, 1.0, 0.5, 0.5, 0.5, 0.5, 1.0, 1.0, 0.5, 0.5, 1.0, 0.5, 0.5, 1.0, 0.5, 0.5, 1.0, 0.5, 0.5, 1.0, 0.5, 0.5, 1.0, 0.5, 0.5, 1.0, 0.5, 0.5, 0.5, 0.5, 1.0, 1.0, 0.5, 0.5, 0.5, 0.5, 1.0, 1.0, 0.5, 0.5, 1.0, 0.5, 0.5, 1.0, 0.5, 0.5, 1.0, 0.5, 0.5, 1.0, 0.5, 0.5, 1.0, 0.5, 0.5, 1.0, 0.5, 0.5, 1.0, 0.5, 0.5, 1.0, 0.5, 0.5, 1.0, 0.5, 0.5, 1.0, 0.5, 0.5, 1.0, 0.5, 0.5, 1.0, 0.5, 0.5, 1.0, 0.5, 0.5, 1.0, 0.5, 0.5, 1.0, 0.5, 0.5, 1.0, 0.5, 0.5, 1.0, 0.5, 0.5, 1.0, 0.5, 0.5, 1.0, 0.5, 0.5, 1.0, 0.5, 0.5, 1.0, 0.5, 0.5]\n"
     ]
    }
   ],
   "source": [
    "strings = []\n",
    "noteoffsets = []\n",
    "midis = []\n",
    "keys = []\n",
    "beatstrengths = []\n",
    "\n",
    "for voice in voices:\n",
    "    string, key, noteoffset, midi, beatstrength = get_diatonic_intervals(voice)\n",
    "    strings.append(string)\n",
    "    noteoffsets.append(noteoffset)\n",
    "    beatstrengths.append(beatstrength)\n",
    "    midis.append(midi)\n",
    "    keys.append(key)\n",
    "    print(len(string), len(midi))\n",
    "    print(string)\n",
    "    print(midi)\n",
    "    print(beatstrength)"
   ]
  },
  {
   "cell_type": "code",
   "execution_count": 523,
   "id": "a08b5996",
   "metadata": {},
   "outputs": [],
   "source": [
    "# Smith-Waterman alignment between the two input sequences\n",
    "def swm_alignment(string1, string2):\n",
    "    match = 2\n",
    "    mismatch = -2\n",
    "    scoring = NucleotideScoringMatrix(match, mismatch)\n",
    "    sw = LocalAlignment(scoring)#, gap_extension_penalty = -5) \n",
    "    \n",
    "    alignment = sw.align(string1, string2)\n",
    "    alignment_strings = alignment.dump()\n",
    "\n",
    "    simi_score = alignment.matches / (alignment.mismatches + alignment.matches)\n",
    "    \n",
    "    return alignment_strings, simi_score\n"
   ]
  },
  {
   "cell_type": "code",
   "execution_count": 524,
   "id": "94591d73",
   "metadata": {},
   "outputs": [],
   "source": [
    "def filter_and_gather_patterns(allthepatterns, fullseq):\n",
    "    pat = fullseq.split('-')\n",
    "    print(\"num of pat in this seq:\", len(pat))    \n",
    "    for pattern in pat:\n",
    "        # Get rid of the sequence shorter than 4; combine all alignment patterns into all pattern list\n",
    "        if len(pattern) > 2:\n",
    "            allthepatterns.append(pattern)\n",
    "    return allthepatterns"
   ]
  },
  {
   "cell_type": "code",
   "execution_count": 525,
   "id": "9ab996d7",
   "metadata": {},
   "outputs": [
    {
     "name": "stdout",
     "output_type": "stream",
     "text": [
      "Query:   2 IAJEIEEEKEEEKE--------IFAGFFFFHFFFFGGMFFFFGGMFFFFGGMFGG----MGGGFFFFM-GGGFFFFGMMFGGGFFFFMMGGGFFFFDIIHCHCHHEICEIE--MGMFGGLFJMCIFFFFH----FFFFGGMFFFFGGMFFFFGGMFGGFEKEMGGGFFFFHCH--FIAJEIEKFFFFHHHFEFFGGCLFGGGMFGE------CHCHCMMCHCHCMDE----K------------GGFFFFFFGEF-FGJFFFFFFKFFFFFFF--GJGGFFGG 238\n",
      "           ||||||||||||||        .|.||||||||||||||||||||||||||||||    |  |    | |||    |   |||       ||   |  |    ..|| |.|  .|  || |     ||||    ||||    ||| | ||||  .|.||   | ...|..|||  .|      ||||||||||||||||     .|      .|            |    |            ||||||||  | |  ||||||.|||||||  |  |.|||\n",
      "Ref  :   2 IAJEIEEEKEEEKEGGMMGGGFFFFGFFFFHFFFFGGMFFFFGGMFFFFGGMFGGDEIEM--G----MFGGG----G---GGG-------GG---F--I----AJEI-EEEKEEG--GG-F-----FFFHGGGGFFFF----FFF-G-FFFF--FFFGF---M-CIMFIMHCHCHMI------FFFFHHHFEFFGGCLF-----IEIAJEIEEH------------EIEEEKEEEKEMFGGGGGGGFFFFFF--FIF--FFFFFFIFFFFFFFKFG--GMFGG 205\n",
      "\n",
      "num of pat in this seq: 47\n",
      "num of pat in this seq: 80\n",
      "Query:   1 EIAJEIEEEK-----AG-----FFFF-----HFFFFGGMFFFFGGMFFFFGGMFGG----MGGGFFFFMGGGFFFFGGGFFGGMCHCHICKGEGGGFFEIFFIAJEIEMGMFGGEICEIEEEKAKCHCHICFGGGFFFFJEKCEIMMGGGFFFFGFFFFFFFGFFFFHFFFFGGM---F---------FFFGGMF---F-FFGG-MF-----------------GGGGMFGGGGMFGGGGMFGGGGMFGGGGMFGGFGGFFF-FFGGGFFFFGGMF-FFFGGMFFFF--GGMFGG-G--G 240\n",
      "           ||||||||||     .|     ||||     |||||||||||||||||||||||||    |  |    |      ||||  ||        | ||| | |   |||||      |  | .||          |||||||       .|||    |||||||||||||  ||||.|   |         |||   |   | |||| .|                 ....||||||   ||| |     |     |  |  ||| ||   ||||   | |||   ||||  |||||| |  |\n",
      "Ref  :   1 EIAJEIEEEKEEEKEGGMMGGGFFFFGFFFFHFFFFGGMFFFFGGMFFFFGGMFGGDEIEM--G----M------FGGG--GG--------G-GGG-F-I---AJEIE------E--E-KEE----------GGGFFFF-------HGGG----GFFFFFFFGFFFF--FFFGFMCIMFIMHCHCHMIFFF---FHHHFEFFGGCLFIEIAJEIEEHEIEEEKEEEKEMFGGGG---GGG-F-----F-----F--F--FFFIFF---FFFF---FIFFF---FFFFKFGGMFGGMGCHG 210\n",
      "\n",
      "num of pat in this seq: 61\n",
      "num of pat in this seq: 91\n",
      "Query:   2 IAJEIEEEK-------AGFFFFHFFFFGGMFFFFGGMFFFFGGMFGGMGGGFFFFMGGGFFFFG----GGFFGGMCHCHICKGEGGGFFEIFF-IAJEIEMGMFGGEICEIEEEKAKCHC-H-IC---FG--GGFFFFJEKCEIMMGGGFFFFGFFFFFFFGFFFFHFFFFGGMFFFFGGMFFFFGGMFGGGGMF----GGG-GMF---------------------GGGGMFGGGGMFG----GGGM--------FGGFGGFFFFFG---GGFFFFGGMFF-FFGGMFFFFGGMFGGGGMFFFFGG 247\n",
      "           |||||||||       ||||||||||||||||||||||||||||||||||||||||||||||||    ||||..|      .|  ||||  || |   |        .|         || | ||   .|  ||  .|| .| |     ||||             |||||||||||||||||||||||  || |    ||| ..|                     .||..| ||||||    ...|        .|||  ||||||   |.||||   || ||   ||||   ||.||   ||||\n",
      "Ref  :   2 IAJEIEEEKEEEKEIFAGFFFFHFFFFGGMFFFFGGMFFFFGGMFGGMGGGFFFFMGGGFFFFGMMFGGGFFFFM------MG--GGFF--FFDI---I--------HC---------HCHHEICEIEMGMFGG--LFJ-MC-I-----FFFF-------------HFFFFGGMFFFFGGMFFFFGGMF--GG-FEKEMGGGFFFFHCHFIAJEIEKFFFFHHHFEFFGGCLF-GGGMFGECHCHCMMCHCHCMDEKGGF--FFFFFGEFFGJFFFF---FFKFF---FFFF---FGJGG---FFGG 238\n",
      "\n",
      "num of pat in this seq: 62\n",
      "num of pat in this seq: 71\n"
     ]
    }
   ],
   "source": [
    "# compare each pair of voices!\n",
    "allthepatterns = []\n",
    "\n",
    "for i in range(0, len(voices)-1):\n",
    "    for j in range(i+1, len(voices)):\n",
    "        alignment_strings, simi_score = swm_alignment(strings[i], strings[j])\n",
    "        if simi_score < 0.25:\n",
    "            print(\"ignoring voice pair:\", i, j)\n",
    "            # if two voices are very different, getting patterns from their alignment won't make sense\n",
    "            continue\n",
    "        # get the patterns from the first voice of this pair\n",
    "        fullseq1 = alignment_strings[0]\n",
    "        fullseq2 = alignment_strings[1]\n",
    "        allthepatterns = filter_and_gather_patterns(allthepatterns, fullseq1)\n",
    "        allthepatterns = filter_and_gather_patterns(allthepatterns, fullseq2)\n",
    "        "
   ]
  },
  {
   "cell_type": "code",
   "execution_count": 526,
   "id": "cf861fad",
   "metadata": {},
   "outputs": [],
   "source": [
    "allthepattern_count = dict(Counter(allthepatterns))\n",
    "# elimiate the repeated strings\n",
    "\n",
    "allthepatterns = list(set(allthepatterns))"
   ]
  },
  {
   "cell_type": "code",
   "execution_count": 527,
   "id": "01a18847",
   "metadata": {},
   "outputs": [],
   "source": [
    "def count_substringandparents(allthepatterns, allthepattern_count):\n",
    "    \n",
    "    issubstring = {}\n",
    "    hassubstring = {}\n",
    "    count_as_substring = {}\n",
    "    count_as_parent = {}\n",
    "\n",
    "    for i in range(0, len(allthepatterns)-1):\n",
    "        for j in range(i+1, len(allthepatterns)):\n",
    "            if allthepatterns[i] in allthepatterns[j]:\n",
    "                parent = allthepatterns[j]\n",
    "                kid = allthepatterns[i]\n",
    "                times = parent.count(kid)\n",
    "\n",
    "                if kid not in issubstring:\n",
    "                    issubstring[kid] = 1\n",
    "                    count_as_substring[kid] = times * allthepattern_count[parent]\n",
    "                else:\n",
    "                    issubstring[kid] += 1\n",
    "                    count_as_substring[kid] += times * allthepattern_count[parent]\n",
    "\n",
    "                if parent not in hassubstring:\n",
    "                    hassubstring[parent] = 1\n",
    "                    count_as_parent[parent] = 1#times\n",
    "                else:\n",
    "                    hassubstring[parent] += 1\n",
    "                    count_as_parent[parent] += 1 \n",
    "\n",
    "            elif allthepatterns[j] in allthepatterns[i]:\n",
    "                parent = allthepatterns[i]\n",
    "                kid = allthepatterns[j]\n",
    "                times = parent.count(kid)\n",
    "\n",
    "                if kid not in issubstring:\n",
    "                    issubstring[kid] =1\n",
    "                    count_as_substring[kid] = times * allthepattern_count[parent]\n",
    "                else:\n",
    "                    issubstring[kid] += 1\n",
    "                    count_as_substring[kid] += times * allthepattern_count[parent]\n",
    "\n",
    "                if parent not in hassubstring:\n",
    "                    hassubstring[parent] = 1\n",
    "                    count_as_parent[parent] = 1 #times\n",
    "                else:\n",
    "                    hassubstring[parent] += 1\n",
    "                    count_as_parent[parent] += 1 #times\n",
    "\n",
    "    return issubstring, hassubstring, count_as_substring, count_as_parent\n"
   ]
  },
  {
   "cell_type": "code",
   "execution_count": 528,
   "id": "aa51fe36",
   "metadata": {},
   "outputs": [],
   "source": [
    "issubstring, hassubstring, count_as_substring, count_as_parent = count_substringandparents(allthepatterns, allthepattern_count)"
   ]
  },
  {
   "cell_type": "code",
   "execution_count": 529,
   "id": "2695cea6",
   "metadata": {},
   "outputs": [
    {
     "name": "stdout",
     "output_type": "stream",
     "text": [
      "56\n",
      "42\n"
     ]
    }
   ],
   "source": [
    "# rank the ones that are substrings of another detected pattern\n",
    "sortis = dict(Counter(issubstring))\n",
    "sorthas = dict(Counter(hassubstring))\n",
    "print(len(sorthas))\n",
    "print(len(sortis))"
   ]
  },
  {
   "cell_type": "code",
   "execution_count": 530,
   "id": "7579ab5c",
   "metadata": {},
   "outputs": [],
   "source": [
    "# This counts the times each pattern appeared after original segmentation plus the times they are in other patterns,\n",
    "# plus the times other patterns showed up in them.\n",
    "\n",
    "def combined_count(sorthas, sortis, count_as_parent, count_as_substring, allthepattern_count):\n",
    "    refined_combined = {}\n",
    "\n",
    "    for item in sorthas:\n",
    "        if item in sortis:\n",
    "            # the ones that has substring and also are the substrings\n",
    "            refined_combined[item] = count_as_parent[item] + count_as_substring[item] + allthepattern_count[item]\n",
    "        else:\n",
    "            # the ones that has substrings\n",
    "            refined_combined[item] = count_as_parent[item] + allthepattern_count[item]\n",
    "    # the patterns that are substrings of other patterns but none of the others are substrings of it\n",
    "    for item in sortis:\n",
    "        if item not in refined_combined:\n",
    "            refined_combined[item] = count_as_substring[item] + allthepattern_count[item]\n",
    "        # otherwise is already counted\n",
    "    \n",
    "    return refined_combined\n",
    "\n",
    "combined = combined_count(sorthas, sortis, count_as_parent, count_as_substring, allthepattern_count)"
   ]
  },
  {
   "cell_type": "code",
   "execution_count": 531,
   "id": "4a9bacdb",
   "metadata": {},
   "outputs": [],
   "source": [
    "#dict(Counter(combined))"
   ]
  },
  {
   "cell_type": "code",
   "execution_count": 532,
   "id": "3ed173cc",
   "metadata": {},
   "outputs": [],
   "source": [
    "def filter_combined_patterns(combined):\n",
    "    \n",
    "    finalpattern = []\n",
    "    for i in combined: \n",
    "\n",
    "        if len(i) < 3:\n",
    "            # if the length is shorter than 4 notes, discard\n",
    "            continue\n",
    "\n",
    "        if combined[i] > 1:\n",
    "            # keep the ones that has substring or is substring more than once\n",
    "            finalpattern.append(i)\n",
    "\n",
    "    finalpattern_combined = {}\n",
    "        \n",
    "    for thisone in finalpattern:\n",
    "        finalpattern_combined[thisone] = combined[thisone]\n",
    "\n",
    "    dict(Counter(finalpattern_combined))\n",
    "        \n",
    "    if len(finalpattern) > 20:\n",
    "        # if more than 20 patterns, only take the top 20\n",
    "        finalpattern_combined = dict(sorted(finalpattern_combined.items(), key = lambda x:-x[1], reverse = True)[-20:])\n",
    "    \n",
    "    return finalpattern_combined\n"
   ]
  },
  {
   "cell_type": "code",
   "execution_count": 533,
   "id": "4be71143",
   "metadata": {},
   "outputs": [],
   "source": [
    "# filter out the short ones\n",
    "top20patterns_combined = filter_combined_patterns(combined)"
   ]
  },
  {
   "cell_type": "code",
   "execution_count": 534,
   "id": "3d8ef126",
   "metadata": {},
   "outputs": [
    {
     "name": "stdout",
     "output_type": "stream",
     "text": [
      "{'AJEI': 14, 'FFFGGMFFFF': 15, 'AGFFFFHFFFFGGMFFFFGGMFFFFGGMFGGMGGGFFFFMGGGFFFFG': 16, 'HFFFFGGMFFFFGGMFFFFGGMFGG': 16, 'MGGGFFFFMGGGFFFFGGGFFGGMCHCHICKGEGGGFFEIFFIAJEIEMGMFGGEICEIEEEKAKCHCHICFGGGFFFFJEKCEIMMGGGFFFFGFFFFFFFGFFFFHFFFFGGM': 17, 'FGGG': 18, 'GGFFFFJEKCEIMMGGGFFFFGFFFFFFFGFFFFHFFFFGGMFFFFGGMFFFFGGMFGGGGMF': 19, 'GGMFGG': 19, 'IAJEIEEEKEEEKEGGMMGGGFFFFGFFFFHFFFFGGMFFFFGGMFFFFGGMFGGDEIEM': 21, 'EIAJEIEEEKEEEKEGGMMGGGFFFFGFFFFHFFFFGGMFFFFGGMFFFFGGMFGGDEIEM': 22, 'GMFGG': 23, 'IAJEIEEEKEEEKEIFAGFFFFHFFFFGGMFFFFGGMFFFFGGMFGGMGGGFFFFMGGGFFFFGMMFGGGFFFFM': 24, 'GGGFFFF': 26, 'GGFF': 33, 'FFFGGMF': 35, 'GGG': 46, 'FFGG': 46, 'GMF': 52, 'FFFF': 85, 'FFF': 103}\n"
     ]
    }
   ],
   "source": [
    "print(dict(Counter(top20patterns_combined)))"
   ]
  },
  {
   "cell_type": "code",
   "execution_count": 535,
   "id": "164a2096",
   "metadata": {},
   "outputs": [],
   "source": [
    "def reduce_pattern_length(seq):\n",
    "        # the function returns the longest substring that appeared at least once\n",
    "        # if there is length 4 substring repeated 4 times and a length 7 substring repeated 2 times, we take the length 7\n",
    "        best_performance = \"\"\n",
    "        candidates = []\n",
    "        for length in range(int(0.3*len(seq)), int(len(seq)*0.5)+1): \n",
    "            for start in range(0, len(seq)-length):\n",
    "                # get all the substrings of this length within the string, save in candidates\n",
    "                candidates.append(seq[start:start+length])\n",
    "        count_can = {}\n",
    "        for candidate in candidates:\n",
    "                count_can[candidate] = seq.count(candidate)\n",
    "                if count_can[candidate] > 1:\n",
    "                    # if it is repeated more than once in the string\n",
    "                    if len(candidate) > len(best_performance):\n",
    "                        best_performance = candidate\n",
    "                    elif len(candidate) == len(best_performance) and count_can[candidate] > count_can[best_performance]:\n",
    "                        best_performance = candidate\n",
    "        \n",
    "        return best_performance\n",
    "\n",
    "def check_reduction(item):\n",
    "    success = False\n",
    "    frequent_substr = reduce_pattern_length(item)\n",
    "    if len(frequent_substr) > 4 and len(frequent_substr) > 0.3*len(item):\n",
    "        print(\"extracted\", frequent_substr, \"from\", item)\n",
    "        # sucessfully reduced the pattern\n",
    "        return frequent_substr\n",
    "    return None"
   ]
  },
  {
   "cell_type": "code",
   "execution_count": 536,
   "id": "59573055",
   "metadata": {},
   "outputs": [],
   "source": [
    "def reduce_length_of_each_pattern(onlyassubstring, top20patterns):\n",
    "    \n",
    "    beforereduction = {}\n",
    "    # reducedfinalpat is the new list that contains all valid patterns after reduction plus the ones that does not need to be reduced\n",
    "    reducedfinalpat = []\n",
    "\n",
    "    for item in top20patterns:\n",
    "        # check the ones that has substring, see if their length can be reduced\n",
    "        if len(item) > 11 and item not in onlyassubstring:\n",
    "            #if the extracted pattern is too long, find longest repeated pattern within it\n",
    "            frequent_substr = check_reduction(item)\n",
    "            if frequent_substr != None:\n",
    "                if len(frequent_substr) > 23:\n",
    "                    # second attempt, if a frequent substring is takend and it is still quite long\n",
    "                    new_frequent_substr = check_reduction(frequent_substr)\n",
    "                    if new_frequent_substr != None:\n",
    "                        # if the second attempt is a success, take the twice reduced pattern\n",
    "                        reducedfinalpat.append(new_frequent_substr)\n",
    "                        beforereduction[new_frequent_substr] = item\n",
    "                    else:\n",
    "                        # if the second attempt failed, take the result of first reduction\n",
    "                        reducedfinalpat.append(frequent_substr)\n",
    "                        beforereduction[frequent_substr] = item\n",
    "                else:\n",
    "                    # if the extracted pattern is already not very long\n",
    "                    reducedfinalpat.append(frequent_substr)\n",
    "                    beforereduction[frequent_substr] = item\n",
    "            else:\n",
    "                # if the reduction failed, take the original\n",
    "                reducedfinalpat.append(item)\n",
    "        else:\n",
    "            # otherwise keep it without reduction\n",
    "            reducedfinalpat.append(item)\n",
    "    \n",
    "    return reducedfinalpat, beforereduction"
   ]
  },
  {
   "cell_type": "code",
   "execution_count": 537,
   "id": "415284e9",
   "metadata": {},
   "outputs": [
    {
     "name": "stdout",
     "output_type": "stream",
     "text": [
      "extracted FFFFGGMF from HFFFFGGMFFFFGGMFFFFGGMFGG\n"
     ]
    }
   ],
   "source": [
    "onlyassubstring = set(issubstring) - set(hassubstring)\n",
    "reducedfinalpat, beforereduction = reduce_length_of_each_pattern(onlyassubstring, list(set(top20patterns_combined)))"
   ]
  },
  {
   "cell_type": "code",
   "execution_count": 538,
   "id": "fa53f6fc",
   "metadata": {},
   "outputs": [],
   "source": [
    "def find_pattern_pos(string, pattern, beatstrength):\n",
    "    patpos_start = []\n",
    "    patpos_end = []\n",
    "    count = 0\n",
    "    beatcount = 0\n",
    "    for m in re.finditer(pattern, string):\n",
    "        count +=1\n",
    "        if beatstrength[m.start()] == 1: # or >= 0.5\n",
    "            beatcount+=1\n",
    "        patpos_start.append(m.start())\n",
    "        patpos_end.append(m.end())\n",
    "    return patpos_start, patpos_end, count, beatcount"
   ]
  },
  {
   "cell_type": "code",
   "execution_count": 539,
   "id": "527abc79",
   "metadata": {},
   "outputs": [],
   "source": [
    "def count_final_pattern(reducedfinalpat, strings, beatstrengths):\n",
    "\n",
    "    count_pattern = {}\n",
    "    refined_finalpat = []\n",
    "    startonsets = []\n",
    "    startpitches = []\n",
    "    endonsets = []\n",
    "    endpitches = []\n",
    "\n",
    "    for pattern in reducedfinalpat:\n",
    "        stringnum = 0\n",
    "        beat_importance = 0\n",
    "        for string in strings:\n",
    "            # find the pattern in eachvoice\n",
    "            patpos_start, patpos_end, count, beatcount = find_pattern_pos(string, pattern, beatstrengths[stringnum])\n",
    "            beat_importance += beatcount\n",
    "            if pattern not in count_pattern:\n",
    "                count_pattern[pattern] = count\n",
    "            else:\n",
    "                count_pattern[pattern] += count\n",
    "            if count != 0:\n",
    "                print(\"Pattern\", pattern, \"appears in voice no.\", stringnum+1, \", first pos starts at \", patpos_start[0], \"end at\", patpos_end[0])\n",
    "            num = 0\n",
    "            for startpos in patpos_start:\n",
    "                startonsets.append(noteoffsets[stringnum][startpos])\n",
    "                startpitches.append(midis[stringnum][startpos])\n",
    "                endonsets.append(noteoffsets[stringnum][patpos_end[num]])\n",
    "                endpitches.append(midis[stringnum][patpos_end[num]])\n",
    "                num+=1\n",
    "            stringnum+=1\n",
    "        if count_pattern[pattern] >= 2 and beat_importance > 0:\n",
    "            # get rid of the ones that actually appeared less than 2 times in total\n",
    "            refined_finalpat.append(pattern)\n",
    "        else:\n",
    "            if count_pattern[pattern] < 2:\n",
    "                print(\"discard pattern\", pattern, \"because it only appered once in total.\")\n",
    "            elif beat_importance == 0:\n",
    "                print(\"discard pattern\", pattern, \"because it never appeared at the start of a bar.\")\n",
    "                print(\"this pattern can be decoded as\", decode_strings(pattern))\n",
    "            \n",
    "    return refined_finalpat, count_pattern, startonsets, startpitches, endonsets, endpitches\n"
   ]
  },
  {
   "cell_type": "code",
   "execution_count": 540,
   "id": "d10503af",
   "metadata": {},
   "outputs": [
    {
     "name": "stdout",
     "output_type": "stream",
     "text": [
      "Pattern GMFGG appears in voice no. 1 , first pos starts at  51 end at 56\n",
      "Pattern GMFGG appears in voice no. 2 , first pos starts at  43 end at 48\n",
      "Pattern GMFGG appears in voice no. 3 , first pos starts at  36 end at 41\n",
      "discard pattern GMFGG because it never appeared at the start of a bar.\n",
      "this pattern can be decoded as 2A0A2D2A2A\n",
      "Pattern GGMFGG appears in voice no. 1 , first pos starts at  50 end at 56\n",
      "Pattern GGMFGG appears in voice no. 2 , first pos starts at  42 end at 48\n",
      "Pattern GGMFGG appears in voice no. 3 , first pos starts at  35 end at 41\n",
      "Pattern GGFFFFJEKCEIMMGGGFFFFGFFFFFFFGFFFFHFFFFGGMFFFFGGMFFFFGGMFGGGGMF appears in voice no. 3 , first pos starts at  114 end at 177\n",
      "discard pattern GGFFFFJEKCEIMMGGGFFFFGFFFFFFFGFFFFHFFFFGGMFFFFGGMFFFFGGMFGGGGMF because it only appered once in total.\n",
      "Pattern FFFFGGMF appears in voice no. 1 , first pos starts at  32 end at 40\n",
      "Pattern FFFFGGMF appears in voice no. 2 , first pos starts at  24 end at 32\n",
      "Pattern FFFFGGMF appears in voice no. 3 , first pos starts at  17 end at 25\n",
      "discard pattern FFFFGGMF because it never appeared at the start of a bar.\n",
      "this pattern can be decoded as 2D2D2D2D2A2A0A2D\n",
      "Pattern GGGFFFF appears in voice no. 1 , first pos starts at  19 end at 26\n",
      "Pattern GGGFFFF appears in voice no. 2 , first pos starts at  49 end at 56\n",
      "Pattern GGGFFFF appears in voice no. 3 , first pos starts at  42 end at 49\n",
      "discard pattern GGGFFFF because it never appeared at the start of a bar.\n",
      "this pattern can be decoded as 2A2A2A2D2D2D2D\n",
      "Pattern FFGG appears in voice no. 1 , first pos starts at  34 end at 38\n",
      "Pattern FFGG appears in voice no. 2 , first pos starts at  26 end at 30\n",
      "Pattern FFGG appears in voice no. 3 , first pos starts at  19 end at 23\n",
      "Pattern IAJEIEEEKEEEKEIFAGFFFFHFFFFGGMFFFFGGMFFFFGGMFGGMGGGFFFFMGGGFFFFGMMFGGGFFFFM appears in voice no. 2 , first pos starts at  1 end at 76\n",
      "discard pattern IAJEIEEEKEEEKEIFAGFFFFHFFFFGGMFFFFGGMFFFFGGMFGGMGGGFFFFMGGGFFFFGMMFGGGFFFFM because it only appered once in total.\n",
      "Pattern AGFFFFHFFFFGGMFFFFGGMFFFFGGMFGGMGGGFFFFMGGGFFFFG appears in voice no. 2 , first pos starts at  17 end at 65\n",
      "Pattern AGFFFFHFFFFGGMFFFFGGMFFFFGGMFGGMGGGFFFFMGGGFFFFG appears in voice no. 3 , first pos starts at  10 end at 58\n",
      "discard pattern AGFFFFHFFFFGGMFFFFGGMFFFFGGMFGGMGGGFFFFMGGGFFFFG because it never appeared at the start of a bar.\n",
      "this pattern can be decoded as 7D2A2D2D2D2D3A2D2D2D2D2A2A0A2D2D2D2D2A2A0A2D2D2D2D2A2A0A2D2A2A0A2A2A2A2D2D2D2D0A2A2A2A2D2D2D2D2A\n",
      "Pattern IAJEIEEEKEEEKEGGMMGGGFFFFGFFFFHFFFFGGMFFFFGGMFFFFGGMFGGDEIEM appears in voice no. 1 , first pos starts at  1 end at 61\n",
      "discard pattern IAJEIEEEKEEEKEGGMMGGGFFFFGFFFFHFFFFGGMFFFFGGMFFFFGGMFGGDEIEM because it only appered once in total.\n",
      "Pattern EIAJEIEEEKEEEKEGGMMGGGFFFFGFFFFHFFFFGGMFFFFGGMFFFFGGMFGGDEIEM appears in voice no. 1 , first pos starts at  0 end at 61\n",
      "discard pattern EIAJEIEEEKEEEKEGGMMGGGFFFFGFFFFHFFFFGGMFFFFGGMFFFFGGMFGGDEIEM because it only appered once in total.\n",
      "Pattern FFFGGMF appears in voice no. 1 , first pos starts at  33 end at 40\n",
      "Pattern FFFGGMF appears in voice no. 2 , first pos starts at  25 end at 32\n",
      "Pattern FFFGGMF appears in voice no. 3 , first pos starts at  18 end at 25\n",
      "discard pattern FFFGGMF because it never appeared at the start of a bar.\n",
      "this pattern can be decoded as 2D2D2D2A2A0A2D\n",
      "Pattern FFF appears in voice no. 1 , first pos starts at  22 end at 25\n",
      "Pattern FFF appears in voice no. 2 , first pos starts at  19 end at 22\n",
      "Pattern FFF appears in voice no. 3 , first pos starts at  12 end at 15\n",
      "Pattern GGFF appears in voice no. 1 , first pos starts at  20 end at 24\n",
      "Pattern GGFF appears in voice no. 2 , first pos starts at  50 end at 54\n",
      "Pattern GGFF appears in voice no. 3 , first pos starts at  43 end at 47\n",
      "Pattern GMF appears in voice no. 1 , first pos starts at  37 end at 40\n",
      "Pattern GMF appears in voice no. 2 , first pos starts at  29 end at 32\n",
      "Pattern GMF appears in voice no. 3 , first pos starts at  22 end at 25\n",
      "discard pattern GMF because it never appeared at the start of a bar.\n",
      "this pattern can be decoded as 2A0A2D\n",
      "Pattern FFFGGMFFFF appears in voice no. 1 , first pos starts at  33 end at 43\n",
      "Pattern FFFGGMFFFF appears in voice no. 2 , first pos starts at  25 end at 35\n",
      "Pattern FFFGGMFFFF appears in voice no. 3 , first pos starts at  18 end at 28\n",
      "discard pattern FFFGGMFFFF because it never appeared at the start of a bar.\n",
      "this pattern can be decoded as 2D2D2D2A2A0A2D2D2D2D\n",
      "Pattern FFFF appears in voice no. 1 , first pos starts at  22 end at 26\n",
      "Pattern FFFF appears in voice no. 2 , first pos starts at  19 end at 23\n",
      "Pattern FFFF appears in voice no. 3 , first pos starts at  12 end at 16\n",
      "Pattern MGGGFFFFMGGGFFFFGGGFFGGMCHCHICKGEGGGFFEIFFIAJEIEMGMFGGEICEIEEEKAKCHCHICFGGGFFFFJEKCEIMMGGGFFFFGFFFFFFFGFFFFHFFFFGGM appears in voice no. 3 , first pos starts at  41 end at 156\n",
      "discard pattern MGGGFFFFMGGGFFFFGGGFFGGMCHCHICKGEGGGFFEIFFIAJEIEMGMFGGEICEIEEEKAKCHCHICFGGGFFFFJEKCEIMMGGGFFFFGFFFFFFFGFFFFHFFFFGGM because it only appered once in total.\n",
      "Pattern FGGG appears in voice no. 1 , first pos starts at  63 end at 67\n",
      "Pattern FGGG appears in voice no. 2 , first pos starts at  67 end at 71\n",
      "Pattern FGGG appears in voice no. 3 , first pos starts at  56 end at 60\n",
      "Pattern GGG appears in voice no. 1 , first pos starts at  19 end at 22\n",
      "Pattern GGG appears in voice no. 2 , first pos starts at  49 end at 52\n",
      "Pattern GGG appears in voice no. 3 , first pos starts at  42 end at 45\n",
      "Pattern AJEI appears in voice no. 1 , first pos starts at  2 end at 6\n",
      "Pattern AJEI appears in voice no. 2 , first pos starts at  2 end at 6\n",
      "Pattern AJEI appears in voice no. 3 , first pos starts at  2 end at 6\n",
      "discard pattern AJEI because it never appeared at the start of a bar.\n",
      "this pattern can be decoded as 7D5A3D4A\n"
     ]
    }
   ],
   "source": [
    "finalpat, count_pattern, startonsets, startpitches, endonsets, endpitches = count_final_pattern(reducedfinalpat, strings, beatstrengths)"
   ]
  },
  {
   "cell_type": "code",
   "execution_count": 541,
   "id": "2aacc75d",
   "metadata": {},
   "outputs": [],
   "source": [
    "def decode_results(finalpat, count_pattern, combined, beforereduction):\n",
    "    \n",
    "    decoded_patterns = []\n",
    "    decoded_patterns_weighed = {}\n",
    "    decoded_patterns_count = {}\n",
    "    decoded_patterns_combined = {}\n",
    "    \n",
    "    decode_dia_intervals = {'A': '7D', 'B': '6D', 'C': '5D', 'D': '4D', 'E': '3D', 'F': '2D', \n",
    "                            'G': '2A', 'H': '3A', 'I': '4A', 'J': '5A', 'K': '6A', 'L': '7A', 'M': '0A'}\n",
    "\n",
    "    # decode all the candidates for patterns\n",
    "    for pattern in finalpat:\n",
    "        trans_pattern = \"\"\n",
    "        for letter in pattern:\n",
    "            trans = decode_dia_intervals[letter]\n",
    "            trans_pattern += trans\n",
    "\n",
    "        decoded_patterns_count[trans_pattern] = count_pattern[pattern]\n",
    "        \n",
    "        if pattern in combined:\n",
    "            # some might be reduced to a shorter pattern\n",
    "            decoded_patterns_combined[trans_pattern] = combined[pattern]\n",
    "        else:\n",
    "            decoded_patterns_combined[trans_pattern] = combined[beforereduction[pattern]]\n",
    "        decoded_patterns.append(trans_pattern)\n",
    "        \n",
    "    return decoded_patterns, decoded_patterns_combined, decoded_patterns_count\n"
   ]
  },
  {
   "cell_type": "code",
   "execution_count": 542,
   "id": "2922422b",
   "metadata": {},
   "outputs": [],
   "source": [
    "def decode_strings(string):\n",
    "    \n",
    "    decode_dia_intervals = {'A': '7D', 'B': '6D', 'C': '5D', 'D': '4D', 'E': '3D', 'F': '2D', \n",
    "                            'G': '2A', 'H': '3A', 'I': '4A', 'J': '5A', 'K': '6A', 'L': '7A', 'M': '0A'}\n",
    "    \n",
    "    decode_string = \"\"\n",
    "\n",
    "    for letter in string:\n",
    "        trans = decode_dia_intervals[letter]\n",
    "        decode_string+=trans\n",
    "\n",
    "    return decode_string"
   ]
  },
  {
   "cell_type": "code",
   "execution_count": 543,
   "id": "52f91910",
   "metadata": {},
   "outputs": [
    {
     "name": "stdout",
     "output_type": "stream",
     "text": [
      "3D4A7D5A3D4A3D3D3D6A3D3D3D6A3D2A2A0A0A2A2A2A2D2D2D2D2A2D2D2D2D3A2D2D2D2D2A2A0A2D2D2D2D2A2A0A2D2D2D2D2A2A0A2D2A2A4D3D4A3D0A2A0A2D2A2A2A2A2A2A2A2A2A2D4A7D5A3D4A3D3D3D6A3D3D2A2A2A2D2D2D2D3A2A2A2A2A2D2D2D2D2D2D2D2A2D2D2D2D2D2D2D2A2D0A5D4A0A2D4A0A3A5D3A5D3A0A4A2D2D2D2D3A3A3A2D3D2D2D2A2A5D7A2D4A3D4A7D5A3D4A3D3D3A3D4A3D3D3D6A3D3D3D6A3D0A2D2A2A2A2A2A2A2A2D2D2D2D2D2D2D4A2D2D2D2D2D2D2D4A2D2D2D2D2D2D2D6A2D2A2A0A2D2A2A0A2A5D3A2A\n",
      "\n",
      "2D4A7D5A3D4A3D3D3D6A3D3D3D6A3D4A2D7D2A2D2D2D2D3A2D2D2D2D2A2A0A2D2D2D2D2A2A0A2D2D2D2D2A2A0A2D2A2A0A2A2A2A2D2D2D2D0A2A2A2A2D2D2D2D2A0A0A2D2A2A2A2D2D2D2D0A0A2A2A2A2D2D2D2D4D4A4A3A5D3A5D3A3A3D4A5D3D4A3D0A2A0A2D2A2A7A2D5A0A5D4A2D2D2D2D3A2D2D2D2D2A2A0A2D2D2D2D2A2A0A2D2D2D2D2A2A0A2D2A2A2D3D6A3D0A2A2A2A2D2D2D2D3A5D3A2D4A7D5A3D4A3D6A2D2D2D2D3A3A3A2D3D2D2D2A2A5D7A2D2A2A2A0A2D2A3D5D3A5D3A5D0A0A5D3A5D3A5D0A4D3D6A2A2A2D2D2D2D2D2D2A3D2D2D2A5A2D2D2D2D2D2D6A2D2D2D2D2D2D2D2A5A2A2A2D2D2A2A3A7D3A2A\n",
      "\n",
      "3D4A7D5A3D4A3D3D3D6A7D2A2D2D2D2D3A2D2D2D2D2A2A0A2D2D2D2D2A2A0A2D2D2D2D2A2A0A2D2A2A0A2A2A2A2D2D2D2D0A2A2A2A2D2D2D2D2A2A2A2D2D2A2A0A5D3A5D3A4A5D6A2A3D2A2A2A2D2D3D4A2D2D4A7D5A3D4A3D0A2A0A2D2A2A3D4A5D3D4A3D3D3D6A7D6A5D3A5D3A4A5D2D2A2A2A2D2D2D2D5A3D6A5D3D4A0A0A2A2A2A2D2D2D2D2A2D2D2D2D2D2D2D2A2D2D2D2D3A2D2D2D2D2A2A0A2D2D2D2D2A2A0A2D2D2D2D2A2A0A2D2A2A2A2A0A2D2A2A2A2A0A2D2A2A2A2A0A2D2A2A2A2A0A2D2A2A2A2A0A2D2A2A2D2A2A2D2D2D2D2D2A2A2A2D2D2D2D2A2A0A2D2D2D2D2A2A0A2D2D2D2D2A2A0A2D2A2A2A2A0A2D2D2D2D2A2A0A2D2D2D2D2A2A0A2D2A2A2A2A2A2A2D2D2D2D2D2A2A2A2D2D2D2D2A2A2A2A2A2A2A0A2D2D2D2D2D4A7D5A3D4A3D3D4D3A2D2D2D2A2A2D2D2A5D\n",
      "\n"
     ]
    }
   ],
   "source": [
    "decoded_strings = []\n",
    "for string in strings:\n",
    "    decoded = decode_strings(string)\n",
    "    decoded_strings.append(decoded)\n",
    "    print(decoded)\n",
    "    print(\"\")"
   ]
  },
  {
   "cell_type": "code",
   "execution_count": 544,
   "id": "e3811e90",
   "metadata": {},
   "outputs": [
    {
     "name": "stdout",
     "output_type": "stream",
     "text": [
      "Pattern: 2A2A0A2D2A2A\n",
      "importance score: 19 occurrence: 13\n",
      "Pattern: 2D2D2A2A\n",
      "importance score: 46 occurrence: 29\n",
      "Pattern: 2D2D2D\n",
      "importance score: 103 occurrence: 61\n",
      "Pattern: 2A2A2D2D\n",
      "importance score: 33 occurrence: 22\n",
      "Pattern: 2D2D2D2D\n",
      "importance score: 85 occurrence: 51\n",
      "Pattern: 2D2A2A2A\n",
      "importance score: 18 occurrence: 16\n",
      "Pattern: 2A2A2A\n",
      "importance score: 46 occurrence: 32\n"
     ]
    }
   ],
   "source": [
    "# Decode patterns\n",
    "decoded_patterns, decoded_patterns_combined, decoded_patterns_count = decode_results(finalpat, count_pattern, combined, beforereduction)\n",
    "    \n",
    "\n",
    "\n",
    "for pattern in decoded_patterns:\n",
    "        print(\"Pattern:\", pattern)\n",
    "        print(\"importance score:\", decoded_patterns_combined[pattern],\n",
    "              \"occurrence:\", decoded_patterns_count[pattern])\n"
   ]
  },
  {
   "cell_type": "code",
   "execution_count": 545,
   "id": "01510636",
   "metadata": {},
   "outputs": [
    {
     "data": {
      "text/plain": [
       "['2A2A0A2D2A2A',\n",
       " '2D2D2A2A',\n",
       " '2D2D2D',\n",
       " '2A2A2D2D',\n",
       " '2D2D2D2D',\n",
       " '2D2A2A2A',\n",
       " '2A2A2A']"
      ]
     },
     "execution_count": 545,
     "metadata": {},
     "output_type": "execute_result"
    }
   ],
   "source": [
    "decoded_patterns"
   ]
  },
  {
   "cell_type": "code",
   "execution_count": 546,
   "id": "31669153",
   "metadata": {},
   "outputs": [
    {
     "name": "stdout",
     "output_type": "stream",
     "text": [
      "['jkupddtest/chopinmono/A', 'jkupddtest/chopinmono/mazurka24-4.krn', 'jkupddtest/chopinmono/B']\n",
      "jkupddtest/chopinmono/B/occ5.csv\n",
      "3D3A3D2D2A2D2D2A2D5A4D4A4D2D2D2D2D3A3D5A3D3A3D2D2A2D2A2A2D2D6D2A\n",
      "jkupddtest/chopinmono/B/occ1.csv\n",
      "3D3A3D2D2A2D2D5A4D4A4D2D2D2D2D5A3D3A3D2D2A2D2A2A2D2D6D2A\n",
      "jkupddtest/chopinmono/B/occ7.csv\n",
      "3D3A3D2D2A2D2D2A2D5A4D4A4D2D2D2D2D3A3D5A3D3A3D2D2A2D2A2A2D2D6D2A\n",
      "jkupddtest/chopinmono/B/occ2.csv\n",
      "3D3A3D2D2A2D2D5A4D4A4D2D2D2D2D5A3D3A3D2D2A2D2A2D2D4D2D2D\n",
      "jkupddtest/chopinmono/B/occ6.csv\n",
      "3D3A3D2D2A2D2D5A4D4A4D2D2D2D2D5A3D3A3D2D2A2D2A2D2D4D2D2D\n",
      "jkupddtest/chopinmono/B/occ4.csv\n",
      "3D3A3D2D2A2D2D5A4D4A4D2D2D2D2D5A3D3A3D2D2A2D2A2D2D4D2D2D\n",
      "jkupddtest/chopinmono/B/occ3.csv\n",
      "3D3A3D2D2A2D2D2A2D5A4D4A4D2D2D2D2D3A3D5A3D3A3D2D2A2D2A2A2D2D6D2A\n"
     ]
    }
   ],
   "source": [
    "# Get patterns from ground truth\n",
    "\n",
    "dict_wordtonum = {\"Unison\": '2', \"Second\": '2', \"Third\": '3', \"Fourth\": '4', \"Fifth\": '5', \"Sixth\": '6', \"Seventh\": '7'}\n",
    "    \n",
    "groundtruthpatterns = []\n",
    "print(glob.glob(\"jkupddtest/chopinmono/*\"))\n",
    "filenames = glob.glob(\"jkupddtest/chopinmono/B/*.csv\")\n",
    "for filename in filenames:\n",
    "    print(filename)\n",
    "    with open(filename, 'r') as file:\n",
    "        csvreader = csv.reader(file)\n",
    "        gts = []\n",
    "        gtm = []\n",
    "        pattern_gt = []\n",
    "        for row in csvreader:\n",
    "            gts.append(float(row[0]))\n",
    "            gtm.append(float(row[1]))\n",
    "        for i in gtm:\n",
    "            pattern_gt.append(m21.note.Note(i))\n",
    "        pattern_string = \"\"\n",
    "        interval_string = \"\"\n",
    "        for i in pattern_gt:\n",
    "            pattern_string += str(i)\n",
    "            \n",
    "        for i in range(1, len(pattern_gt)):           \n",
    "            gap = pattern_gt[i].pitch.diatonicNoteNum - pattern_gt[i-1].pitch.diatonicNoteNum\n",
    "            if gap > 0:\n",
    "                direction = 'A'\n",
    "            else:\n",
    "                direction = 'D'\n",
    "            m21_interval_directed = m21.interval.Interval(noteStart=pattern_gt[i-1], noteEnd=pattern_gt[i]).directedSimpleNiceName\n",
    "            arr_diatonic = m21_interval_directed.split(\" \")\n",
    "            m21_generic = dict_wordtonum[arr_diatonic[-1]]\n",
    "            m21_interval = m21_generic+direction\n",
    "            \n",
    "            interval_string+=m21_interval\n",
    "            \n",
    "        print(interval_string)\n",
    "\n",
    "        groundtruthpatterns.append(interval_string)\n"
   ]
  },
  {
   "cell_type": "code",
   "execution_count": 547,
   "id": "1f292cc0",
   "metadata": {},
   "outputs": [
    {
     "data": {
      "text/plain": [
       "{'3D3A3D2D2A2D2D2A2D5A4D4A4D2D2D2D2D3A3D5A3D3A3D2D2A2D2A2A2D2D6D2A',\n",
       " '3D3A3D2D2A2D2D5A4D4A4D2D2D2D2D5A3D3A3D2D2A2D2A2A2D2D6D2A',\n",
       " '3D3A3D2D2A2D2D5A4D4A4D2D2D2D2D5A3D3A3D2D2A2D2A2D2D4D2D2D'}"
      ]
     },
     "execution_count": 547,
     "metadata": {},
     "output_type": "execute_result"
    }
   ],
   "source": [
    "set(groundtruthpatterns)"
   ]
  },
  {
   "cell_type": "code",
   "execution_count": 517,
   "id": "b761cec0",
   "metadata": {},
   "outputs": [
    {
     "name": "stdout",
     "output_type": "stream",
     "text": [
      "pattern 3D3A3D2D2A2D2D2A2D5A4D4A4D2D2D2D2D3A3D5A3D3A3D2D2A2D2A2A2D2D6D2A not in original score\n",
      "pattern 3D3A3D2D2A2D2D5A4D4A4D2D2D2D2D5A3D3A3D2D2A2D2A2A2D2D6D2A not in original score\n",
      "pattern 3D3A3D2D2A2D2D2A2D5A4D4A4D2D2D2D2D3A3D5A3D3A3D2D2A2D2A2A2D2D6D2A not in original score\n",
      "pattern 3D3A3D2D2A2D2D5A4D4A4D2D2D2D2D5A3D3A3D2D2A2D2A2D2D4D2D2D not in original score\n",
      "pattern 3D3A3D2D2A2D2D5A4D4A4D2D2D2D2D5A3D3A3D2D2A2D2A2D2D4D2D2D not in original score\n",
      "pattern 3D3A3D2D2A2D2D5A4D4A4D2D2D2D2D5A3D3A3D2D2A2D2A2D2D4D2D2D not in original score\n",
      "pattern 3D3A3D2D2A2D2D2A2D5A4D4A4D2D2D2D2D3A3D5A3D3A3D2D2A2D2A2A2D2D6D2A not in original score\n"
     ]
    }
   ],
   "source": [
    "for pattern in groundtruthpatterns:\n",
    "    count = 0\n",
    "    for decodedstring in decoded_strings:\n",
    "        count += decodedstring.count(pattern)\n",
    "    if count == 0:\n",
    "        print(\"pattern\", pattern, \"not in original score\")\n",
    "    elif count == 1:\n",
    "        print(\"pattern\", pattern, \"only appeared once\")\n",
    "    else:\n",
    "        print(\"pattern\", pattern, \"appeared\", count, \"times in total\")"
   ]
  },
  {
   "cell_type": "code",
   "execution_count": 333,
   "id": "d4b47c46",
   "metadata": {},
   "outputs": [],
   "source": [
    "##CHECK IF THERE IS A MATCH\n",
    "\n",
    "for i in groundtruthpatterns:\n",
    "    if i in finalpat: #refined_finalpat:\n",
    "        print(\"found a match:\", i)"
   ]
  },
  {
   "cell_type": "code",
   "execution_count": null,
   "id": "e5c7ba74",
   "metadata": {},
   "outputs": [],
   "source": []
  },
  {
   "cell_type": "code",
   "execution_count": 263,
   "id": "90018dd8",
   "metadata": {},
   "outputs": [],
   "source": [
    "#TEST2\n"
   ]
  },
  {
   "cell_type": "code",
   "execution_count": 270,
   "id": "03c3b9f1",
   "metadata": {},
   "outputs": [
    {
     "name": "stdout",
     "output_type": "stream",
     "text": [
      "['jkupddtest/bachmono/B/midi/occ1.midi_part1.csv', 'jkupddtest/bachmono/B/midi/occ2.midi_part1.csv', 'jkupddtest/bachmono/B/midi/occ4.midi_part1.csv', 'jkupddtest/bachmono/B/midi/occ7.midi_part1.csv', 'jkupddtest/bachmono/B/midi/occ3.midi_part1.csv', 'jkupddtest/bachmono/B/midi/occ6.midi_part1.csv', 'jkupddtest/bachmono/B/midi/occ5.midi_part1.csv']\n",
      "jkupddtest/bachmono/B/midi/occ1.midi_part1.csv\n",
      "2D2D2D2D2A2D2D2D2D2A2A2D2D2D2D2A2A2D2D2D2D2A2A0A2D2A2A\n",
      "jkupddtest/bachmono/B/midi/occ2.midi_part1.csv\n",
      "2D2D2D2D2A2D2D2D2D2A2A2D2D2D2D2A2A2D2D2D2D2A2A0A2D2A2A\n",
      "jkupddtest/bachmono/B/midi/occ4.midi_part1.csv\n",
      "2D2D2D2D2A2D2D2D2D2A2A2D2D2D0A0A2A2D0A2D2D2A2A0A2D2A0A\n",
      "jkupddtest/bachmono/B/midi/occ7.midi_part1.csv\n",
      "2A2A2D2D2D2D2A2A2D2D2D2D2A2A0A2D2A2A\n",
      "jkupddtest/bachmono/B/midi/occ3.midi_part1.csv\n",
      "2D2D2D2D2A2D2D2D2D2A2A2D2D2D0A0A2A2D0A2D2D2A2A0A2D2A0A\n",
      "jkupddtest/bachmono/B/midi/occ6.midi_part1.csv\n",
      "2D2D2D2D2A2D2D2D2D2A2A2D2D2D2D2A2A2D2D2D2D2A2A0A2D2A2A\n",
      "jkupddtest/bachmono/B/midi/occ5.midi_part1.csv\n",
      "2D2D2D2D2A2D2D2D2D2A2A2D2D2D2D2A2A2D2D2D2D2A2A0A2D2A2A\n"
     ]
    }
   ],
   "source": [
    "#groundtruthpath1 = \"jkupddtest/gibbonsmono/silverswan.krn\"\n",
    "import pandas as pd\n",
    "gtfiles = glob.glob(\"jkupddtest/bachmono/B/midi/*.csv\")\n",
    "print(gtfiles)\n",
    "gtstrings = []\n",
    "for gtfile in gtfiles:\n",
    "    print(gtfile)\n",
    "    with open(gtfile, 'r') as file:\n",
    "        df = pd.read_csv(file)\n",
    "        #print(df)\n",
    "        #for midi_note_num in df[\"midi_note_num\"]:\n",
    "        #    print(midi_note_num)\n",
    "        count = 0\n",
    "        gtstring = \"\"\n",
    "        for diatonic in df[\"diatonic_interval\"]:\n",
    "            if count == 0:\n",
    "                # ignore the first \"interval\" number which is always 0\n",
    "                count+=1\n",
    "                continue\n",
    "            count+=1\n",
    "            # just to format the input\n",
    "            if diatonic == -1:\n",
    "                diatonic = -2\n",
    "            if diatonic == 1:\n",
    "                diatonic = 2\n",
    "            if diatonic < 0:\n",
    "                dia = str(abs(diatonic)) + 'D'\n",
    "            else:\n",
    "                dia = str(abs(diatonic)) + 'A'\n",
    "            gtstring += dia\n",
    "        gtstrings.append(gtstring)\n",
    "        print(gtstring)\n",
    "            "
   ]
  },
  {
   "cell_type": "code",
   "execution_count": 271,
   "id": "b9d22507",
   "metadata": {},
   "outputs": [
    {
     "name": "stdout",
     "output_type": "stream",
     "text": [
      "{'2D2D2D2D2A2D2D2D2D2A2A2D2D2D0A0A2A2D0A2D2D2A2A0A2D2A0A', '2D2D2D2D2A2D2D2D2D2A2A2D2D2D2D2A2A2D2D2D2D2A2A0A2D2A2A', '2A2A2D2D2D2D2A2A2D2D2D2D2A2A0A2D2A2A'}\n"
     ]
    }
   ],
   "source": [
    "print(set(gtstrings))"
   ]
  },
  {
   "cell_type": "code",
   "execution_count": 272,
   "id": "8134d525",
   "metadata": {},
   "outputs": [
    {
     "name": "stdout",
     "output_type": "stream",
     "text": [
      "pattern 2D2D2D2D2A2D2D2D2D2A2A2D2D2D2D2A2A2D2D2D2D2A2A0A2D2A2A not in original score\n",
      "pattern 2D2D2D2D2A2D2D2D2D2A2A2D2D2D2D2A2A2D2D2D2D2A2A0A2D2A2A not in original score\n",
      "pattern 2D2D2D2D2A2D2D2D2D2A2A2D2D2D0A0A2A2D0A2D2D2A2A0A2D2A0A not in original score\n",
      "pattern 2A2A2D2D2D2D2A2A2D2D2D2D2A2A0A2D2A2A not in original score\n",
      "pattern 2D2D2D2D2A2D2D2D2D2A2A2D2D2D0A0A2A2D0A2D2D2A2A0A2D2A0A not in original score\n",
      "pattern 2D2D2D2D2A2D2D2D2D2A2A2D2D2D2D2A2A2D2D2D2D2A2A0A2D2A2A not in original score\n",
      "pattern 2D2D2D2D2A2D2D2D2D2A2A2D2D2D2D2A2A2D2D2D2D2A2A0A2D2A2A not in original score\n"
     ]
    }
   ],
   "source": [
    "for pattern in gtstrings:\n",
    "    count = 0\n",
    "    for decodedstring in decoded_strings:\n",
    "        count += decodedstring.count(pattern)\n",
    "    if count == 0:\n",
    "        print(\"pattern\", pattern, \"not in original score\")\n",
    "    elif count == 1:\n",
    "        print(\"pattern\", pattern, \"only appeared once\")\n",
    "    else:\n",
    "        print(\"pattern\", pattern, \"appeared\", count, \"times in total\")"
   ]
  },
  {
   "cell_type": "code",
   "execution_count": null,
   "id": "32b21a0b",
   "metadata": {},
   "outputs": [],
   "source": []
  },
  {
   "cell_type": "code",
   "execution_count": null,
   "id": "f1369903",
   "metadata": {},
   "outputs": [],
   "source": []
  }
 ],
 "metadata": {
  "kernelspec": {
   "display_name": "Python 3 (ipykernel)",
   "language": "python",
   "name": "python3"
  },
  "language_info": {
   "codemirror_mode": {
    "name": "ipython",
    "version": 3
   },
   "file_extension": ".py",
   "mimetype": "text/x-python",
   "name": "python",
   "nbconvert_exporter": "python",
   "pygments_lexer": "ipython3",
   "version": "3.9.5"
  }
 },
 "nbformat": 4,
 "nbformat_minor": 5
}
